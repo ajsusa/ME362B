{
 "cells": [
  {
   "cell_type": "markdown",
   "metadata": {
    "collapsed": true,
    "pycharm": {
     "name": "#%% md\n"
    }
   },
   "source": [
    "# Tutorial #2: Cantera and User-Defined Functions\n",
    "\n",
    "__Motivation:__\n",
    "\n",
    "Now is the point in this course where we will introduce and use the Cantera software package to perform detailed\n",
    " kinetic simulations.\n",
    "Some of you may have previously used Cantera in Thermodynamics to access thermodynamic data and view equilibrium\n",
    " chemistry.\n",
    "Regardless of whether you have had previous exposure, here we're going to introduce you to the chemical-kinetic\n",
    " capabilities of Cantera and guide you through using them."
   ]
  },
  {
   "cell_type": "markdown",
   "source": [
    "## 1. User-Defined Functions\n",
    "\n",
    "Prior to launching into Cantera, we first take a moment to introduce user-defined functions.\n",
    "Defining functions allows for modularizing and reusing code, which greatly simplifies the implementation of complex\n",
    " computational tasks.\n",
    "\n",
    "The basic form for defining a function in Python is as follows:\n",
    "```\n",
    "def <function_name>(<args*>, <kwargs**>):\n",
    "    code...\n",
    "    ...\n",
    "    ...\n",
    "    return <return variable(s)>\n",
    "```\n",
    "\n",
    "In this form:\n",
    "* `def` is the keyword that tells Python we are defining a function\n",
    "* `<function_name>` is the name we will use to reference our new function\n",
    "* `<args*>` is a list of required arguments (variables) that are:\n",
    "  * required by the function\n",
    "  * provided to the function in a pre-determined order\n",
    "* `<kwargs*>` is a list of keyword arguments that are:\n",
    "  * optional whether you provide them when running the function\n",
    "  * specified with a default value that is used if no other value is provided\n",
    "* `:` ends the function definition line\n",
    "* whitespace: code within a function must be consistently padded by whitespace\n",
    "  * Python interprets encountering non-tabbed code as having reached the end of the function\n",
    "* `return` keyword passes the argument(s) listed after it back to the calling code\n",
    "  * If more than one value is listed, the values are grouped and returned as a tuple"
   ],
   "metadata": {
    "collapsed": false,
    "pycharm": {
     "name": "#%% md\n"
    }
   }
  },
  {
   "cell_type": "markdown",
   "source": [
    "Let's look at some example function definitions, starting with the area of a triangle"
   ],
   "metadata": {
    "collapsed": false,
    "pycharm": {
     "name": "#%% md\n"
    }
   }
  },
  {
   "cell_type": "code",
   "execution_count": 1,
   "outputs": [
    {
     "data": {
      "text/plain": "3.0"
     },
     "execution_count": 1,
     "metadata": {},
     "output_type": "execute_result"
    }
   ],
   "source": [
    "def triangle_area(base, height):\n",
    "    return 0.5 * base * height\n",
    "\n",
    "triangle_area(3, 2)"
   ],
   "metadata": {
    "collapsed": false,
    "pycharm": {
     "name": "#%%\n"
    }
   }
  },
  {
   "cell_type": "markdown",
   "source": [
    "That wasn't so hard!\n",
    "\n",
    "While this example is pretty trivial, it let's us see how we might use it to implement more advanced functionality, like\n",
    " input validation."
   ],
   "metadata": {
    "collapsed": false,
    "pycharm": {
     "name": "#%% md\n"
    }
   }
  },
  {
   "cell_type": "code",
   "execution_count": 2,
   "outputs": [
    {
     "name": "stdout",
     "output_type": "stream",
     "text": [
      "3.0\n"
     ]
    }
   ],
   "source": [
    "def triangle_area(base, height):\n",
    "    if base < 0 or height < 0:\n",
    "        raise Exception('Base and height of a triangle must be non-negative')\n",
    "    return 0.5 * base * height\n",
    "\n",
    "print(triangle_area(3, 2))\n",
    "# print(triangle_area(-3, 2))"
   ],
   "metadata": {
    "collapsed": false,
    "pycharm": {
     "name": "#%%\n"
    }
   }
  },
  {
   "cell_type": "markdown",
   "source": [
    "We know that the dimensions of a triangle have to be positive, so we can check for that and `raise` a custom `Exception`\n",
    " message if a negative value is encountered."
   ],
   "metadata": {
    "collapsed": false,
    "pycharm": {
     "name": "#%% md\n"
    }
   }
  },
  {
   "cell_type": "markdown",
   "source": [
    "To illustrate the use of keyword arguments, imagine we want to compute points along a line of the form `y = mx + b`,\n",
    " and let's assume that `b` is _usually_ zero.\n",
    "We want to make our function generalizable (i.e. be _able_ to specify other values of `b`), but we don't want to have to\n",
    " enter `b` in all the cases where it is, in fact, zero."
   ],
   "metadata": {
    "collapsed": false,
    "pycharm": {
     "name": "#%% md\n"
    }
   }
  },
  {
   "cell_type": "code",
   "execution_count": 3,
   "outputs": [
    {
     "name": "stdout",
     "output_type": "stream",
     "text": [
      "6\n",
      "0\n",
      "1.0\n"
     ]
    }
   ],
   "source": [
    "def y(m, x, b=0):\n",
    "    return m * x + b\n",
    "\n",
    "print(y(2, 3))\n",
    "print(y(0, 2))\n",
    "print(y(0, 2, b=1.))"
   ],
   "metadata": {
    "collapsed": false,
    "pycharm": {
     "name": "#%%\n"
    }
   }
  },
  {
   "cell_type": "markdown",
   "source": [
    "In the first two cases, we don't specify a value for `b`, and the default of zero is used.\n",
    "In the final example, the value of `b` is overwritten by providing a keyword argument."
   ],
   "metadata": {
    "collapsed": false,
    "pycharm": {
     "name": "#%% md\n"
    }
   }
  },
  {
   "cell_type": "markdown",
   "source": [
    "## 2. Cantera\n",
    "\n",
    "We are finally here, ready to introduce Cantera for Python.\n",
    "The material covered in this tutorial is not meant to be comprehensive, but should cover what you need to know to do the\n",
    " problem set.\n",
    "We additionally hope this material will allow you to get you feet wet enough to be able to start making sense of the\n",
    " documentation, describing the full functionality of Cantera, which can be found here:\n",
    "[Cantera Documentation](https://cantera.org/documentation/docs-2.4/sphinx/html/cython/index.html)"
   ],
   "metadata": {
    "collapsed": false,
    "pycharm": {
     "name": "#%% md\n"
    }
   }
  },
  {
   "cell_type": "markdown",
   "source": [
    "For consistency, we always import Cantera using the name `ct`.\n",
    "We will also go ahead and import some additional useful packages right away."
   ],
   "metadata": {
    "collapsed": false,
    "pycharm": {
     "name": "#%% md\n"
    }
   }
  },
  {
   "cell_type": "code",
   "execution_count": 4,
   "outputs": [],
   "source": [
    "import cantera as ct\n",
    "import numpy as np\n",
    "import matplotlib.pyplot as plt\n",
    "import os"
   ],
   "metadata": {
    "collapsed": false,
    "pycharm": {
     "name": "#%%\n"
    }
   }
  },
  {
   "cell_type": "markdown",
   "source": [
    "### 2a. Initialize a solution object\n",
    "\n",
    "For this example, we will use the \"Stanford Mechanism v1.2\".\n",
    "This mechanism is not built-in to Cantera (the way 'GRI Mech 3.0' is), so we must get the file path to the mechanism\n",
    " '.cti' file stored elsewhere in the repository."
   ],
   "metadata": {
    "collapsed": false,
    "pycharm": {
     "name": "#%% md\n"
    }
   }
  },
  {
   "cell_type": "code",
   "execution_count": 5,
   "outputs": [
    {
     "data": {
      "text/plain": "'C:\\\\Users\\\\asusa\\\\pycharm_projects\\\\me362b_winter2021\\\\mechanisms\\\\stanford-mech_v12.cti'"
     },
     "execution_count": 5,
     "metadata": {},
     "output_type": "execute_result"
    }
   ],
   "source": [
    "mech_file = os.path.abspath('../mechanisms/stanford-mech_v12.cti')\n",
    "mech_file"
   ],
   "metadata": {
    "collapsed": false,
    "pycharm": {
     "name": "#%%\n"
    }
   }
  },
  {
   "cell_type": "markdown",
   "source": [
    "We can now pass this filepath as an argument to the `ct.Solution` class to create an instance of the class based on this\n",
    " mechanism.\n",
    "\n",
    "Placing empty parenthesis `()` after the Solution instance name produces an output of it's state."
   ],
   "metadata": {
    "collapsed": false,
    "pycharm": {
     "name": "#%% md\n"
    }
   }
  },
  {
   "cell_type": "code",
   "execution_count": 6,
   "outputs": [
    {
     "name": "stdout",
     "output_type": "stream",
     "text": [
      "\n",
      "  Stanford_v1.2:\n",
      "\n",
      "       temperature             300  K\n",
      "          pressure          101325  Pa\n",
      "           density       0.0818891  kg/m^3\n",
      "  mean mol. weight         2.01588  amu\n",
      "\n",
      "                          1 kg            1 kmol\n",
      "                       -----------      ------------\n",
      "          enthalpy           26470        5.336e+04     J\n",
      "   internal energy     -1.2109e+06       -2.441e+06     J\n",
      "           entropy           64914        1.309e+05     J/K\n",
      "    Gibbs function     -1.9448e+07        -3.92e+07     J\n",
      " heat capacity c_p           14312        2.885e+04     J/K\n",
      " heat capacity c_v           10187        2.054e+04     J/K\n",
      "\n",
      "                           X                 Y          Chem. Pot. / RT\n",
      "                     -------------     ------------     ------------\n",
      "                H2              1                1         -15.7173\n",
      "     [   +9 minor]              0                0\n",
      "\n"
     ]
    }
   ],
   "source": [
    "gas = ct.Solution(mech_file)\n",
    "gas()"
   ],
   "metadata": {
    "collapsed": false,
    "pycharm": {
     "name": "#%%\n"
    }
   }
  },
  {
   "cell_type": "markdown",
   "source": [
    "### 2b. Accessing and assigning state variables\n",
    "\n",
    "Properties, accessed with dot notation but without `()` or arguments, are used to access state properies of `gas`"
   ],
   "metadata": {
    "collapsed": false,
    "pycharm": {
     "name": "#%% md\n"
    }
   }
  },
  {
   "cell_type": "code",
   "execution_count": 7,
   "outputs": [
    {
     "name": "stdout",
     "output_type": "stream",
     "text": [
      "T = 300.0 K\n",
      "P = 101325 Pa\n",
      "rho = 0.0819 kg/m^3\n",
      "TPX = (300.0, 101324.99999999999, array([1., 0., 0., 0., 0., 0., 0., 0., 0., 0.]))\n"
     ]
    }
   ],
   "source": [
    "print(f'T = {gas.T:3.1f} K')\n",
    "print(f'P = {gas.P:3.0f} Pa')\n",
    "print(f'rho = {gas.density_mass:5.4f} kg/m^3')\n",
    "print(f'TPX = {gas.TPX}')"
   ],
   "metadata": {
    "collapsed": false,
    "pycharm": {
     "name": "#%%\n"
    }
   }
  },
  {
   "cell_type": "markdown",
   "source": [
    "We can also set properties through assignment.\n",
    "We cannot assign temperature or pressure one at a time, as it would result in ambiguity as to what constraint to\n",
    " enforce (constant volume, constant enthalpy, constant entropy, etc.).\n",
    "However, we can assign pairs of state variables, wherein we can maintain a value as constant."
   ],
   "metadata": {
    "collapsed": false,
    "pycharm": {
     "name": "#%% md\n"
    }
   }
  },
  {
   "cell_type": "code",
   "execution_count": 8,
   "outputs": [
    {
     "name": "stdout",
     "output_type": "stream",
     "text": [
      "T = 1200.0 K\n",
      "P = 101325 Pa\n",
      "T = 1200.0 K\n",
      "P = 1000000 Pa\n"
     ]
    }
   ],
   "source": [
    "gas.TP = 1200, gas.P\n",
    "print(f'T = {gas.T:3.1f} K')\n",
    "print(f'P = {gas.P:3.0f} Pa')\n",
    "\n",
    "gas.TP = gas.T, 1e6\n",
    "print(f'T = {gas.T:3.1f} K')\n",
    "print(f'P = {gas.P:3.0f} Pa')"
   ],
   "metadata": {
    "collapsed": false,
    "pycharm": {
     "name": "#%%\n"
    }
   }
  },
  {
   "cell_type": "markdown",
   "source": [
    "### 2c. Setting and retrieving mole fractions\n",
    "\n",
    "During simulations, we will often want to monitor the mole fraction of a species or species.\n",
    "\n",
    "If we use the `X` property to get the mole fractions..."
   ],
   "metadata": {
    "collapsed": false,
    "pycharm": {
     "name": "#%% md\n"
    }
   }
  },
  {
   "cell_type": "code",
   "execution_count": 9,
   "outputs": [
    {
     "data": {
      "text/plain": "array([1., 0., 0., 0., 0., 0., 0., 0., 0., 0.])"
     },
     "execution_count": 9,
     "metadata": {},
     "output_type": "execute_result"
    }
   ],
   "source": [
    "gas.X"
   ],
   "metadata": {
    "collapsed": false,
    "pycharm": {
     "name": "#%%\n"
    }
   }
  },
  {
   "cell_type": "markdown",
   "source": [
    "We get an array of values, corresponding, in order, to the species in the mechanism:"
   ],
   "metadata": {
    "collapsed": false,
    "pycharm": {
     "name": "#%% md\n"
    }
   }
  },
  {
   "cell_type": "code",
   "execution_count": 10,
   "outputs": [
    {
     "data": {
      "text/plain": "['H2', 'H', 'O', 'O2', 'OH', 'H2O', 'HO2', 'H2O2', 'N2', 'AR']"
     },
     "execution_count": 10,
     "metadata": {},
     "output_type": "execute_result"
    }
   ],
   "source": [
    "gas.species_names"
   ],
   "metadata": {
    "collapsed": false,
    "pycharm": {
     "name": "#%%\n"
    }
   }
  },
  {
   "cell_type": "markdown",
   "source": [
    "While this might work okay in some instances, it is a bit tedious to figure out which mole fraction corresponds to each\n",
    " species.\n",
    "Not that we can't do it, e.g."
   ],
   "metadata": {
    "collapsed": false,
    "pycharm": {
     "name": "#%% md\n"
    }
   }
  },
  {
   "cell_type": "code",
   "execution_count": 11,
   "outputs": [
    {
     "name": "stdout",
     "output_type": "stream",
     "text": [
      "H2   : 1.0\n",
      "H    : 0.0\n",
      "O    : 0.0\n",
      "O2   : 0.0\n",
      "OH   : 0.0\n",
      "H2O  : 0.0\n",
      "HO2  : 0.0\n",
      "H2O2 : 0.0\n",
      "N2   : 0.0\n",
      "AR   : 0.0\n"
     ]
    }
   ],
   "source": [
    "for sp, x in zip(gas.species_names, gas.X):\n",
    "    print(f'{sp:5s}: {x}')"
   ],
   "metadata": {
    "collapsed": false,
    "pycharm": {
     "name": "#%%\n"
    }
   }
  },
  {
   "cell_type": "markdown",
   "source": [
    "Depending what we are doing with it, it may be easier to have the mole fractions in a dictionary.\n",
    "`mole_fraction_dict` takes an optional threshold argument (default 0), and only returns species with mole fractions\n",
    " above the threshold.\n",
    "Setting the threshold negative returns all species."
   ],
   "metadata": {
    "collapsed": false,
    "pycharm": {
     "name": "#%% md\n"
    }
   }
  },
  {
   "cell_type": "code",
   "execution_count": 12,
   "outputs": [
    {
     "data": {
      "text/plain": "{'H2': 1.0}"
     },
     "execution_count": 12,
     "metadata": {},
     "output_type": "execute_result"
    }
   ],
   "source": [
    "gas.mole_fraction_dict()"
   ],
   "metadata": {
    "collapsed": false,
    "pycharm": {
     "name": "#%%\n"
    }
   }
  },
  {
   "cell_type": "code",
   "execution_count": 13,
   "outputs": [
    {
     "data": {
      "text/plain": "{'AR': 0.0,\n 'H': 0.0,\n 'H2': 1.0,\n 'H2O': 0.0,\n 'H2O2': 0.0,\n 'HO2': 0.0,\n 'N2': 0.0,\n 'O': 0.0,\n 'O2': 0.0,\n 'OH': 0.0}"
     },
     "execution_count": 13,
     "metadata": {},
     "output_type": "execute_result"
    }
   ],
   "source": [
    "gas.mole_fraction_dict(-1)"
   ],
   "metadata": {
    "collapsed": false,
    "pycharm": {
     "name": "#%%\n"
    }
   }
  },
  {
   "cell_type": "markdown",
   "source": [
    "It is almost always easier to set mole fractions using a dictionary instead of an array.\n",
    "If mole fractions do not sum to one, they are normalized automatically."
   ],
   "metadata": {
    "collapsed": false,
    "pycharm": {
     "name": "#%% md\n"
    }
   }
  },
  {
   "cell_type": "code",
   "execution_count": 14,
   "outputs": [
    {
     "data": {
      "text/plain": "{'H2': 0.29577464788732394,\n 'N2': 0.5563380281690141,\n 'O2': 0.14788732394366197}"
     },
     "execution_count": 14,
     "metadata": {},
     "output_type": "execute_result"
    }
   ],
   "source": [
    "xs = {'N2':.79, 'O2':.21, 'H2':.21/0.5}  # stoichiometric H2 in air\n",
    "gas.X = xs\n",
    "\n",
    "gas.mole_fraction_dict()"
   ],
   "metadata": {
    "collapsed": false,
    "pycharm": {
     "name": "#%%\n"
    }
   }
  },
  {
   "cell_type": "markdown",
   "source": [
    "Alternatively, we can separately define fuel and oxidizer compositions and set the mole fractions by equivalence ratio:\n",
    "This can save us work having to recalculate component mole fractions."
   ],
   "metadata": {
    "collapsed": false,
    "pycharm": {
     "name": "#%% md\n"
    }
   }
  },
  {
   "cell_type": "code",
   "execution_count": 15,
   "outputs": [
    {
     "data": {
      "text/plain": "{'AR': 0.8636363636363636,\n 'H2': 0.09090909090909091,\n 'O2': 0.045454545454545456}"
     },
     "execution_count": 15,
     "metadata": {},
     "output_type": "execute_result"
    }
   ],
   "source": [
    "fuel = {'H2':1}\n",
    "ox = {'AR':.95, 'O2':.05}\n",
    "gas.set_equivalence_ratio(1, fuel, ox)\n",
    "\n",
    "gas.mole_fraction_dict()"
   ],
   "metadata": {
    "collapsed": false,
    "pycharm": {
     "name": "#%%\n"
    }
   }
  },
  {
   "cell_type": "markdown",
   "source": [
    "### 2d. Setting up reactor and network objects\n",
    "\n",
    "Now that we have a gas object, we can set up our reactor and network:"
   ],
   "metadata": {
    "collapsed": false,
    "pycharm": {
     "name": "#%% md\n"
    }
   }
  },
  {
   "cell_type": "code",
   "execution_count": 16,
   "outputs": [
    {
     "data": {
      "text/plain": "0.0"
     },
     "execution_count": 16,
     "metadata": {},
     "output_type": "execute_result"
    }
   ],
   "source": [
    "r1 = ct.ConstPressureReactor(gas)\n",
    "rnet = ct.ReactorNet((r1,))  # r1 must be passed within a tuple to the reactor network\n",
    "\n",
    "rnet.time"
   ],
   "metadata": {
    "collapsed": false,
    "pycharm": {
     "name": "#%%\n"
    }
   }
  },
  {
   "cell_type": "markdown",
   "source": [
    "We see in the above that we now have a reactor at time zero.\n",
    "\n",
    "If we step the reactor:"
   ],
   "metadata": {
    "collapsed": false,
    "pycharm": {
     "name": "#%% md\n"
    }
   }
  },
  {
   "cell_type": "code",
   "execution_count": 17,
   "outputs": [
    {
     "name": "stdout",
     "output_type": "stream",
     "text": [
      "Time: 7.58903e-13 s\n"
     ]
    },
    {
     "data": {
      "text/plain": "{'AR': 0.8636363636363636,\n 'H': 1.338890557965026e-16,\n 'H2': 0.09090909090909077,\n 'H2O': 1.2407951403873235e-29,\n 'H2O2': 5.270756008515221e-26,\n 'HO2': 1.3388843310892455e-16,\n 'O': 7.98538746307445e-24,\n 'O2': 0.045454545454545324,\n 'OH': 7.632385731357235e-24}"
     },
     "execution_count": 17,
     "metadata": {},
     "output_type": "execute_result"
    }
   ],
   "source": [
    "rnet.step()\n",
    "\n",
    "print(f'Time: {rnet.time:6.5e} s')\n",
    "gas.mole_fraction_dict()"
   ],
   "metadata": {
    "collapsed": false,
    "pycharm": {
     "name": "#%%\n"
    }
   }
  },
  {
   "cell_type": "markdown",
   "source": [
    "Repeatedly run the cell above and observe how, at every step:\n",
    "* the reactor time increases\n",
    "* the mole fractions change"
   ],
   "metadata": {
    "collapsed": false,
    "pycharm": {
     "name": "#%% md\n"
    }
   }
  },
  {
   "cell_type": "markdown",
   "source": [
    "It is tedious (and pointless) to do this manually, so let's wrap the step function in a loop to step it forward until a\n",
    " certain time is reached.\n",
    "We'll add a counter as well to see how many steps it takes."
   ],
   "metadata": {
    "collapsed": false,
    "pycharm": {
     "name": "#%% md\n"
    }
   }
  },
  {
   "cell_type": "code",
   "execution_count": 18,
   "outputs": [
    {
     "name": "stdout",
     "output_type": "stream",
     "text": [
      "1067 TIme Steps Taken\n",
      "Time: 1.00174e-03 s\n"
     ]
    },
    {
     "data": {
      "text/plain": "{'AR': 0.8956635259915019,\n 'H': 0.004598904931980785,\n 'H2': 0.009881817791547514,\n 'H2O': 0.08002162650940889,\n 'H2O2': 2.150172641881425e-07,\n 'HO2': 4.4407077890027225e-07,\n 'O': 0.0012554302287357236,\n 'O2': 0.00442396078398726,\n 'OH': 0.0041540746747949775}"
     },
     "execution_count": 18,
     "metadata": {},
     "output_type": "execute_result"
    }
   ],
   "source": [
    "t_stop = 1e-3  # 1 ms\n",
    "count = 0\n",
    "\n",
    "while rnet.time < t_stop:\n",
    "    rnet.step()\n",
    "    count += 1\n",
    "\n",
    "print(f'{count} TIme Steps Taken')\n",
    "print(f'Time: {rnet.time:6.5e} s')\n",
    "gas.mole_fraction_dict()"
   ],
   "metadata": {
    "collapsed": false,
    "pycharm": {
     "name": "#%%\n"
    }
   }
  },
  {
   "cell_type": "markdown",
   "source": [
    "### 2e. Saving simulation results\n",
    "\n",
    "We've now seen how to run a simulation, but we have not, so far, actually saved any of our simulation results! Oh no!\n",
    "\n",
    "Let's reset our simulation and see what we can do to record its change through time."
   ],
   "metadata": {
    "collapsed": false,
    "pycharm": {
     "name": "#%% md\n"
    }
   }
  },
  {
   "cell_type": "markdown",
   "source": [
    "We'll find we need to reset our simulations a lot between runs.\n",
    "To save time, let's use a function to do this for us.\n",
    "\n",
    "In the cell below, we first define some default parameters for our simulation.\n",
    "Then, we define a function to reset the `Solution` object to the initial state, allowing our default parameters to be\n",
    " overwritten.\n",
    "We'll also create a new reactor and network in the function, and return them."
   ],
   "metadata": {
    "collapsed": false,
    "pycharm": {
     "name": "#%% md\n"
    }
   }
  },
  {
   "cell_type": "code",
   "execution_count": 19,
   "outputs": [],
   "source": [
    "T0 = 1200  # K\n",
    "P0 = 101325  # Pa (1 atm)\n",
    "phi = 1.\n",
    "fuel = {'H2':1.}\n",
    "oxidizer = {'AR':.79, 'O2':.21}  # \"airgon\"\n",
    "\n",
    "def setup_simulation(sln, T=T0, P=P0, phi=phi, f=fuel, ox=oxidizer):\n",
    "    sln.set_equivalence_ratio(phi=phi, fuel=f, oxidizer=ox)\n",
    "    sln.TP = T, P\n",
    "    r1 = ct.ConstPressureReactor(sln)\n",
    "    rnet = ct.ReactorNet([r1])\n",
    "    return r1, rnet"
   ],
   "metadata": {
    "collapsed": false,
    "pycharm": {
     "name": "#%%\n"
    }
   }
  },
  {
   "cell_type": "markdown",
   "source": [
    "And that's it!\n",
    "We don't have to return the solution object (but we could if we wanted).\n",
    "When passed to a function, only a _reference_ to the `Solution` object is passed, not a copy of the object.\n",
    "Therefore, anything done to the object within the function also affects the object outside the function.\n",
    "\n",
    "__Note:__ This is an important subtlety of Python and can lead to unexpected behavior if not understood.\n",
    "For the sake of this class, we have tried to structure things such that this behavior (hopefully) won't cause you\n",
    " trouble.\n",
    "\n",
    "We do return the __Reactor__ and __ReactorNet__ objects, as those are newly created within the function.\n",
    "Their _scope_ only extends until the function concludes, unless their references are returned.\n",
    "\n",
    "Let's test it:"
   ],
   "metadata": {
    "collapsed": false,
    "pycharm": {
     "name": "#%% md\n"
    }
   }
  },
  {
   "cell_type": "code",
   "execution_count": 20,
   "outputs": [
    {
     "name": "stdout",
     "output_type": "stream",
     "text": [
      "\n",
      "  Stanford_v1.2:\n",
      "\n",
      "       temperature            1200  K\n",
      "          pressure          101325  Pa\n",
      "           density        0.279815  kg/m^3\n",
      "  mean mol. weight         27.5531  amu\n",
      "\n",
      "                          1 kg            1 kmol\n",
      "                       -----------      ------------\n",
      "          enthalpy      8.2597e+05        2.276e+07     J\n",
      "   internal energy      4.6386e+05        1.278e+07     J\n",
      "           entropy          7187.4         1.98e+05     J/K\n",
      "    Gibbs function     -7.7989e+06       -2.149e+08     J\n",
      " heat capacity c_p          943.83        2.601e+04     J/K\n",
      " heat capacity c_v          642.07        1.769e+04     J/K\n",
      "\n",
      "                           X                 Y          Chem. Pot. / RT\n",
      "                     -------------     ------------     ------------\n",
      "                H2       0.295775        0.0216399         -19.1957\n",
      "                O2       0.147887         0.171749         -28.9983\n",
      "                AR       0.556338         0.806611         -20.7987\n",
      "     [   +7 minor]              0                0\n",
      "\n"
     ]
    }
   ],
   "source": [
    "r1, rnet = setup_simulation(gas)\n",
    "gas()"
   ],
   "metadata": {
    "collapsed": false,
    "pycharm": {
     "name": "#%%\n"
    }
   }
  },
  {
   "cell_type": "markdown",
   "source": [
    "There we have it, we're back where we want to be, with unreacted fuel-air mixture.\n",
    "\n",
    "If we look at the reactor network:"
   ],
   "metadata": {
    "collapsed": false,
    "pycharm": {
     "name": "#%% md\n"
    }
   }
  },
  {
   "cell_type": "code",
   "execution_count": 21,
   "outputs": [
    {
     "data": {
      "text/plain": "0.0"
     },
     "execution_count": 21,
     "metadata": {},
     "output_type": "execute_result"
    }
   ],
   "source": [
    "rnet.time"
   ],
   "metadata": {
    "collapsed": false,
    "pycharm": {
     "name": "#%%\n"
    }
   }
  },
  {
   "cell_type": "markdown",
   "source": [
    "It's back at time zero, since we created a brand-new object. \n",
    "Before we start stepping our simulation again, let's figure out how to store our results.\n",
    "\n",
    "A simple method is to store the results for each variable of interest in `list`.\n",
    "Let's see what that might look like:"
   ],
   "metadata": {
    "collapsed": false,
    "pycharm": {
     "name": "#%% md\n"
    }
   }
  },
  {
   "cell_type": "code",
   "execution_count": 22,
   "outputs": [],
   "source": [
    "# We can define empty lists for each variable of interest\n",
    "time = []\n",
    "T = []\n",
    "H2 = []\n",
    "O2 = []\n",
    "OH = []\n",
    "H2O = []"
   ],
   "metadata": {
    "collapsed": false,
    "pycharm": {
     "name": "#%%\n"
    }
   }
  },
  {
   "cell_type": "code",
   "execution_count": 23,
   "outputs": [],
   "source": [
    "# We can then run the simulation, appending items to the lists for each step\n",
    "t_stop = 1e-3  # 1 ms\n",
    "\n",
    "while rnet.time < t_stop:\n",
    "    rnet.step()\n",
    "    time += [rnet.time]\n",
    "    T += [gas.T]\n",
    "    xs = gas.mole_fraction_dict(-1)\n",
    "    H2 += [xs['H2']]\n",
    "    O2 += [xs['O2']]\n",
    "    OH += [xs['OH']]\n",
    "    H2O += [xs['H2O']]"
   ],
   "metadata": {
    "collapsed": false,
    "pycharm": {
     "name": "#%%\n"
    }
   }
  },
  {
   "cell_type": "markdown",
   "source": [
    "We call the `mole_fraction_dict` method with the argument `-1` to make sure that all species in the mechanism have\n",
    " entries in the dictionary.\n",
    "If we didn't do this, species with mole fractions of zero would not appear in the dictionary and would raise errors\n",
    " when accessed.\n",
    "\n",
    "And now we can plot our results:"
   ],
   "metadata": {
    "collapsed": false,
    "pycharm": {
     "name": "#%% md\n"
    }
   }
  },
  {
   "cell_type": "code",
   "execution_count": 24,
   "outputs": [
    {
     "data": {
      "text/plain": "<matplotlib.legend.Legend at 0x26c5f6fea48>"
     },
     "execution_count": 24,
     "metadata": {},
     "output_type": "execute_result"
    },
    {
     "data": {
      "text/plain": "<Figure size 576x288 with 1 Axes>",
      "image/png": "[encoded data removed]"
     },
     "metadata": {
      "needs_background": "light"
     },
     "output_type": "display_data"
    },
    {
     "data": {
      "text/plain": "<Figure size 576x288 with 1 Axes>",
      "image/png": "[encoded data removed]"
     },
     "metadata": {
      "needs_background": "light"
     },
     "output_type": "display_data"
    }
   ],
   "source": [
    "plt.figure(figsize=(8,4))\n",
    "plt.plot(time, T)\n",
    "plt.xlabel('Time (s)')\n",
    "plt.ylabel('Temperature (K)')\n",
    "\n",
    "plt.figure(figsize=(8,4))\n",
    "for sp, x in zip(['H2', 'O2', 'OH', 'H2O'], [H2, O2, OH, H2O]):\n",
    "    plt.loglog(time, x, label=sp)\n",
    "plt.xlabel('Time (s)')\n",
    "plt.ylabel('Mole Fraction (-)')\n",
    "plt.xlim((1e-5, 1e-3))\n",
    "plt.ylim((1e-6, 1))\n",
    "plt.legend()"
   ],
   "metadata": {
    "collapsed": false,
    "pycharm": {
     "name": "#%%\n"
    }
   }
  },
  {
   "cell_type": "markdown",
   "source": [
    "And there we have it - our first kinetic simulation time-series data!"
   ],
   "metadata": {
    "collapsed": false,
    "pycharm": {
     "name": "#%% md\n"
    }
   }
  },
  {
   "cell_type": "markdown",
   "source": [
    "__An aside on measuring computational efficiency__\n",
    "\n",
    "Another option getting mole fractions would be to call `mole_fraction_dict` with no argument and use the the `get`\n",
    " method to access dictionary keys, passing the second argument `0` as a default if the key is not found\n",
    " (i.e. species doesn't appear in the `mole_fraction_dict`).\n",
    "\n",
    "Since getting mole fractions is something that will be done many times during simulations, we might want to make sure\n",
    " we're doing this as efficiently as possible.\n",
    "We can set up cells with the different access methods, using the \"cell magic\" `&&timeit` in a cell to tell Jupyter to\n",
    " compute how long a cell takes to run."
   ],
   "metadata": {
    "collapsed": false,
    "pycharm": {
     "name": "#%% md\n"
    }
   }
  },
  {
   "cell_type": "code",
   "execution_count": 25,
   "outputs": [
    {
     "name": "stdout",
     "output_type": "stream",
     "text": [
      "3.33 µs ± 273 ns per loop (mean ± std. dev. of 7 runs, 100000 loops each)\n"
     ]
    }
   ],
   "source": [
    "%%timeit\n",
    "\n",
    "# return all species in the dictionary, then access the dictionary through dictionary indexing\n",
    "gas.mole_fraction_dict(-1)['H2']"
   ],
   "metadata": {
    "collapsed": false,
    "pycharm": {
     "name": "#%%\n"
    }
   }
  },
  {
   "cell_type": "code",
   "execution_count": 26,
   "outputs": [
    {
     "name": "stdout",
     "output_type": "stream",
     "text": [
      "2.84 µs ± 86.7 ns per loop (mean ± std. dev. of 7 runs, 100000 loops each)\n"
     ]
    }
   ],
   "source": [
    "%%timeit\n",
    "\n",
    "# return only species with non-zero mole fractions, then access the dictionary with the 'get' method\n",
    "gas.mole_fraction_dict().get('H2', 0)"
   ],
   "metadata": {
    "collapsed": false,
    "pycharm": {
     "name": "#%%\n"
    }
   }
  },
  {
   "cell_type": "markdown",
   "source": [
    "We see the two methods take close to the same time to run.\n",
    "Another option would be to access mole fractions from the mole-fraction array."
   ],
   "metadata": {
    "collapsed": false,
    "pycharm": {
     "name": "#%% md\n"
    }
   }
  },
  {
   "cell_type": "code",
   "execution_count": 27,
   "outputs": [
    {
     "name": "stdout",
     "output_type": "stream",
     "text": [
      "2.37 µs ± 179 ns per loop (mean ± std. dev. of 7 runs, 100000 loops each)\n"
     ]
    }
   ],
   "source": [
    "%%timeit\n",
    "\n",
    "gas.X[gas.species_index('H2')]"
   ],
   "metadata": {
    "collapsed": false,
    "pycharm": {
     "name": "#%%\n"
    }
   }
  },
  {
   "cell_type": "markdown",
   "source": [
    "This is better!\n",
    "What's more, the species index doesn't change, so if we store the index to a variable at the start of the run, we can\n",
    " just reuse the variable instead of re-calling the `species_index` method repeatedly."
   ],
   "metadata": {
    "collapsed": false,
    "pycharm": {
     "name": "#%% md\n"
    }
   }
  },
  {
   "cell_type": "code",
   "execution_count": 28,
   "outputs": [],
   "source": [
    "i_H2 = gas.species_index('H2')"
   ],
   "metadata": {
    "collapsed": false,
    "pycharm": {
     "name": "#%%\n"
    }
   }
  },
  {
   "cell_type": "code",
   "execution_count": 29,
   "outputs": [
    {
     "name": "stdout",
     "output_type": "stream",
     "text": [
      "1.54 µs ± 40.1 ns per loop (mean ± std. dev. of 7 runs, 1000000 loops each)\n"
     ]
    }
   ],
   "source": [
    "%%timeit\n",
    "\n",
    "gas.X[i_H2]"
   ],
   "metadata": {
    "collapsed": false,
    "pycharm": {
     "name": "#%%\n"
    }
   }
  },
  {
   "cell_type": "markdown",
   "source": [
    "Less than half the time of our original method!?\n",
    "\n",
    "That could add up - we'll take it!"
   ],
   "metadata": {
    "collapsed": false,
    "pycharm": {
     "name": "#%% md\n"
    }
   }
  },
  {
   "cell_type": "markdown",
   "source": [
    "### 2f. Storing results in a dictionary\n",
    "\n",
    "We've seen how we can use lists to track variables at each step of a simulation run.\n",
    "However, even with the relatively few variables we tracked in the last run, we ended up with a lot of variables\n",
    " floating around for all those lists.\n",
    "\n",
    "A cleaner way to organize results would be in a `dict`, with the names of the variables as the keys and `lists` as the\n",
    " stored values.\n",
    "\n",
    "Since we'll want a new one of these dictionaries for every simulation run, we'll write a function to initialize one."
   ],
   "metadata": {
    "collapsed": false,
    "pycharm": {
     "name": "#%% md\n"
    }
   }
  },
  {
   "cell_type": "code",
   "source": [
    "def new_result_dict(sln: ct.Solution, species_list=None):\n",
    "    # if the species list is None, make entries for all the species in the Solution object\n",
    "    if species_list is None:\n",
    "        species_list = sln.species_names\n",
    "    else:  # remove any species in the list not in the Solution to prevent errors\n",
    "        species_list = list(species_list)  # make sure the species_list is of type list\n",
    "        for sp in species_list:\n",
    "            if sp not in sln.species_names:\n",
    "                print(f\"{sp} not in mechanism; removed from tracked species.\")\n",
    "                species_list.remove(sp)\n",
    "\n",
    "    # start initializing the dictionary with basic properties - time, temperature (T), pressure (P)\n",
    "    result_dict = {'time':[],\n",
    "                   'T':[],\n",
    "                   'P':[]}\n",
    "    # now add entries for the species\n",
    "    for sp in species_list:\n",
    "        result_dict[sp] = []\n",
    "    # finally, add entries with a list of the species and their indices\n",
    "    result_dict['species'] = species_list\n",
    "    result_dict['indices'] = [sln.species_index(sp) for sp in species_list]\n",
    "\n",
    "    return result_dict"
   ],
   "metadata": {
    "collapsed": false,
    "pycharm": {
     "name": "#%%\n"
    }
   },
   "execution_count": 30,
   "outputs": []
  },
  {
   "cell_type": "code",
   "execution_count": 31,
   "outputs": [
    {
     "data": {
      "text/plain": "{'time': [],\n 'T': [],\n 'P': [],\n 'H2': [],\n 'H': [],\n 'O': [],\n 'O2': [],\n 'OH': [],\n 'H2O': [],\n 'HO2': [],\n 'H2O2': [],\n 'N2': [],\n 'AR': [],\n 'species': ['H2', 'H', 'O', 'O2', 'OH', 'H2O', 'HO2', 'H2O2', 'N2', 'AR'],\n 'indices': [0, 1, 2, 3, 4, 5, 6, 7, 8, 9]}"
     },
     "execution_count": 31,
     "metadata": {},
     "output_type": "execute_result"
    }
   ],
   "source": [
    "# a dictionary with default arguments\n",
    "new_result_dict(gas)"
   ],
   "metadata": {
    "collapsed": false,
    "pycharm": {
     "name": "#%%\n"
    }
   }
  },
  {
   "cell_type": "code",
   "execution_count": 32,
   "outputs": [
    {
     "data": {
      "text/plain": "{'time': [],\n 'T': [],\n 'P': [],\n 'H2': [],\n 'O2': [],\n 'H2O': [],\n 'OH': [],\n 'H': [],\n 'HO2': [],\n 'species': ['H2', 'O2', 'H2O', 'OH', 'H', 'HO2'],\n 'indices': [0, 3, 5, 4, 1, 6]}"
     },
     "execution_count": 32,
     "metadata": {},
     "output_type": "execute_result"
    }
   ],
   "source": [
    "# a dictionary for a specified list of species\n",
    "species_of_interest = ['H2', 'O2', 'H2O', 'OH', 'H', 'HO2']\n",
    "results = new_result_dict(gas, species_of_interest)\n",
    "results"
   ],
   "metadata": {
    "collapsed": false,
    "pycharm": {
     "name": "#%%\n"
    }
   }
  },
  {
   "cell_type": "markdown",
   "source": [
    "We could now, also, define a function for extracting the state from a ReactorNet and Solution object at its current time\n",
    " step and append that data to the lists in our dictionary"
   ],
   "metadata": {
    "collapsed": false,
    "pycharm": {
     "name": "#%% md\n"
    }
   }
  },
  {
   "cell_type": "code",
   "execution_count": 33,
   "outputs": [],
   "source": [
    "def add_to_result(sln, network, res_dict):\n",
    "    res_dict['time'] += [network.time]\n",
    "    res_dict['T'] += [sln.T]\n",
    "    res_dict['P'] += [sln.P]\n",
    "    for sp, x in zip(res_dict['species'], sln.X[res_dict['indices']]):\n",
    "        res_dict[sp] += [x]"
   ],
   "metadata": {
    "collapsed": false,
    "pycharm": {
     "name": "#%%\n"
    }
   }
  },
  {
   "cell_type": "markdown",
   "source": [
    "And we can check that it works as we expect:"
   ],
   "metadata": {
    "collapsed": false,
    "pycharm": {
     "name": "#%% md\n"
    }
   }
  },
  {
   "cell_type": "code",
   "execution_count": 34,
   "outputs": [
    {
     "data": {
      "text/plain": "{'time': [0.001000292060426455],\n 'T': [2888.5121015384298],\n 'P': [101324.99999999999],\n 'H2': [0.053609533654883045],\n 'O2': [0.018544867904673974],\n 'H2O': [0.24063005717954586],\n 'OH': [0.03794192596268603],\n 'H': [0.02564495037471826],\n 'HO2': [8.740047412720469e-06],\n 'species': ['H2', 'O2', 'H2O', 'OH', 'H', 'HO2'],\n 'indices': [0, 3, 5, 4, 1, 6]}"
     },
     "execution_count": 34,
     "metadata": {},
     "output_type": "execute_result"
    }
   ],
   "source": [
    "add_to_result(gas, rnet, results)\n",
    "results"
   ],
   "metadata": {
    "collapsed": false,
    "pycharm": {
     "name": "#%%\n"
    }
   }
  },
  {
   "cell_type": "markdown",
   "source": [
    "Now we're ready to run a simulation again, which should be a lot easier this time around.\n",
    "\n",
    "Let's see what that looks like, starting again from the beginning:"
   ],
   "metadata": {
    "collapsed": false,
    "pycharm": {
     "name": "#%% md\n"
    }
   }
  },
  {
   "cell_type": "code",
   "execution_count": 35,
   "outputs": [],
   "source": [
    "# setup the reactor, result objects\n",
    "r1, rnet = setup_simulation(gas)\n",
    "results = new_result_dict(gas, species_of_interest)\n",
    "\n",
    "# run the simulation\n",
    "t_stop = 1e-3\n",
    "while rnet.time < t_stop:\n",
    "    rnet.step()\n",
    "    add_to_result(gas, rnet, results)"
   ],
   "metadata": {
    "collapsed": false,
    "pycharm": {
     "name": "#%%\n"
    }
   }
  },
  {
   "cell_type": "code",
   "execution_count": 36,
   "outputs": [
    {
     "data": {
      "text/plain": "(1e-06, 1)"
     },
     "execution_count": 36,
     "metadata": {},
     "output_type": "execute_result"
    },
    {
     "data": {
      "text/plain": "<Figure size 576x288 with 1 Axes>",
      "image/png": "[encoded data removed]"
     },
     "metadata": {
      "needs_background": "light"
     },
     "output_type": "display_data"
    },
    {
     "data": {
      "text/plain": "<Figure size 576x432 with 1 Axes>",
      "image/png": "[encoded data removed]"
     },
     "metadata": {
      "needs_background": "light"
     },
     "output_type": "display_data"
    }
   ],
   "source": [
    "# check that the results look like what we expect\n",
    "plt.figure(figsize=(8, 4))\n",
    "plt.semilogx(results['time'], results['T'])\n",
    "plt.xlabel('Time (s)')\n",
    "plt.ylabel('Temperature (K)')\n",
    "plt.xlim((1e-6, t_stop))\n",
    "\n",
    "plt.figure(figsize=(8, 6))\n",
    "for sp in results['species']:\n",
    "    plt.loglog(results['time'], results[sp], label=sp)\n",
    "plt.legend()\n",
    "plt.xlabel('Time (s)')\n",
    "plt.ylabel('Mole Fractions (-)')\n",
    "plt.xlim((1e-6, t_stop))\n",
    "plt.ylim((1e-6, 1))"
   ],
   "metadata": {
    "collapsed": false,
    "pycharm": {
     "name": "#%%\n"
    }
   }
  },
  {
   "cell_type": "markdown",
   "source": [
    "And they do!\n",
    "\n",
    "At some time (the ignition delay time, IDT), fuel $H_2$ and oxygen $O_2$ are rapidly consumed, forming water $H_2O$\n",
    " as the primary product.\n",
    "$OH$ is formed as a combustion intermediate, and persists after ignition as an equilibrium species at high temperatures.\n",
    "Other radicals ($H$ and $HO_2$) reach peak concentrations at the time of ignition, settling to lower equilibrium\n",
    " concentrations at later times."
   ],
   "metadata": {
    "collapsed": false,
    "pycharm": {
     "name": "#%% md\n"
    }
   }
  },
  {
   "cell_type": "markdown",
   "source": [
    "Since we'll often want to visualize results, let's wrap our plotting code into its own function:"
   ],
   "metadata": {
    "collapsed": false,
    "pycharm": {
     "name": "#%% md\n"
    }
   }
  },
  {
   "cell_type": "code",
   "execution_count": 37,
   "outputs": [],
   "source": [
    "def plot_simulation_result(result_dict, logx=True, tmin=1e-6, tmax=None):\n",
    "    ts = result_dict['time']\n",
    "    if tmax is None:\n",
    "        tmax = ts[-1]\n",
    "\n",
    "    # plot temperature vs. time\n",
    "    plt.figure(figsize=(8, 4))\n",
    "    if logx:\n",
    "        plt.semilogx(ts, result_dict['T'])\n",
    "    else:\n",
    "        plt.plot(ts, result_dict['T'])\n",
    "    plt.xlabel('Time (s)')\n",
    "    plt.ylabel('Temperature (K)')\n",
    "    plt.xlim((tmin, tmax))\n",
    "\n",
    "    # plot mole fractions vs. time\n",
    "    plt.figure(figsize=(8, 6))\n",
    "    for sp in result_dict['species']:\n",
    "        if logx:\n",
    "            plt.loglog(ts, result_dict[sp], label=sp)\n",
    "        else:\n",
    "            plt.semilogy(ts, result_dict[sp], label=sp)\n",
    "    plt.legend()\n",
    "    plt.xlabel('Time (s)')\n",
    "    plt.ylabel('Mole Fractions (-)')\n",
    "    plt.ylim((1e-6, 1))\n",
    "    plt.xlim((tmin, tmax))"
   ],
   "metadata": {
    "collapsed": false,
    "pycharm": {
     "name": "#%%\n"
    }
   }
  },
  {
   "cell_type": "markdown",
   "source": [
    "So now we can set up, run, and visualize the results of a simulation all in just a few lines of code:"
   ],
   "metadata": {
    "collapsed": false,
    "pycharm": {
     "name": "#%% md\n"
    }
   }
  },
  {
   "cell_type": "code",
   "execution_count": 38,
   "outputs": [
    {
     "data": {
      "text/plain": "<Figure size 576x288 with 1 Axes>",
      "image/png": "[encoded data removed]"
     },
     "metadata": {
      "needs_background": "light"
     },
     "output_type": "display_data"
    },
    {
     "data": {
      "text/plain": "<Figure size 576x432 with 1 Axes>",
      "image/png": "[encoded data removed]"
     },
     "metadata": {
      "needs_background": "light"
     },
     "output_type": "display_data"
    },
    {
     "data": {
      "text/plain": "<Figure size 576x288 with 1 Axes>",
      "image/png": "[encoded data removed]"
     },
     "metadata": {
      "needs_background": "light"
     },
     "output_type": "display_data"
    },
    {
     "data": {
      "text/plain": "<Figure size 576x432 with 1 Axes>",
      "image/png": "[encoded data removed]"
     },
     "metadata": {
      "needs_background": "light"
     },
     "output_type": "display_data"
    }
   ],
   "source": [
    "r1, rnet = setup_simulation(gas, T=1000)\n",
    "results = new_result_dict(gas, species_of_interest)\n",
    "\n",
    "# run the simulation\n",
    "t_stop = 1e-3\n",
    "while rnet.time < t_stop:\n",
    "    rnet.step()\n",
    "    add_to_result(gas, rnet, results)\n",
    "\n",
    "# visualization using default arguments\n",
    "plot_simulation_result(results)\n",
    "# visualization with custom settings\n",
    "plot_simulation_result(results, tmin=0, tmax=5e-4, logx=False)"
   ],
   "metadata": {
    "collapsed": false,
    "pycharm": {
     "name": "#%%\n"
    }
   }
  },
  {
   "cell_type": "markdown",
   "source": [
    "Or, we could define a single function to do it all for us.\n",
    "We'll get there in the next section..."
   ],
   "metadata": {
    "collapsed": false,
    "pycharm": {
     "name": "#%% md\n"
    }
   }
  },
  {
   "cell_type": "markdown",
   "source": [
    "## 3. Ignition Delay Times and Sensitivity Analysis\n",
    "\n",
    "We've now seen how to get species and temperature time histories from a kinetic simulation.\n",
    "As was introduced in the slides at the start of this problem session, we still want to be able to:\n",
    "* Calculate/predict an ignition delay time $$\\tau_{ign}$$ using a kinetic simulation\n",
    "* Perform sensitivity analysis to determine to which reaction rates $$\\tau_{ign}$$ is most sensitive"
   ],
   "metadata": {
    "collapsed": false,
    "pycharm": {
     "name": "#%% md\n"
    }
   }
  },
  {
   "cell_type": "markdown",
   "source": [
    "### 3a. Defining $$\\tau_\\mathrm{ign}$$:"
   ],
   "metadata": {
    "collapsed": false,
    "pycharm": {
     "name": "#%% md\n"
    }
   }
  },
  {
   "cell_type": "markdown",
   "source": [
    "There are a number of ways in which $$\\tau_{ign}$$ can be defined and measured.\n",
    "Experimentally, the ignition time may be measured from a rise in pressure, a rise in emission, or from a change in laser-absorption\n",
    " measurements.\n",
    "These measurements can all produce slightly different results, making comparison between simulations and results\n",
    " challenging.\n",
    "\n",
    "Similarly, a number of different values of $$\\tau_{ign}$$ can be defined from simulation results.\n",
    "For example, we could define ignition based on the peak rate of temperature increase, peak removal rate of fuel\n",
    " ($$H_2$$), peak production rate of products ($$H_2O$$), or the peak concentration of some radical species (e.g. $$H$$).\n",
    "In a constant volume reactor, we could also use pressure, but our results have constant pressure by definition."
   ],
   "metadata": {
    "collapsed": false,
    "pycharm": {
     "name": "#%% md\n"
    }
   }
  },
  {
   "cell_type": "markdown",
   "source": [
    "__Peak Radical Concentration:__\n",
    "\n",
    "To start, we will consider the simplest definition, the peak concentration of the transient hydrogen radical.\n",
    "From our time-series results, we saw that the mole fraction of atomic hydrogen peaks around the time of ignition,\n",
    " a feature that may make it a useful definition.\n",
    "\n",
    "In order to extract the ignition time based on the maximum concentration, we can use the `argmax` function of the\n",
    " `numpy` package to get the index of the maximum value from an array.\n",
    "\n",
    "_Note:_ While we could convert our list to an array before passing to `argmax`, this step is unnecessary, as that\n",
    " conversion is handled automatically by `numpy`."
   ],
   "metadata": {
    "collapsed": false,
    "pycharm": {
     "name": "#%% md\n"
    }
   }
  },
  {
   "cell_type": "code",
   "execution_count": 39,
   "outputs": [
    {
     "name": "stdout",
     "output_type": "stream",
     "text": [
      "t_ign_H = 242.3 us\n"
     ]
    }
   ],
   "source": [
    "# get the index of the maximum mole fraction of H\n",
    "iH_max = np.argmax(results['H'])\n",
    "\n",
    "# find the time associated with that list index\n",
    "t_ign_H = results['time'][iH_max]\n",
    "\n",
    "print(f't_ign_H = {t_ign_H*1e6:4.1f} us')"
   ],
   "metadata": {
    "collapsed": false,
    "pycharm": {
     "name": "#%%\n"
    }
   }
  },
  {
   "cell_type": "code",
   "execution_count": 40,
   "outputs": [
    {
     "data": {
      "text/plain": "(0.00019384218502982442, 0.0002907632775447366)"
     },
     "execution_count": 40,
     "metadata": {},
     "output_type": "execute_result"
    },
    {
     "data": {
      "text/plain": "<Figure size 432x288 with 1 Axes>",
      "image/png": "[encoded data removed]"
     },
     "metadata": {
      "needs_background": "light"
     },
     "output_type": "display_data"
    }
   ],
   "source": [
    "# plot the result to see we found the right point\n",
    "plt.plot(results['time'], results['H'], '-k')\n",
    "plt.plot(t_ign_H, results['H'][iH_max], '*r', ms=10)  # \"ms\" is the keyword argument for the \"marker_size\"\n",
    "plt.xlim((0.8*t_ign_H, 1.2*t_ign_H))"
   ],
   "metadata": {
    "collapsed": false,
    "pycharm": {
     "name": "#%%\n"
    }
   }
  },
  {
   "cell_type": "markdown",
   "source": [
    "__Peak Rate of Temperature Change:__\n",
    "\n",
    "Another seemingly logical definition would be to consider ignition as the timing of the maximum rate of increase in\n",
    " the temperature.\n",
    "To calculate the rate of change, we can again use `numpy`.\n",
    "The `diff` function calculates the difference between consecutive array (or list) elements, allowing us to perform a\n",
    " numerical differentiation.\n",
    "\n",
    "Since numerical differentiation will return one fewer element than we start with, we will also use `diff` to help\n",
    " calculate the mean time between time steps to match up with our rate of temperature change."
   ],
   "metadata": {
    "collapsed": false,
    "pycharm": {
     "name": "#%% md\n"
    }
   }
  },
  {
   "cell_type": "code",
   "execution_count": 41,
   "outputs": [
    {
     "name": "stdout",
     "output_type": "stream",
     "text": [
      "t_ign_dT = 240.7 us\n"
     ]
    }
   ],
   "source": [
    "dT = np.diff(results['T'])\n",
    "dt = np.diff(results['time'])\n",
    "\n",
    "dT_dt = dT / dt\n",
    "t_mean = np.array(results['time'][:-1]) + (dt / 2)\n",
    "\n",
    "idT_max = np.argmax(dT_dt)\n",
    "t_ign_dT = t_mean[idT_max]\n",
    "\n",
    "print(f't_ign_dT = {t_ign_dT*1e6:4.1f} us')"
   ],
   "metadata": {
    "collapsed": false,
    "pycharm": {
     "name": "#%%\n"
    }
   }
  },
  {
   "cell_type": "markdown",
   "source": [
    "We find that the IDT calculated using the rate of temperature change is quite close to that found using the hydrogen\n",
    " radical, with a difference of only about 1%.\n",
    "\n",
    "We can visualize this result as well; this time, we choose to do that a little differently:"
   ],
   "metadata": {
    "collapsed": false,
    "pycharm": {
     "name": "#%% md\n"
    }
   }
  },
  {
   "cell_type": "code",
   "execution_count": 42,
   "outputs": [
    {
     "data": {
      "text/plain": "<matplotlib.lines.Line2D at 0x26c5ff50208>"
     },
     "execution_count": 42,
     "metadata": {},
     "output_type": "execute_result"
    },
    {
     "data": {
      "text/plain": "<Figure size 432x288 with 2 Axes>",
      "image/png": "[encoded data removed]"
     },
     "metadata": {
      "needs_background": "light"
     },
     "output_type": "display_data"
    }
   ],
   "source": [
    "# visualize the result\n",
    "#   first plot the raw temperature vs. time\n",
    "plt.plot(results['time'], results['T'], '-k', label='T')\n",
    "plt.ylabel('Temperature (K)')\n",
    "plt.xlim((0.8*t_ign_H, 1.2*t_ign_H))\n",
    "#   next we'll overlay a second y-axis and plot the dT/dt\n",
    "plt.twinx()\n",
    "plt.plot(t_mean, dT_dt, '-r', label='dT/dt')\n",
    "plt.ylabel('dT/dt (K/s)')\n",
    "#   the following lines just make the right axis red to match the data\n",
    "plt.gca().spines['right'].set_color('r')\n",
    "plt.gca().tick_params(axis='y', colors='r')\n",
    "plt.gca().yaxis.label.set_color('red')\n",
    "#   lastly, we'll add a vertical line marking the ignition time\n",
    "plt.axvline(t_ign_dT, label='t_ign', c='b', ls=':')"
   ],
   "metadata": {
    "collapsed": false,
    "pycharm": {
     "name": "#%%\n"
    }
   }
  },
  {
   "cell_type": "markdown",
   "source": [
    "We can use the same type of analysis as we did for temperature to look at ignition times based on fuel consumption and\n",
    " product formation.\n",
    "We'll define some functions to make calculating IDTs easier to do repeatedly."
   ],
   "metadata": {
    "collapsed": false,
    "pycharm": {
     "name": "#%% md\n"
    }
   }
  },
  {
   "cell_type": "code",
   "execution_count": 88,
   "outputs": [],
   "source": [
    "def idt_x_max(result_dict, x_key, save_to_dict=True, print_out=False):\n",
    "    x = result_dict[x_key]\n",
    "\n",
    "    ix_max = np.argmax(x)  # flips the sign of dx_dt if keyword arg \"sign\" is negative\n",
    "    t_ign_x = result_dict['time'][ix_max]\n",
    "\n",
    "    if print_out:\n",
    "        print(f'IDT_{x_key+\"_max\":10s} = {t_ign_x*1e6:4.1f} us')\n",
    "\n",
    "    if save_to_dict:\n",
    "        idt_dict = result_dict.get('idt', {})\n",
    "        idt_dict[x_key] = t_ign_x\n",
    "        result_dict['idt'] = idt_dict\n",
    "\n",
    "def idt_dx_dt(result_dict, x_key, sign=1, save_to_dict=True, print_out=False):\n",
    "    dx = np.diff(result_dict[x_key])\n",
    "    dt = np.diff(result_dict['time'])\n",
    "\n",
    "    dx_dt = dx / dt\n",
    "    t_mean = np.array(result_dict['time'][:-1]) + (dt / 2)\n",
    "\n",
    "    idx_max = np.argmax(np.sign(sign) * dx_dt)  # flips the sign of dx_dt if keyword arg \"sign\" is negative\n",
    "    t_ign_dx = t_mean[idx_max]\n",
    "\n",
    "    if print_out:\n",
    "        print(f'IDT_d{x_key+\"/dt\":9s} = {t_ign_dx*1e6:4.1f} us')\n",
    "\n",
    "    if save_to_dict:\n",
    "        idt_dict = result_dict.get('idt', {})\n",
    "        idt_dict[x_key] = t_ign_dx\n",
    "        result_dict['idt'] = idt_dict"
   ],
   "metadata": {
    "collapsed": false,
    "pycharm": {
     "name": "#%%\n"
    }
   }
  },
  {
   "cell_type": "markdown",
   "source": [
    "These two functions allow us to calculate any number of IDTs, adding them to the result dictionary:"
   ],
   "metadata": {
    "collapsed": false,
    "pycharm": {
     "name": "#%% md\n"
    }
   }
  },
  {
   "cell_type": "code",
   "execution_count": 89,
   "outputs": [
    {
     "name": "stdout",
     "output_type": "stream",
     "text": [
      "IDT_H_max      = 242.3 us\n",
      "IDT_dT/dt      = 240.7 us\n",
      "IDT_dH2/dt     = 240.1 us\n",
      "IDT_dH2O/dt    = 240.1 us\n"
     ]
    },
    {
     "data": {
      "text/plain": "{'H': 0.0002423027312872805,\n 'T': 0.00024073637644344181,\n 'H2': 0.00024007975276468617,\n 'H2O': 0.00024012635747999413}"
     },
     "execution_count": 89,
     "metadata": {},
     "output_type": "execute_result"
    }
   ],
   "source": [
    "idt_x_max(results, 'H', print_out=True)\n",
    "idt_dx_dt(results, 'T', print_out=True)\n",
    "idt_dx_dt(results, 'H2', sign=-1, print_out=True)\n",
    "idt_dx_dt(results, 'H2O', print_out=True)\n",
    "\n",
    "results['idt']"
   ],
   "metadata": {
    "collapsed": false,
    "pycharm": {
     "name": "#%%\n"
    }
   }
  },
  {
   "cell_type": "markdown",
   "source": [
    "And all these definitions can be bundled into a function to calculate all the IDTs for a given result:"
   ],
   "metadata": {
    "collapsed": false,
    "pycharm": {
     "name": "#%% md\n"
    }
   }
  },
  {
   "cell_type": "code",
   "execution_count": 90,
   "outputs": [],
   "source": [
    "def calculate_idt(result_dict):\n",
    "    idt_dx_dt(result_dict, 'T')\n",
    "    idt_x_max(result_dict, 'H')\n",
    "    idt_dx_dt(result_dict, 'H2', sign=-1)\n",
    "    idt_dx_dt(result_dict, 'H2O')"
   ],
   "metadata": {
    "collapsed": false,
    "pycharm": {
     "name": "#%%\n"
    }
   }
  },
  {
   "cell_type": "code",
   "execution_count": 91,
   "outputs": [
    {
     "data": {
      "text/plain": "{'H': 0.0002423027312872805,\n 'T': 0.00024073637644344181,\n 'H2': 0.00024007975276468617,\n 'H2O': 0.00024012635747999413}"
     },
     "execution_count": 91,
     "metadata": {},
     "output_type": "execute_result"
    }
   ],
   "source": [
    "calculate_idt(results)\n",
    "results['idt']"
   ],
   "metadata": {
    "collapsed": false,
    "pycharm": {
     "name": "#%%\n"
    }
   }
  },
  {
   "cell_type": "markdown",
   "source": [
    "### 3b. Temperature Dependence of $$\\tau_\\mathrm{ign}$$"
   ],
   "metadata": {
    "collapsed": false,
    "pycharm": {
     "name": "#%% md\n"
    }
   }
  },
  {
   "cell_type": "markdown",
   "source": [
    "We may want to see how the ignition delay time varies with temperature.\n",
    "To do this, we'll bundle everything required to run and analyze a simulation into a single function, then run this\n",
    " function repeatedly at different initial temperatures.\n",
    "\n",
    "To start, let's define the function, which will accept and pass through many of the optional, keyword arguments\n",
    " we have been implementing along the way:"
   ],
   "metadata": {
    "collapsed": false,
    "pycharm": {
     "name": "#%% md\n"
    }
   }
  },
  {
   "cell_type": "code",
   "execution_count": 95,
   "outputs": [],
   "source": [
    "T0 = 1200  # K\n",
    "P0 = 101325  # Pa (1 atm)\n",
    "phi = 1.\n",
    "fuel = {'H2':1.}\n",
    "oxidizer = {'AR':.79, 'O2':.21}  # \"airgon\"\n",
    "\n",
    "def simulate_idt(sln, T=T0, P=P0, phi=phi, f=fuel, ox=oxidizer, species_of_interest=None, t_stop=1e-3):\n",
    "\n",
    "    # setup the reactor, result objects\n",
    "    r1, rnet = setup_simulation(gas, T=T, P=P, phi=phi, f=f, ox=ox)\n",
    "    results = new_result_dict(gas, species_list=species_of_interest)\n",
    "\n",
    "    # run the simulation\n",
    "    while rnet.time < t_stop:\n",
    "        rnet.step()\n",
    "        add_to_result(gas, rnet, results)\n",
    "\n",
    "    calculate_idt(results)\n",
    "\n",
    "    return results['idt']"
   ],
   "metadata": {
    "collapsed": false,
    "pycharm": {
     "name": "#%%\n"
    }
   }
  },
  {
   "cell_type": "markdown",
   "source": [
    "We can then run our IDT calculation function over a range of initial temperatures..."
   ],
   "metadata": {
    "collapsed": false,
    "pycharm": {
     "name": "#%% md\n"
    }
   }
  },
  {
   "cell_type": "code",
   "execution_count": 108,
   "outputs": [
    {
     "name": "stdout",
     "output_type": "stream",
     "text": [
      "[1100 1200 1300 1400 1500 1600 1700 1800]\n"
     ]
    },
    {
     "data": {
      "text/plain": "[{'T': 9.17754656275163e-05,\n  'H': 9.326319072229984e-05,\n  'H2': 9.11192227682259e-05,\n  'H2O': 9.119705409731596e-05},\n {'T': 4.878920933455697e-05,\n  'H': 5.0194652385921754e-05,\n  'H2': 4.8140543310850136e-05,\n  'H2O': 4.8202321027393644e-05},\n {'T': 2.9664315185427656e-05,\n  'H': 3.094529898690091e-05,\n  'H2': 2.893124397382881e-05,\n  'H2O': 2.9002186349144826e-05},\n {'T': 1.951193744368907e-05,\n  'H': 2.072660308133192e-05,\n  'H2': 1.8818388363227175e-05,\n  'H2O': 1.884831871527611e-05},\n {'T': 1.3566490615300592e-05,\n  'H': 1.4719496422852928e-05,\n  'H2': 1.294267915758394e-05,\n  'H2O': 1.2969960067624414e-05},\n {'T': 9.783242515528399e-06,\n  'H': 1.094443391691909e-05,\n  'H2': 9.31311396645162e-06,\n  'H2O': 9.340208907247125e-06},\n {'T': 7.25116141285698e-06,\n  'H': 8.457403590774216e-06,\n  'H2': 6.961616423284827e-06,\n  'H2O': 6.9809194225896365e-06},\n {'T': 5.50379977117007e-06,\n  'H': 6.731690224802844e-06,\n  'H2': 5.347047798365887e-06,\n  'H2O': 5.364464684233017e-06}]"
     },
     "execution_count": 108,
     "metadata": {},
     "output_type": "execute_result"
    }
   ],
   "source": [
    "Ts = np.arange(1100, 1801, 100)\n",
    "print(Ts)\n",
    "\n",
    "idt_list = []\n",
    "for T in Ts:\n",
    "    idt_list += [simulate_idt(gas, T=T)]\n",
    "\n",
    "idt_list"
   ],
   "metadata": {
    "collapsed": false,
    "pycharm": {
     "name": "#%%\n"
    }
   }
  },
  {
   "cell_type": "markdown",
   "source": [
    "And plot our results on an Arrhenius-type diagram"
   ],
   "metadata": {
    "collapsed": false,
    "pycharm": {
     "name": "#%% md\n"
    }
   }
  },
  {
   "cell_type": "code",
   "execution_count": 109,
   "outputs": [
    {
     "name": "stdout",
     "output_type": "stream",
     "text": [
      "[7873.91857639  -16.4698467 ]\n",
      "[7385.54777897  -16.03722077]\n",
      "[7971.52613962  -16.56988854]\n",
      "[7965.32948468  -16.56335254]\n"
     ]
    },
    {
     "data": {
      "text/plain": "<matplotlib.legend.Legend at 0x26c62290748>"
     },
     "execution_count": 109,
     "metadata": {},
     "output_type": "execute_result"
    },
    {
     "data": {
      "text/plain": "<Figure size 432x288 with 1 Axes>",
      "image/png": "[encoded data removed]"
     },
     "metadata": {
      "needs_background": "light"
     },
     "output_type": "display_data"
    }
   ],
   "source": [
    "for key in idt_list[0].keys():\n",
    "    idts = [idt_dict[key] for idt_dict in idt_list]\n",
    "    plt.semilogy(1000/Ts, idts, ':o', label=str(key))\n",
    "\n",
    "plt.legend()\n",
    "plt.xlabel('1000/T (1/K)')\n",
    "plt.ylabel('IDT (s)')"
   ],
   "metadata": {
    "collapsed": false,
    "pycharm": {
     "name": "#%%\n"
    }
   }
  },
  {
   "cell_type": "markdown",
   "source": [
    "From this diagram, we can make a few observations:\n",
    "1. IDTs defined using temperature, fuel, and water closely agree\n",
    "2. IDT defined using hydrogen radicals are systematically longer\n",
    "3. The IDTs closely follow an Arrhenius trend\n",
    "\n",
    "This last point suggests that the ignition delay time might be defined well be an Arrhenius-type expression, allowing\n",
    " the IDT (a global parameter) to be associated with a characteristic activation energy.\n",
    "You will be asked to calculate such an activation energy as part of the problem session."
   ],
   "metadata": {
    "collapsed": false,
    "pycharm": {
     "name": "#%% md\n"
    }
   }
  },
  {
   "cell_type": "code",
   "execution_count": null,
   "outputs": [],
   "source": [],
   "metadata": {
    "collapsed": false,
    "pycharm": {
     "name": "#%%\n"
    }
   }
  }
 ],
 "metadata": {
  "kernelspec": {
   "name": "me362b",
   "language": "python",
   "display_name": "me362b"
  },
  "language_info": {
   "codemirror_mode": {
    "name": "ipython",
    "version": 2
   },
   "file_extension": ".py",
   "mimetype": "text/x-python",
   "name": "python",
   "nbconvert_exporter": "python",
   "pygments_lexer": "ipython2",
   "version": "2.7.6"
  }
 },
 "nbformat": 4,
 "nbformat_minor": 0
}
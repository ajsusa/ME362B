{
 "cells": [
  {
   "cell_type": "markdown",
   "metadata": {
    "collapsed": true,
    "pycharm": {
     "name": "#%% md\n"
    }
   },
   "source": [
    "# Tutorial #2: Cantera and User-Defined Functions\n",
    "\n",
    "__Motivation:__\n",
    "\n",
    "Now is the point in this course where we will introduce and use the Cantera software package to perform detailed\n",
    " kinetic simulations.\n",
    "Some of you may have previously used Cantera in Thermodynamics to access thermodynamic data and view equilibrium\n",
    " chemistry.\n",
    "Regardless of whether you have had previous exposure, here we're going to introduce you to the chemical-kinetic\n",
    " capabilities of Cantera and guide you through using them."
   ]
  },
  {
   "cell_type": "markdown",
   "source": [
    "## 1. User-Defined Functions\n",
    "\n",
    "Prior to launching into Cantera, we first take a moment to introduce user-defined functions.\n",
    "Defining functions allows for modularizing and reusing code, which greatly simplifies the implementation of complex\n",
    " computational tasks.\n",
    "\n",
    "The basic form for defining a function in Python is as follows:\n",
    "```\n",
    "def <function_name>(<args*>, <kwargs**>):\n",
    "    code...\n",
    "    ...\n",
    "    ...\n",
    "    return <return variable(s)>\n",
    "```\n",
    "\n",
    "In this form:\n",
    "* `def` is the keyword that tells Python we are defining a function\n",
    "* `<function_name>` is the name we will use to reference our new function\n",
    "* `<args*>` is a list of required arguments (variables) that are:\n",
    "  * required by the function\n",
    "  * provided to the function in a pre-determined order\n",
    "* `<kwargs*>` is a list of keyword arguments that are:\n",
    "  * optional whether you provide them when running the function\n",
    "  * specified with a default value that is used if no other value is provided\n",
    "* `:` ends the function definition line\n",
    "* whitespace: code within a function must be consistently padded by whitespace\n",
    "  * Python interprets encountering non-tabbed code as having reached the end of the function\n",
    "* `return` keyword passes the argument(s) listed after it back to the calling code\n",
    "  * If more than one value is listed, the values are grouped and returned as a tuple"
   ],
   "metadata": {
    "collapsed": false,
    "pycharm": {
     "name": "#%% md\n"
    }
   }
  },
  {
   "cell_type": "markdown",
   "source": [
    "Let's look at some example function definitions, starting with the area of a triangle"
   ],
   "metadata": {
    "collapsed": false,
    "pycharm": {
     "name": "#%% md\n"
    }
   }
  },
  {
   "cell_type": "code",
   "execution_count": 1,
   "outputs": [
    {
     "data": {
      "text/plain": "3.0"
     },
     "execution_count": 1,
     "metadata": {},
     "output_type": "execute_result"
    }
   ],
   "source": [
    "def triangle_area(base, height):\n",
    "    return 0.5 * base * height\n",
    "\n",
    "triangle_area(3, 2)"
   ],
   "metadata": {
    "collapsed": false,
    "pycharm": {
     "name": "#%%\n"
    }
   }
  },
  {
   "cell_type": "markdown",
   "source": [
    "That wasn't so hard!\n",
    "\n",
    "While this example is pretty trivial, it let's us see how we might use it to implement more advanced functionality, like\n",
    " input validation."
   ],
   "metadata": {
    "collapsed": false,
    "pycharm": {
     "name": "#%% md\n"
    }
   }
  },
  {
   "cell_type": "code",
   "execution_count": 2,
   "outputs": [
    {
     "name": "stdout",
     "output_type": "stream",
     "text": [
      "3.0\n"
     ]
    }
   ],
   "source": [
    "def triangle_area(base, height):\n",
    "    if base < 0 or height < 0:\n",
    "        raise Exception('Base and height of a triangle must be non-negative')\n",
    "    return 0.5 * base * height\n",
    "\n",
    "print(triangle_area(3, 2))\n",
    "# print(triangle_area(-3, 2))"
   ],
   "metadata": {
    "collapsed": false,
    "pycharm": {
     "name": "#%%\n"
    }
   }
  },
  {
   "cell_type": "markdown",
   "source": [
    "We know that the dimensions of a triangle have to be positive, so we can check for that and `raise` a custom `Exception`\n",
    " message if a negative value is encountered."
   ],
   "metadata": {
    "collapsed": false,
    "pycharm": {
     "name": "#%% md\n"
    }
   }
  },
  {
   "cell_type": "markdown",
   "source": [
    "To illustrate the use of keyword arguments, imagine we want to compute points along a line of the form `y = mx + b`,\n",
    " and let's assume that `b` is _usually_ zero.\n",
    "We want to make our function generalizable (i.e. be _able_ to specify other values of `b`), but we don't want to have to\n",
    " enter `b` in all the cases where it is, in fact, zero."
   ],
   "metadata": {
    "collapsed": false,
    "pycharm": {
     "name": "#%% md\n"
    }
   }
  },
  {
   "cell_type": "code",
   "execution_count": 3,
   "outputs": [
    {
     "name": "stdout",
     "output_type": "stream",
     "text": [
      "6\n",
      "0\n",
      "1.0\n"
     ]
    }
   ],
   "source": [
    "def y(m, x, b=0):\n",
    "    return m * x + b\n",
    "\n",
    "print(y(2, 3))\n",
    "print(y(0, 2))\n",
    "print(y(0, 2, b=1.))"
   ],
   "metadata": {
    "collapsed": false,
    "pycharm": {
     "name": "#%%\n"
    }
   }
  },
  {
   "cell_type": "markdown",
   "source": [
    "In the first two cases, we don't specify a value for `b`, and the default of zero is used.\n",
    "In the final example, the value of `b` is overwritten by providing a keyword argument."
   ],
   "metadata": {
    "collapsed": false,
    "pycharm": {
     "name": "#%% md\n"
    }
   }
  },
  {
   "cell_type": "markdown",
   "source": [
    "## 2. Cantera\n",
    "\n",
    "We are finally here, ready to introduce Cantera for Python.\n",
    "The material covered in this tutorial is not meant to be comprehensive, but should cover what you need to know to do the\n",
    " problem set.\n",
    "We additionally hope this material will allow you to get you feet wet enough to be able to start making sense of the\n",
    " documentation, describing the full functionality of Cantera, which can be found here:\n",
    "[Cantera Documentation](https://cantera.org/documentation/docs-2.4/sphinx/html/cython/index.html)"
   ],
   "metadata": {
    "collapsed": false,
    "pycharm": {
     "name": "#%% md\n"
    }
   }
  },
  {
   "cell_type": "markdown",
   "source": [
    "For consistency, we always import Cantera using the name `ct`.\n",
    "We will also go ahead and import some additional useful packages right away."
   ],
   "metadata": {
    "collapsed": false,
    "pycharm": {
     "name": "#%% md\n"
    }
   }
  },
  {
   "cell_type": "code",
   "execution_count": 4,
   "outputs": [],
   "source": [
    "import cantera as ct\n",
    "import numpy as np\n",
    "import matplotlib.pyplot as plt\n",
    "import os"
   ],
   "metadata": {
    "collapsed": false,
    "pycharm": {
     "name": "#%%\n"
    }
   }
  },
  {
   "cell_type": "markdown",
   "source": [
    "__a) Initialize a solution object__\n",
    "\n",
    "For this example, we will use the \"Stanford Mechanism v1.2\".\n",
    "This mechanism is not built-in to Cantera (the way 'GRI Mech 3.0' is), so we must get the file path to the mechanism\n",
    " '.cti' file stored elsewhere in the repository."
   ],
   "metadata": {
    "collapsed": false,
    "pycharm": {
     "name": "#%% md\n"
    }
   }
  },
  {
   "cell_type": "code",
   "execution_count": 5,
   "outputs": [
    {
     "data": {
      "text/plain": "'C:\\\\Users\\\\asusa\\\\pycharm_projects\\\\me362b_winter2021\\\\mechanisms\\\\stanford-mech_v12.cti'"
     },
     "execution_count": 5,
     "metadata": {},
     "output_type": "execute_result"
    }
   ],
   "source": [
    "mech_file = os.path.abspath('..\\mechanisms\\stanford-mech_v12.cti')\n",
    "mech_file"
   ],
   "metadata": {
    "collapsed": false,
    "pycharm": {
     "name": "#%%\n"
    }
   }
  },
  {
   "cell_type": "markdown",
   "source": [
    "We can now pass this filepath as an argument to the `ct.Solution` class to create an instance of the class based on this\n",
    " mechanism.\n",
    "\n",
    "Placing empty parenthesis `()` after the Solution instance name produces an output of it's state."
   ],
   "metadata": {
    "collapsed": false,
    "pycharm": {
     "name": "#%% md\n"
    }
   }
  },
  {
   "cell_type": "code",
   "execution_count": 6,
   "outputs": [
    {
     "name": "stdout",
     "output_type": "stream",
     "text": [
      "\n",
      "  Stanford_v1.2:\n",
      "\n",
      "       temperature             300  K\n",
      "          pressure          101325  Pa\n",
      "           density       0.0818891  kg/m^3\n",
      "  mean mol. weight         2.01588  amu\n",
      "\n",
      "                          1 kg            1 kmol\n",
      "                       -----------      ------------\n",
      "          enthalpy           26470        5.336e+04     J\n",
      "   internal energy     -1.2109e+06       -2.441e+06     J\n",
      "           entropy           64914        1.309e+05     J/K\n",
      "    Gibbs function     -1.9448e+07        -3.92e+07     J\n",
      " heat capacity c_p           14312        2.885e+04     J/K\n",
      " heat capacity c_v           10187        2.054e+04     J/K\n",
      "\n",
      "                           X                 Y          Chem. Pot. / RT\n",
      "                     -------------     ------------     ------------\n",
      "                H2              1                1         -15.7173\n",
      "     [   +9 minor]              0                0\n",
      "\n"
     ]
    }
   ],
   "source": [
    "gas = ct.Solution(mech_file)\n",
    "gas()"
   ],
   "metadata": {
    "collapsed": false,
    "pycharm": {
     "name": "#%%\n"
    }
   }
  },
  {
   "cell_type": "markdown",
   "source": [
    "__b) Accessing and assigning state variables__\n",
    "\n",
    "Properties, accessed with dot notation but without `()` or arguments, are used to access state properies of `gas`"
   ],
   "metadata": {
    "collapsed": false,
    "pycharm": {
     "name": "#%% md\n"
    }
   }
  },
  {
   "cell_type": "code",
   "execution_count": 7,
   "outputs": [
    {
     "name": "stdout",
     "output_type": "stream",
     "text": [
      "T = 300.0 K\n",
      "P = 101325 Pa\n",
      "rho = 0.0819 kg/m^3\n",
      "TPX = (300.0, 101324.99999999999, array([1., 0., 0., 0., 0., 0., 0., 0., 0., 0.]))\n"
     ]
    }
   ],
   "source": [
    "print(f'T = {gas.T:3.1f} K')\n",
    "print(f'P = {gas.P:3.0f} Pa')\n",
    "print(f'rho = {gas.density_mass:5.4f} kg/m^3')\n",
    "print(f'TPX = {gas.TPX}')"
   ],
   "metadata": {
    "collapsed": false,
    "pycharm": {
     "name": "#%%\n"
    }
   }
  },
  {
   "cell_type": "markdown",
   "source": [
    "We can also set properties through assignment.\n",
    "We cannot assign temperature or pressure one at a time, as it would result in ambiguity as to what constraint to\n",
    " enforce (constant volume, constant enthalpy, constant entropy, etc.).\n",
    "However, we can assign pairs of state variables, wherein we can maintain a value as constant."
   ],
   "metadata": {
    "collapsed": false,
    "pycharm": {
     "name": "#%% md\n"
    }
   }
  },
  {
   "cell_type": "code",
   "execution_count": 8,
   "outputs": [
    {
     "name": "stdout",
     "output_type": "stream",
     "text": [
      "T = 1200.0 K\n",
      "P = 101325 Pa\n",
      "T = 1200.0 K\n",
      "P = 1000000 Pa\n"
     ]
    }
   ],
   "source": [
    "gas.TP = 1200, gas.P\n",
    "print(f'T = {gas.T:3.1f} K')\n",
    "print(f'P = {gas.P:3.0f} Pa')\n",
    "\n",
    "gas.TP = gas.T, 1e6\n",
    "print(f'T = {gas.T:3.1f} K')\n",
    "print(f'P = {gas.P:3.0f} Pa')"
   ],
   "metadata": {
    "collapsed": false,
    "pycharm": {
     "name": "#%%\n"
    }
   }
  },
  {
   "cell_type": "markdown",
   "source": [
    "__c) Setting and retrieving mole fractions__\n",
    "\n",
    "During simulations, we will often want to monitor the mole fraction of a species or species.\n",
    "\n",
    "If we use the `X` property to get the mole fractions..."
   ],
   "metadata": {
    "collapsed": false,
    "pycharm": {
     "name": "#%% md\n"
    }
   }
  },
  {
   "cell_type": "code",
   "execution_count": 9,
   "outputs": [
    {
     "data": {
      "text/plain": "array([1., 0., 0., 0., 0., 0., 0., 0., 0., 0.])"
     },
     "execution_count": 9,
     "metadata": {},
     "output_type": "execute_result"
    }
   ],
   "source": [
    "gas.X"
   ],
   "metadata": {
    "collapsed": false,
    "pycharm": {
     "name": "#%%\n"
    }
   }
  },
  {
   "cell_type": "markdown",
   "source": [
    "We get an array of values, corresponding, in order, to the species in the mechanism:"
   ],
   "metadata": {
    "collapsed": false,
    "pycharm": {
     "name": "#%% md\n"
    }
   }
  },
  {
   "cell_type": "code",
   "execution_count": 10,
   "outputs": [
    {
     "data": {
      "text/plain": "['H2', 'H', 'O', 'O2', 'OH', 'H2O', 'HO2', 'H2O2', 'N2', 'AR']"
     },
     "execution_count": 10,
     "metadata": {},
     "output_type": "execute_result"
    }
   ],
   "source": [
    "gas.species_names"
   ],
   "metadata": {
    "collapsed": false,
    "pycharm": {
     "name": "#%%\n"
    }
   }
  },
  {
   "cell_type": "markdown",
   "source": [
    "While this might work okay in some instances, it is a bit tedious to figure out which mole fraction corresponds to each\n",
    " species.\n",
    "Not that we can't do it, e.g."
   ],
   "metadata": {
    "collapsed": false,
    "pycharm": {
     "name": "#%% md\n"
    }
   }
  },
  {
   "cell_type": "code",
   "execution_count": 11,
   "outputs": [
    {
     "name": "stdout",
     "output_type": "stream",
     "text": [
      "H2   : 1.0\n",
      "H    : 0.0\n",
      "O    : 0.0\n",
      "O2   : 0.0\n",
      "OH   : 0.0\n",
      "H2O  : 0.0\n",
      "HO2  : 0.0\n",
      "H2O2 : 0.0\n",
      "N2   : 0.0\n",
      "AR   : 0.0\n"
     ]
    }
   ],
   "source": [
    "for sp, x in zip(gas.species_names, gas.X):\n",
    "    print(f'{sp:5s}: {x}')"
   ],
   "metadata": {
    "collapsed": false,
    "pycharm": {
     "name": "#%%\n"
    }
   }
  },
  {
   "cell_type": "markdown",
   "source": [
    "Depending what we are doing with it, it may be easier to have the mole fractions in a dictionary.\n",
    "`mole_fraction_dict` takes an optional threshold argument (default 0), and only returns species with mole fractions\n",
    " above the threshold.\n",
    "Setting the threshold negative returns all species."
   ],
   "metadata": {
    "collapsed": false,
    "pycharm": {
     "name": "#%% md\n"
    }
   }
  },
  {
   "cell_type": "code",
   "execution_count": 12,
   "outputs": [
    {
     "data": {
      "text/plain": "{'H2': 1.0}"
     },
     "execution_count": 12,
     "metadata": {},
     "output_type": "execute_result"
    }
   ],
   "source": [
    "gas.mole_fraction_dict()"
   ],
   "metadata": {
    "collapsed": false,
    "pycharm": {
     "name": "#%%\n"
    }
   }
  },
  {
   "cell_type": "code",
   "execution_count": 13,
   "outputs": [
    {
     "data": {
      "text/plain": "{'AR': 0.0,\n 'H': 0.0,\n 'H2': 1.0,\n 'H2O': 0.0,\n 'H2O2': 0.0,\n 'HO2': 0.0,\n 'N2': 0.0,\n 'O': 0.0,\n 'O2': 0.0,\n 'OH': 0.0}"
     },
     "execution_count": 13,
     "metadata": {},
     "output_type": "execute_result"
    }
   ],
   "source": [
    "gas.mole_fraction_dict(-1)"
   ],
   "metadata": {
    "collapsed": false,
    "pycharm": {
     "name": "#%%\n"
    }
   }
  },
  {
   "cell_type": "markdown",
   "source": [
    "It is almost always easier to set mole fractions using a dictionary instead of an array.\n",
    "If mole fractions do not sum to one, they are normalized automatically."
   ],
   "metadata": {
    "collapsed": false,
    "pycharm": {
     "name": "#%% md\n"
    }
   }
  },
  {
   "cell_type": "code",
   "execution_count": 14,
   "outputs": [
    {
     "data": {
      "text/plain": "{'H2': 0.29577464788732394,\n 'N2': 0.5563380281690141,\n 'O2': 0.14788732394366197}"
     },
     "execution_count": 14,
     "metadata": {},
     "output_type": "execute_result"
    }
   ],
   "source": [
    "xs = {'N2':.79, 'O2':.21, 'H2':.21/0.5}  # stoichiometric H2 in air\n",
    "gas.X = xs\n",
    "\n",
    "gas.mole_fraction_dict()"
   ],
   "metadata": {
    "collapsed": false,
    "pycharm": {
     "name": "#%%\n"
    }
   }
  },
  {
   "cell_type": "markdown",
   "source": [
    "Alternatively, we can separately define fuel and oxidizer compositions and set the mole fractions by equivalence ratio:\n",
    "This can save us work having to recalculate component mole fractions."
   ],
   "metadata": {
    "collapsed": false,
    "pycharm": {
     "name": "#%% md\n"
    }
   }
  },
  {
   "cell_type": "code",
   "execution_count": 15,
   "outputs": [
    {
     "data": {
      "text/plain": "{'AR': 0.8636363636363636,\n 'H2': 0.09090909090909091,\n 'O2': 0.045454545454545456}"
     },
     "execution_count": 15,
     "metadata": {},
     "output_type": "execute_result"
    }
   ],
   "source": [
    "fuel = {'H2':1}\n",
    "ox = {'AR':.95, 'O2':.05}\n",
    "gas.set_equivalence_ratio(1, fuel, ox)\n",
    "\n",
    "gas.mole_fraction_dict()"
   ],
   "metadata": {
    "collapsed": false,
    "pycharm": {
     "name": "#%%\n"
    }
   }
  },
  {
   "cell_type": "markdown",
   "source": [
    "__d) Setting up reactor and network objects__\n",
    "\n",
    "Now that we have a gas object, we can set up our reactor and network:"
   ],
   "metadata": {
    "collapsed": false,
    "pycharm": {
     "name": "#%% md\n"
    }
   }
  },
  {
   "cell_type": "code",
   "execution_count": 16,
   "outputs": [
    {
     "data": {
      "text/plain": "0.0"
     },
     "execution_count": 16,
     "metadata": {},
     "output_type": "execute_result"
    }
   ],
   "source": [
    "r1 = ct.ConstPressureReactor(gas)\n",
    "rnet = ct.ReactorNet((r1,))  # r1 must be passed within a tuple to the reactor network\n",
    "\n",
    "rnet.time"
   ],
   "metadata": {
    "collapsed": false,
    "pycharm": {
     "name": "#%%\n"
    }
   }
  },
  {
   "cell_type": "markdown",
   "source": [
    "We see in the above that we now have a reactor at time zero.\n",
    "\n",
    "If we step the reactor:"
   ],
   "metadata": {
    "collapsed": false,
    "pycharm": {
     "name": "#%% md\n"
    }
   }
  },
  {
   "cell_type": "code",
   "execution_count": 17,
   "outputs": [
    {
     "name": "stdout",
     "output_type": "stream",
     "text": [
      "Time: 7.58903e-13 s\n"
     ]
    },
    {
     "data": {
      "text/plain": "{'AR': 0.8636363636363636,\n 'H': 1.338890557965026e-16,\n 'H2': 0.09090909090909077,\n 'H2O': 1.2407951403873235e-29,\n 'H2O2': 5.270756008515221e-26,\n 'HO2': 1.3388843310892455e-16,\n 'O': 7.98538746307445e-24,\n 'O2': 0.045454545454545324,\n 'OH': 7.632385731357235e-24}"
     },
     "execution_count": 17,
     "metadata": {},
     "output_type": "execute_result"
    }
   ],
   "source": [
    "rnet.step()\n",
    "\n",
    "print(f'Time: {rnet.time:6.5e} s')\n",
    "gas.mole_fraction_dict()"
   ],
   "metadata": {
    "collapsed": false,
    "pycharm": {
     "name": "#%%\n"
    }
   }
  },
  {
   "cell_type": "markdown",
   "source": [
    "Repeatedly run the cell above and observe how, at every step:\n",
    "* the reactor time increases\n",
    "* the mole fractions change"
   ],
   "metadata": {
    "collapsed": false,
    "pycharm": {
     "name": "#%% md\n"
    }
   }
  },
  {
   "cell_type": "markdown",
   "source": [
    "It is tedious (and pointless) to do this manually, so let's wrap the step function in a loop to step it forward until a\n",
    " certain time is reached.\n",
    "We'll add a counter as well to see how many steps it takes."
   ],
   "metadata": {
    "collapsed": false,
    "pycharm": {
     "name": "#%% md\n"
    }
   }
  },
  {
   "cell_type": "code",
   "execution_count": 18,
   "outputs": [
    {
     "name": "stdout",
     "output_type": "stream",
     "text": [
      "1067 TIme Steps Taken\n",
      "Time: 1.00174e-03 s\n"
     ]
    },
    {
     "data": {
      "text/plain": "{'AR': 0.8956635259915019,\n 'H': 0.004598904931980785,\n 'H2': 0.009881817791547514,\n 'H2O': 0.08002162650940889,\n 'H2O2': 2.150172641881425e-07,\n 'HO2': 4.4407077890027225e-07,\n 'O': 0.0012554302287357236,\n 'O2': 0.00442396078398726,\n 'OH': 0.0041540746747949775}"
     },
     "execution_count": 18,
     "metadata": {},
     "output_type": "execute_result"
    }
   ],
   "source": [
    "t_stop = 1e-3  # 1 ms\n",
    "count = 0\n",
    "\n",
    "while rnet.time < t_stop:\n",
    "    rnet.step()\n",
    "    count += 1\n",
    "\n",
    "print(f'{count} TIme Steps Taken')\n",
    "print(f'Time: {rnet.time:6.5e} s')\n",
    "gas.mole_fraction_dict()"
   ],
   "metadata": {
    "collapsed": false,
    "pycharm": {
     "name": "#%%\n"
    }
   }
  },
  {
   "cell_type": "code",
   "execution_count": 18,
   "outputs": [],
   "source": [],
   "metadata": {
    "collapsed": false,
    "pycharm": {
     "name": "#%%\n"
    }
   }
  }
 ],
 "metadata": {
  "kernelspec": {
   "name": "me362b",
   "language": "python",
   "display_name": "me362b"
  },
  "language_info": {
   "codemirror_mode": {
    "name": "ipython",
    "version": 2
   },
   "file_extension": ".py",
   "mimetype": "text/x-python",
   "name": "python",
   "nbconvert_exporter": "python",
   "pygments_lexer": "ipython2",
   "version": "2.7.6"
  }
 },
 "nbformat": 4,
 "nbformat_minor": 0
}
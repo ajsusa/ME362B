{
 "cells": [
  {
   "cell_type": "markdown",
   "metadata": {
    "collapsed": true,
    "pycharm": {
     "name": "#%% md\n"
    }
   },
   "source": [
    "# Tutorial #2: Cantera and User-Defined Functions\n",
    "\n",
    "__Motivation:__\n",
    "\n",
    "Now is the point in this course where we will introduce and use the Cantera software package to perform detailed\n",
    " kinetic simulations.\n",
    "Some of you may have previously used Cantera in Thermodynamics to access thermodynamic data and view equilibrium\n",
    " chemistry.\n",
    "Regardless of whether you have had previous exposure, here we're going to introduce you to the chemical-kinetic\n",
    " capabilities of Cantera and guide you through using them."
   ]
  },
  {
   "cell_type": "markdown",
   "source": [
    "## 1. User-Defined Functions\n",
    "\n",
    "Prior to launching into Cantera, we first take a moment to introduce user-defined functions.\n",
    "Defining functions allows for modularizing and reusing code, which greatly simplifies the implementation of complex\n",
    " computational tasks.\n",
    "\n",
    "The basic form for defining a function in Python is as follows:\n",
    "```\n",
    "def <function_name>(<args*>, <kwargs**>):\n",
    "    code...\n",
    "    ...\n",
    "    ...\n",
    "    return <return variable(s)>\n",
    "```\n",
    "\n",
    "In this form:\n",
    "* `def` is the keyword that tells Python we are defining a function\n",
    "* `<function_name>` is the name we will use to reference our new function\n",
    "* `<args*>` is a list of required arguments (variables) that are:\n",
    "  * required by the function\n",
    "  * provided to the function in a pre-determined order\n",
    "* `<kwargs*>` is a list of keyword arguments that are:\n",
    "  * optional whether you provide them when running the function\n",
    "  * specified with a default value that is used if no other value is provided\n",
    "* `:` ends the function definition line\n",
    "* whitespace: code within a function must be consistently padded by whitespace\n",
    "  * Python interprets encountering non-tabbed code as having reached the end of the function\n",
    "* `return` keyword passes the argument(s) listed after it back to the calling code\n",
    "  * If more than one value is listed, the values are grouped and returned as a tuple"
   ],
   "metadata": {
    "collapsed": false,
    "pycharm": {
     "name": "#%% md\n"
    }
   }
  },
  {
   "cell_type": "markdown",
   "source": [
    "Let's look at some example function definitions, starting with the area of a triangle"
   ],
   "metadata": {
    "collapsed": false,
    "pycharm": {
     "name": "#%% md\n"
    }
   }
  },
  {
   "cell_type": "code",
   "execution_count": 1,
   "outputs": [
    {
     "data": {
      "text/plain": "3.0"
     },
     "execution_count": 1,
     "metadata": {},
     "output_type": "execute_result"
    }
   ],
   "source": [
    "def triangle_area(base, height):\n",
    "    return 0.5 * base * height\n",
    "\n",
    "triangle_area(3, 2)"
   ],
   "metadata": {
    "collapsed": false,
    "pycharm": {
     "name": "#%%\n"
    }
   }
  },
  {
   "cell_type": "markdown",
   "source": [
    "That wasn't so hard!\n",
    "\n",
    "While this example is pretty trivial, it let's us see how we might use it to implement more advanced functionality, like\n",
    " input validation."
   ],
   "metadata": {
    "collapsed": false,
    "pycharm": {
     "name": "#%% md\n"
    }
   }
  },
  {
   "cell_type": "code",
   "execution_count": 2,
   "outputs": [
    {
     "name": "stdout",
     "output_type": "stream",
     "text": [
      "3.0\n"
     ]
    }
   ],
   "source": [
    "def triangle_area(base, height):\n",
    "    if base < 0 or height < 0:\n",
    "        raise Exception('Base and height of a triangle must be non-negative')\n",
    "    return 0.5 * base * height\n",
    "\n",
    "print(triangle_area(3, 2))\n",
    "# print(triangle_area(-3, 2))"
   ],
   "metadata": {
    "collapsed": false,
    "pycharm": {
     "name": "#%%\n"
    }
   }
  },
  {
   "cell_type": "markdown",
   "source": [
    "We know that the dimensions of a triangle have to be positive, so we can check for that and `raise` a custom `Exception`\n",
    " message if a negative value is encountered."
   ],
   "metadata": {
    "collapsed": false,
    "pycharm": {
     "name": "#%% md\n"
    }
   }
  },
  {
   "cell_type": "markdown",
   "source": [
    "To illustrate the use of keyword arguments, imagine we want to compute points along a line of the form `y = mx + b`,\n",
    " and let's assume that `b` is _usually_ zero.\n",
    "We want to make our function generalizable (i.e. be _able_ to specify other values of `b`), but we don't want to have to\n",
    " enter `b` in all the cases where it is, in fact, zero."
   ],
   "metadata": {
    "collapsed": false,
    "pycharm": {
     "name": "#%% md\n"
    }
   }
  },
  {
   "cell_type": "code",
   "execution_count": 3,
   "outputs": [
    {
     "name": "stdout",
     "output_type": "stream",
     "text": [
      "6\n",
      "0\n",
      "1.0\n"
     ]
    }
   ],
   "source": [
    "def y(m, x, b=0):\n",
    "    return m * x + b\n",
    "\n",
    "print(y(2, 3))\n",
    "print(y(0, 2))\n",
    "print(y(0, 2, b=1.))"
   ],
   "metadata": {
    "collapsed": false,
    "pycharm": {
     "name": "#%%\n"
    }
   }
  },
  {
   "cell_type": "markdown",
   "source": [
    "In the first two cases, we don't specify a value for `b`, and the default of zero is used.\n",
    "In the final example, the value of `b` is overwritten by providing a keyword argument."
   ],
   "metadata": {
    "collapsed": false,
    "pycharm": {
     "name": "#%% md\n"
    }
   }
  },
  {
   "cell_type": "markdown",
   "source": [
    "## 2. Cantera\n",
    "\n",
    "We are finally here, ready to introduce Cantera for Python.\n",
    "The material covered in this tutorial is not meant to be comprehensive, but should cover what you need to know to do the\n",
    " problem set.\n",
    "We additionally hope this material will allow you to get you feet wet enough to be able to start making sense of the\n",
    " documentation, describing the full functionality of Cantera, which can be found here:\n",
    "[Cantera Documentation](https://cantera.org/documentation/docs-2.4/sphinx/html/cython/index.html)"
   ],
   "metadata": {
    "collapsed": false,
    "pycharm": {
     "name": "#%% md\n"
    }
   }
  },
  {
   "cell_type": "markdown",
   "source": [
    "For consistency, we always import Cantera using the name `ct`.\n",
    "We will also go ahead and import some additional useful packages right away."
   ],
   "metadata": {
    "collapsed": false,
    "pycharm": {
     "name": "#%% md\n"
    }
   }
  },
  {
   "cell_type": "code",
   "execution_count": 4,
   "outputs": [],
   "source": [
    "import cantera as ct\n",
    "import numpy as np\n",
    "import matplotlib.pyplot as plt\n",
    "import os"
   ],
   "metadata": {
    "collapsed": false,
    "pycharm": {
     "name": "#%%\n"
    }
   }
  },
  {
   "cell_type": "markdown",
   "source": [
    "__a) Initialize a solution object__\n",
    "\n",
    "For this example, we will use the \"Stanford Mechanism v1.2\".\n",
    "This mechanism is not built-in to Cantera (the way 'GRI Mech 3.0' is), so we must get the file path to the mechanism\n",
    " '.cti' file stored elsewhere in the repository."
   ],
   "metadata": {
    "collapsed": false,
    "pycharm": {
     "name": "#%% md\n"
    }
   }
  },
  {
   "cell_type": "code",
   "execution_count": 30,
   "outputs": [
    {
     "data": {
      "text/plain": "'C:\\\\Users\\\\asusa\\\\pycharm_projects\\\\me362b_winter2021\\\\mechanisms\\\\stanford-mech_v12.cti'"
     },
     "execution_count": 30,
     "metadata": {},
     "output_type": "execute_result"
    }
   ],
   "source": [
    "mech_file = os.path.abspath('../mechanisms/stanford-mech_v12.cti')\n",
    "mech_file"
   ],
   "metadata": {
    "collapsed": false,
    "pycharm": {
     "name": "#%%\n"
    }
   }
  },
  {
   "cell_type": "markdown",
   "source": [
    "We can now pass this filepath as an argument to the `ct.Solution` class to create an instance of the class based on this\n",
    " mechanism.\n",
    "\n",
    "Placing empty parenthesis `()` after the Solution instance name produces an output of it's state."
   ],
   "metadata": {
    "collapsed": false,
    "pycharm": {
     "name": "#%% md\n"
    }
   }
  },
  {
   "cell_type": "code",
   "execution_count": 6,
   "outputs": [
    {
     "name": "stdout",
     "output_type": "stream",
     "text": [
      "\n",
      "  Stanford_v1.2:\n",
      "\n",
      "       temperature             300  K\n",
      "          pressure          101325  Pa\n",
      "           density       0.0818891  kg/m^3\n",
      "  mean mol. weight         2.01588  amu\n",
      "\n",
      "                          1 kg            1 kmol\n",
      "                       -----------      ------------\n",
      "          enthalpy           26470        5.336e+04     J\n",
      "   internal energy     -1.2109e+06       -2.441e+06     J\n",
      "           entropy           64914        1.309e+05     J/K\n",
      "    Gibbs function     -1.9448e+07        -3.92e+07     J\n",
      " heat capacity c_p           14312        2.885e+04     J/K\n",
      " heat capacity c_v           10187        2.054e+04     J/K\n",
      "\n",
      "                           X                 Y          Chem. Pot. / RT\n",
      "                     -------------     ------------     ------------\n",
      "                H2              1                1         -15.7173\n",
      "     [   +9 minor]              0                0\n",
      "\n"
     ]
    }
   ],
   "source": [
    "gas = ct.Solution(mech_file)\n",
    "gas()"
   ],
   "metadata": {
    "collapsed": false,
    "pycharm": {
     "name": "#%%\n"
    }
   }
  },
  {
   "cell_type": "markdown",
   "source": [
    "__b) Accessing and assigning state variables__\n",
    "\n",
    "Properties, accessed with dot notation but without `()` or arguments, are used to access state properies of `gas`"
   ],
   "metadata": {
    "collapsed": false,
    "pycharm": {
     "name": "#%% md\n"
    }
   }
  },
  {
   "cell_type": "code",
   "execution_count": 7,
   "outputs": [
    {
     "name": "stdout",
     "output_type": "stream",
     "text": [
      "T = 300.0 K\n",
      "P = 101325 Pa\n",
      "rho = 0.0819 kg/m^3\n",
      "TPX = (300.0, 101324.99999999999, array([1., 0., 0., 0., 0., 0., 0., 0., 0., 0.]))\n"
     ]
    }
   ],
   "source": [
    "print(f'T = {gas.T:3.1f} K')\n",
    "print(f'P = {gas.P:3.0f} Pa')\n",
    "print(f'rho = {gas.density_mass:5.4f} kg/m^3')\n",
    "print(f'TPX = {gas.TPX}')"
   ],
   "metadata": {
    "collapsed": false,
    "pycharm": {
     "name": "#%%\n"
    }
   }
  },
  {
   "cell_type": "markdown",
   "source": [
    "We can also set properties through assignment.\n",
    "We cannot assign temperature or pressure one at a time, as it would result in ambiguity as to what constraint to\n",
    " enforce (constant volume, constant enthalpy, constant entropy, etc.).\n",
    "However, we can assign pairs of state variables, wherein we can maintain a value as constant."
   ],
   "metadata": {
    "collapsed": false,
    "pycharm": {
     "name": "#%% md\n"
    }
   }
  },
  {
   "cell_type": "code",
   "execution_count": 8,
   "outputs": [
    {
     "name": "stdout",
     "output_type": "stream",
     "text": [
      "T = 1200.0 K\n",
      "P = 101325 Pa\n",
      "T = 1200.0 K\n",
      "P = 1000000 Pa\n"
     ]
    }
   ],
   "source": [
    "gas.TP = 1200, gas.P\n",
    "print(f'T = {gas.T:3.1f} K')\n",
    "print(f'P = {gas.P:3.0f} Pa')\n",
    "\n",
    "gas.TP = gas.T, 1e6\n",
    "print(f'T = {gas.T:3.1f} K')\n",
    "print(f'P = {gas.P:3.0f} Pa')"
   ],
   "metadata": {
    "collapsed": false,
    "pycharm": {
     "name": "#%%\n"
    }
   }
  },
  {
   "cell_type": "markdown",
   "source": [
    "__c) Setting and retrieving mole fractions__\n",
    "\n",
    "During simulations, we will often want to monitor the mole fraction of a species or species.\n",
    "\n",
    "If we use the `X` property to get the mole fractions..."
   ],
   "metadata": {
    "collapsed": false,
    "pycharm": {
     "name": "#%% md\n"
    }
   }
  },
  {
   "cell_type": "code",
   "execution_count": 9,
   "outputs": [
    {
     "data": {
      "text/plain": "array([1., 0., 0., 0., 0., 0., 0., 0., 0., 0.])"
     },
     "execution_count": 9,
     "metadata": {},
     "output_type": "execute_result"
    }
   ],
   "source": [
    "gas.X"
   ],
   "metadata": {
    "collapsed": false,
    "pycharm": {
     "name": "#%%\n"
    }
   }
  },
  {
   "cell_type": "markdown",
   "source": [
    "We get an array of values, corresponding, in order, to the species in the mechanism:"
   ],
   "metadata": {
    "collapsed": false,
    "pycharm": {
     "name": "#%% md\n"
    }
   }
  },
  {
   "cell_type": "code",
   "execution_count": 10,
   "outputs": [
    {
     "data": {
      "text/plain": "['H2', 'H', 'O', 'O2', 'OH', 'H2O', 'HO2', 'H2O2', 'N2', 'AR']"
     },
     "execution_count": 10,
     "metadata": {},
     "output_type": "execute_result"
    }
   ],
   "source": [
    "gas.species_names"
   ],
   "metadata": {
    "collapsed": false,
    "pycharm": {
     "name": "#%%\n"
    }
   }
  },
  {
   "cell_type": "markdown",
   "source": [
    "While this might work okay in some instances, it is a bit tedious to figure out which mole fraction corresponds to each\n",
    " species.\n",
    "Not that we can't do it, e.g."
   ],
   "metadata": {
    "collapsed": false,
    "pycharm": {
     "name": "#%% md\n"
    }
   }
  },
  {
   "cell_type": "code",
   "execution_count": 11,
   "outputs": [
    {
     "name": "stdout",
     "output_type": "stream",
     "text": [
      "H2   : 1.0\n",
      "H    : 0.0\n",
      "O    : 0.0\n",
      "O2   : 0.0\n",
      "OH   : 0.0\n",
      "H2O  : 0.0\n",
      "HO2  : 0.0\n",
      "H2O2 : 0.0\n",
      "N2   : 0.0\n",
      "AR   : 0.0\n"
     ]
    }
   ],
   "source": [
    "for sp, x in zip(gas.species_names, gas.X):\n",
    "    print(f'{sp:5s}: {x}')"
   ],
   "metadata": {
    "collapsed": false,
    "pycharm": {
     "name": "#%%\n"
    }
   }
  },
  {
   "cell_type": "markdown",
   "source": [
    "Depending what we are doing with it, it may be easier to have the mole fractions in a dictionary.\n",
    "`mole_fraction_dict` takes an optional threshold argument (default 0), and only returns species with mole fractions\n",
    " above the threshold.\n",
    "Setting the threshold negative returns all species."
   ],
   "metadata": {
    "collapsed": false,
    "pycharm": {
     "name": "#%% md\n"
    }
   }
  },
  {
   "cell_type": "code",
   "execution_count": 12,
   "outputs": [
    {
     "data": {
      "text/plain": "{'H2': 1.0}"
     },
     "execution_count": 12,
     "metadata": {},
     "output_type": "execute_result"
    }
   ],
   "source": [
    "gas.mole_fraction_dict()"
   ],
   "metadata": {
    "collapsed": false,
    "pycharm": {
     "name": "#%%\n"
    }
   }
  },
  {
   "cell_type": "code",
   "execution_count": 13,
   "outputs": [
    {
     "data": {
      "text/plain": "{'AR': 0.0,\n 'H': 0.0,\n 'H2': 1.0,\n 'H2O': 0.0,\n 'H2O2': 0.0,\n 'HO2': 0.0,\n 'N2': 0.0,\n 'O': 0.0,\n 'O2': 0.0,\n 'OH': 0.0}"
     },
     "execution_count": 13,
     "metadata": {},
     "output_type": "execute_result"
    }
   ],
   "source": [
    "gas.mole_fraction_dict(-1)"
   ],
   "metadata": {
    "collapsed": false,
    "pycharm": {
     "name": "#%%\n"
    }
   }
  },
  {
   "cell_type": "markdown",
   "source": [
    "It is almost always easier to set mole fractions using a dictionary instead of an array.\n",
    "If mole fractions do not sum to one, they are normalized automatically."
   ],
   "metadata": {
    "collapsed": false,
    "pycharm": {
     "name": "#%% md\n"
    }
   }
  },
  {
   "cell_type": "code",
   "execution_count": 14,
   "outputs": [
    {
     "data": {
      "text/plain": "{'H2': 0.29577464788732394,\n 'N2': 0.5563380281690141,\n 'O2': 0.14788732394366197}"
     },
     "execution_count": 14,
     "metadata": {},
     "output_type": "execute_result"
    }
   ],
   "source": [
    "xs = {'N2':.79, 'O2':.21, 'H2':.21/0.5}  # stoichiometric H2 in air\n",
    "gas.X = xs\n",
    "\n",
    "gas.mole_fraction_dict()"
   ],
   "metadata": {
    "collapsed": false,
    "pycharm": {
     "name": "#%%\n"
    }
   }
  },
  {
   "cell_type": "markdown",
   "source": [
    "Alternatively, we can separately define fuel and oxidizer compositions and set the mole fractions by equivalence ratio:\n",
    "This can save us work having to recalculate component mole fractions."
   ],
   "metadata": {
    "collapsed": false,
    "pycharm": {
     "name": "#%% md\n"
    }
   }
  },
  {
   "cell_type": "code",
   "execution_count": 15,
   "outputs": [
    {
     "data": {
      "text/plain": "{'AR': 0.8636363636363636,\n 'H2': 0.09090909090909091,\n 'O2': 0.045454545454545456}"
     },
     "execution_count": 15,
     "metadata": {},
     "output_type": "execute_result"
    }
   ],
   "source": [
    "fuel = {'H2':1}\n",
    "ox = {'AR':.95, 'O2':.05}\n",
    "gas.set_equivalence_ratio(1, fuel, ox)\n",
    "\n",
    "gas.mole_fraction_dict()"
   ],
   "metadata": {
    "collapsed": false,
    "pycharm": {
     "name": "#%%\n"
    }
   }
  },
  {
   "cell_type": "markdown",
   "source": [
    "__d) Setting up reactor and network objects__\n",
    "\n",
    "Now that we have a gas object, we can set up our reactor and network:"
   ],
   "metadata": {
    "collapsed": false,
    "pycharm": {
     "name": "#%% md\n"
    }
   }
  },
  {
   "cell_type": "code",
   "execution_count": 16,
   "outputs": [
    {
     "data": {
      "text/plain": "0.0"
     },
     "execution_count": 16,
     "metadata": {},
     "output_type": "execute_result"
    }
   ],
   "source": [
    "r1 = ct.ConstPressureReactor(gas)\n",
    "rnet = ct.ReactorNet((r1,))  # r1 must be passed within a tuple to the reactor network\n",
    "\n",
    "rnet.time"
   ],
   "metadata": {
    "collapsed": false,
    "pycharm": {
     "name": "#%%\n"
    }
   }
  },
  {
   "cell_type": "markdown",
   "source": [
    "We see in the above that we now have a reactor at time zero.\n",
    "\n",
    "If we step the reactor:"
   ],
   "metadata": {
    "collapsed": false,
    "pycharm": {
     "name": "#%% md\n"
    }
   }
  },
  {
   "cell_type": "code",
   "execution_count": 17,
   "outputs": [
    {
     "name": "stdout",
     "output_type": "stream",
     "text": [
      "Time: 7.58903e-13 s\n"
     ]
    },
    {
     "data": {
      "text/plain": "{'AR': 0.8636363636363636,\n 'H': 1.338890557965026e-16,\n 'H2': 0.09090909090909077,\n 'H2O': 1.2407951403873235e-29,\n 'H2O2': 5.270756008515221e-26,\n 'HO2': 1.3388843310892455e-16,\n 'O': 7.98538746307445e-24,\n 'O2': 0.045454545454545324,\n 'OH': 7.632385731357235e-24}"
     },
     "execution_count": 17,
     "metadata": {},
     "output_type": "execute_result"
    }
   ],
   "source": [
    "rnet.step()\n",
    "\n",
    "print(f'Time: {rnet.time:6.5e} s')\n",
    "gas.mole_fraction_dict()"
   ],
   "metadata": {
    "collapsed": false,
    "pycharm": {
     "name": "#%%\n"
    }
   }
  },
  {
   "cell_type": "markdown",
   "source": [
    "Repeatedly run the cell above and observe how, at every step:\n",
    "* the reactor time increases\n",
    "* the mole fractions change"
   ],
   "metadata": {
    "collapsed": false,
    "pycharm": {
     "name": "#%% md\n"
    }
   }
  },
  {
   "cell_type": "markdown",
   "source": [
    "It is tedious (and pointless) to do this manually, so let's wrap the step function in a loop to step it forward until a\n",
    " certain time is reached.\n",
    "We'll add a counter as well to see how many steps it takes."
   ],
   "metadata": {
    "collapsed": false,
    "pycharm": {
     "name": "#%% md\n"
    }
   }
  },
  {
   "cell_type": "code",
   "execution_count": 18,
   "outputs": [
    {
     "name": "stdout",
     "output_type": "stream",
     "text": [
      "1067 TIme Steps Taken\n",
      "Time: 1.00174e-03 s\n"
     ]
    },
    {
     "data": {
      "text/plain": "{'AR': 0.8956635259915019,\n 'H': 0.004598904931980785,\n 'H2': 0.009881817791547514,\n 'H2O': 0.08002162650940889,\n 'H2O2': 2.150172641881425e-07,\n 'HO2': 4.4407077890027225e-07,\n 'O': 0.0012554302287357236,\n 'O2': 0.00442396078398726,\n 'OH': 0.0041540746747949775}"
     },
     "execution_count": 18,
     "metadata": {},
     "output_type": "execute_result"
    }
   ],
   "source": [
    "t_stop = 1e-3  # 1 ms\n",
    "count = 0\n",
    "\n",
    "while rnet.time < t_stop:\n",
    "    rnet.step()\n",
    "    count += 1\n",
    "\n",
    "print(f'{count} TIme Steps Taken')\n",
    "print(f'Time: {rnet.time:6.5e} s')\n",
    "gas.mole_fraction_dict()"
   ],
   "metadata": {
    "collapsed": false,
    "pycharm": {
     "name": "#%%\n"
    }
   }
  },
  {
   "cell_type": "markdown",
   "source": [
    "__e) Saving simulation results__\n",
    "\n",
    "We've now seen how to run a simulation, but we have not, so far, actually saved any of our simulation results! Oh no!\n",
    "\n",
    "Let's reset our simulation and see what we can do to record its change through time."
   ],
   "metadata": {
    "collapsed": false,
    "pycharm": {
     "name": "#%% md\n"
    }
   }
  },
  {
   "cell_type": "markdown",
   "source": [
    "We'll find we need to reset our simulations a lot between runs.\n",
    "To save time, let's use a function to do this for us.\n",
    "\n",
    "In the cell below, we first define some default parameters for our simulation.\n",
    "Then, we define a function to reset the `Solution` object to the initial state, allowing our default parameters to be\n",
    " overwritten.\n",
    "We'll also create a new reactor and network in the function, and return them."
   ],
   "metadata": {
    "collapsed": false,
    "pycharm": {
     "name": "#%% md\n"
    }
   }
  },
  {
   "cell_type": "code",
   "execution_count": 19,
   "outputs": [],
   "source": [
    "T0 = 1200  # K\n",
    "P0 = 101325  # Pa (1 atm)\n",
    "phi = 1.\n",
    "fuel = {'H2':1.}\n",
    "oxidizer = {'AR':.79, 'O2':.21}  # \"airgon\"\n",
    "\n",
    "def reset_simulation(sln, T=T0, P=P0, phi=phi, f=fuel, ox=oxidizer):\n",
    "    sln.set_equivalence_ratio(phi=phi, fuel=f, oxidizer=ox)\n",
    "    sln.TP = T, P\n",
    "    r1 = ct.ConstPressureReactor(sln)\n",
    "    rnet = ct.ReactorNet([r1])\n",
    "    return r1, rnet"
   ],
   "metadata": {
    "collapsed": false,
    "pycharm": {
     "name": "#%%\n"
    }
   }
  },
  {
   "cell_type": "markdown",
   "source": [
    "And that's it!\n",
    "We don't have to return the solution object (but we could if we wanted).\n",
    "When passed to a function, only a _reference_ to the `Solution` object is passed, not a copy of the object.\n",
    "Therefore, anything done to the object within the function also affects the object outside the function.\n",
    "\n",
    "__Note:__ This is an important subtlety of Python and can lead to unexpected behavior if not understood.\n",
    "For the sake of this class, we have tried to structure things such that this behavior (hopefully) won't cause you\n",
    " trouble.\n",
    "\n",
    "We do return the __Reactor__ and __ReactorNet__ objects, as those are newly created within the function.\n",
    "Their _scope_ only extends until the function concludes, unless their references are returned.\n",
    "\n",
    "Let's test it:"
   ],
   "metadata": {
    "collapsed": false,
    "pycharm": {
     "name": "#%% md\n"
    }
   }
  },
  {
   "cell_type": "code",
   "execution_count": 20,
   "outputs": [
    {
     "name": "stdout",
     "output_type": "stream",
     "text": [
      "\n",
      "  Stanford_v1.2:\n",
      "\n",
      "       temperature            1200  K\n",
      "          pressure          101325  Pa\n",
      "           density        0.279815  kg/m^3\n",
      "  mean mol. weight         27.5531  amu\n",
      "\n",
      "                          1 kg            1 kmol\n",
      "                       -----------      ------------\n",
      "          enthalpy      8.2597e+05        2.276e+07     J\n",
      "   internal energy      4.6386e+05        1.278e+07     J\n",
      "           entropy          7187.4         1.98e+05     J/K\n",
      "    Gibbs function     -7.7989e+06       -2.149e+08     J\n",
      " heat capacity c_p          943.83        2.601e+04     J/K\n",
      " heat capacity c_v          642.07        1.769e+04     J/K\n",
      "\n",
      "                           X                 Y          Chem. Pot. / RT\n",
      "                     -------------     ------------     ------------\n",
      "                H2       0.295775        0.0216399         -19.1957\n",
      "                O2       0.147887         0.171749         -28.9983\n",
      "                AR       0.556338         0.806611         -20.7987\n",
      "     [   +7 minor]              0                0\n",
      "\n"
     ]
    }
   ],
   "source": [
    "r1, rnet = reset_simulation(gas)\n",
    "gas()"
   ],
   "metadata": {
    "collapsed": false,
    "pycharm": {
     "name": "#%%\n"
    }
   }
  },
  {
   "cell_type": "markdown",
   "source": [
    "There we have it, we're back where we want to be, with unreacted fuel-air mixture.\n",
    "\n",
    "If we look at the reactor network:"
   ],
   "metadata": {
    "collapsed": false,
    "pycharm": {
     "name": "#%% md\n"
    }
   }
  },
  {
   "cell_type": "code",
   "execution_count": 21,
   "outputs": [
    {
     "data": {
      "text/plain": "0.0"
     },
     "execution_count": 21,
     "metadata": {},
     "output_type": "execute_result"
    }
   ],
   "source": [
    "rnet.time"
   ],
   "metadata": {
    "collapsed": false,
    "pycharm": {
     "name": "#%%\n"
    }
   }
  },
  {
   "cell_type": "markdown",
   "source": [
    "It's back at time zero, since we created a brand-new object. \n",
    "Before we start stepping our simulation again, let's figure out how to store our results.\n",
    "\n",
    "A simple method is to store the results for each variable of interest in `list`.\n",
    "Let's see what that might look like:"
   ],
   "metadata": {
    "collapsed": false,
    "pycharm": {
     "name": "#%% md\n"
    }
   }
  },
  {
   "cell_type": "code",
   "execution_count": 22,
   "outputs": [],
   "source": [
    "# We can define empty lists for each variable of interest\n",
    "time = []\n",
    "T = []\n",
    "H2 = []\n",
    "O2 = []\n",
    "OH = []\n",
    "H2O = []"
   ],
   "metadata": {
    "collapsed": false,
    "pycharm": {
     "name": "#%%\n"
    }
   }
  },
  {
   "cell_type": "code",
   "execution_count": 23,
   "outputs": [],
   "source": [
    "# We can then run the simulation, appending items to the lists for each step\n",
    "t_stop = 1e-3  # 1 ms\n",
    "\n",
    "while rnet.time < t_stop:\n",
    "    rnet.step()\n",
    "    time += [rnet.time]\n",
    "    T += [gas.T]\n",
    "    xs = gas.mole_fraction_dict(-1)\n",
    "    H2 += [xs['H2']]\n",
    "    O2 += [xs['O2']]\n",
    "    OH += [xs['OH']]\n",
    "    H2O += [xs['H2O']]"
   ],
   "metadata": {
    "collapsed": false,
    "pycharm": {
     "name": "#%%\n"
    }
   }
  },
  {
   "cell_type": "markdown",
   "source": [
    "We call the `mole_fraction_dict` method with the argument `-1` to make sure that all species in the mechanism have\n",
    " entries in the dictionary.\n",
    "If we didn't do this, species with mole fractions of zero would not appear in the dictionary and would raise errors\n",
    " when accessed.\n",
    "\n",
    "And now we can plot our results:"
   ],
   "metadata": {
    "collapsed": false,
    "pycharm": {
     "name": "#%% md\n"
    }
   }
  },
  {
   "cell_type": "code",
   "execution_count": 24,
   "outputs": [
    {
     "data": {
      "text/plain": "<matplotlib.legend.Legend at 0x21794902a08>"
     },
     "execution_count": 24,
     "metadata": {},
     "output_type": "execute_result"
    },
    {
     "data": {
      "text/plain": "<Figure size 576x288 with 1 Axes>",
      "image/png": "[encoded data removed]"
     },
     "metadata": {
      "needs_background": "light"
     },
     "output_type": "display_data"
    },
    {
     "data": {
      "text/plain": "<Figure size 576x288 with 1 Axes>",
      "image/png": "[encoded data removed]"
     },
     "metadata": {
      "needs_background": "light"
     },
     "output_type": "display_data"
    }
   ],
   "source": [
    "plt.figure(figsize=(8,4))\n",
    "plt.plot(time, T)\n",
    "plt.xlabel('Time (s)')\n",
    "plt.ylabel('Temperature (K)')\n",
    "\n",
    "plt.figure(figsize=(8,4))\n",
    "for sp, x in zip(['H2', 'O2', 'OH', 'H2O'], [H2, O2, OH, H2O]):\n",
    "    plt.loglog(time, x, label=sp)\n",
    "plt.xlabel('Time (s)')\n",
    "plt.ylabel('Mole Fraction (-)')\n",
    "plt.xlim((1e-5, 1e-3))\n",
    "plt.ylim((1e-6, 1))\n",
    "plt.legend()"
   ],
   "metadata": {
    "collapsed": false,
    "pycharm": {
     "name": "#%%\n"
    }
   }
  },
  {
   "cell_type": "markdown",
   "source": [
    "And there we have it - our first kinetic simulation time-series data!"
   ],
   "metadata": {
    "collapsed": false,
    "pycharm": {
     "name": "#%% md\n"
    }
   }
  },
  {
   "cell_type": "markdown",
   "source": [
    "__An aside on measuring computational efficiency__\n",
    "\n",
    "Another option getting mole fractions would be to call `mole_fraction_dict` with no argument and use the the `get`\n",
    " method to access dictionary keys, passing the second argument `0` as a default if the key is not found\n",
    " (i.e. species doesn't appear in the `mole_fraction_dict`).\n",
    "\n",
    "Since getting mole fractions is something that will be done many times during simulations, we might want to make sure\n",
    " we're doing this as efficiently as possible.\n",
    "We can set up cells with the different access methods, using the \"cell magic\" `&&timeit` in a cell to tell Jupyter to\n",
    " compute how long a cell takes to run."
   ],
   "metadata": {
    "collapsed": false,
    "pycharm": {
     "name": "#%% md\n"
    }
   }
  },
  {
   "cell_type": "code",
   "execution_count": 25,
   "outputs": [
    {
     "name": "stdout",
     "output_type": "stream",
     "text": [
      "3.01 µs ± 96.2 ns per loop (mean ± std. dev. of 7 runs, 100000 loops each)\n"
     ]
    }
   ],
   "source": [
    "%%timeit\n",
    "\n",
    "# return all species in the dictionary, then access the dictionary through dictionary indexing\n",
    "gas.mole_fraction_dict(-1)['H2']"
   ],
   "metadata": {
    "collapsed": false,
    "pycharm": {
     "name": "#%%\n"
    }
   }
  },
  {
   "cell_type": "code",
   "execution_count": 26,
   "outputs": [
    {
     "name": "stdout",
     "output_type": "stream",
     "text": [
      "2.77 µs ± 51.2 ns per loop (mean ± std. dev. of 7 runs, 100000 loops each)\n"
     ]
    }
   ],
   "source": [
    "%%timeit\n",
    "\n",
    "# return only species with non-zero mole fractions, then access the dictionary with the 'get' method\n",
    "gas.mole_fraction_dict().get('H2', 0)"
   ],
   "metadata": {
    "collapsed": false,
    "pycharm": {
     "name": "#%%\n"
    }
   }
  },
  {
   "cell_type": "markdown",
   "source": [
    "We see the two methods take close to the same time to run.\n",
    "Another option would be to access mole fractions from the mole-fraction array."
   ],
   "metadata": {
    "collapsed": false,
    "pycharm": {
     "name": "#%% md\n"
    }
   }
  },
  {
   "cell_type": "code",
   "execution_count": 27,
   "outputs": [
    {
     "name": "stdout",
     "output_type": "stream",
     "text": [
      "2.46 µs ± 168 ns per loop (mean ± std. dev. of 7 runs, 100000 loops each)\n"
     ]
    }
   ],
   "source": [
    "%%timeit\n",
    "\n",
    "gas.X[gas.species_index('H2')]"
   ],
   "metadata": {
    "collapsed": false,
    "pycharm": {
     "name": "#%%\n"
    }
   }
  },
  {
   "cell_type": "markdown",
   "source": [
    "This is better!\n",
    "What's more, the species index doesn't change, so if we store the index to a variable at the start of the run, we can\n",
    " just reuse the variable instead of re-calling the `species_index` method repeatedly."
   ],
   "metadata": {
    "collapsed": false,
    "pycharm": {
     "name": "#%% md\n"
    }
   }
  },
  {
   "cell_type": "code",
   "execution_count": 28,
   "outputs": [],
   "source": [
    "i_H2 = gas.species_index('H2')"
   ],
   "metadata": {
    "collapsed": false,
    "pycharm": {
     "name": "#%%\n"
    }
   }
  },
  {
   "cell_type": "code",
   "execution_count": 29,
   "outputs": [
    {
     "name": "stdout",
     "output_type": "stream",
     "text": [
      "1.52 µs ± 67 ns per loop (mean ± std. dev. of 7 runs, 1000000 loops each)\n"
     ]
    }
   ],
   "source": [
    "%%timeit\n",
    "\n",
    "gas.X[i_H2]"
   ],
   "metadata": {
    "collapsed": false,
    "pycharm": {
     "name": "#%%\n"
    }
   }
  },
  {
   "cell_type": "markdown",
   "source": [
    "Less than half the time of our original method!?\n",
    "\n",
    "That could add up - we'll take it!"
   ],
   "metadata": {
    "collapsed": false,
    "pycharm": {
     "name": "#%% md\n"
    }
   }
  },
  {
   "cell_type": "markdown",
   "source": [
    "__f) Storing results in a dictionary__\n",
    "\n",
    "We've seen how we can use lists to track variables at each step of a simulation run.\n",
    "However, even with the relatively few variables we tracked in the last run, we ended up with a lot of variables\n",
    " floating around for all those lists.\n",
    "\n",
    "A cleaner way to organize results would be in a `dict`, with the names of the variables as the keys and `lists` as the\n",
    " stored values.\n",
    "\n",
    "Since we'll want a new one of these dictionaries for every simulation run, we'll write a function to initialize one."
   ],
   "metadata": {
    "collapsed": false,
    "pycharm": {
     "name": "#%% md\n"
    }
   }
  },
  {
   "cell_type": "code",
   "source": [
    "def new_result_dict(sln: ct.Solution, species_list=None):\n",
    "    # if the species list is None, make entries for all the species in the Solution object\n",
    "    if species_list is None:\n",
    "        species_list = sln.species_names\n",
    "    else:  # remove any species in the list not in the Solution to prevent errors\n",
    "        species_list = list(species_list)  # make sure the species_list is of type list\n",
    "        for sp in species_list:\n",
    "            if sp not in sln.species_names:\n",
    "                print(f\"{sp} not in mechanism; removed from tracked species.\")\n",
    "                species_list.remove(sp)\n",
    "\n",
    "    # start initializing the dictionary with basic properties - time, temperature (T), pressure (P)\n",
    "    result_dict = {'time':[],\n",
    "                   'T':[],\n",
    "                   'P':[]}\n",
    "    # now add entries for the species\n",
    "    for sp in species_list:\n",
    "        result_dict[sp] = []\n",
    "    # finally, add entries with a list of the species and their indices\n",
    "    result_dict['species'] = species_list\n",
    "    result_dict['indices'] = [sln.species_index(sp) for sp in species_list]\n",
    "\n",
    "    return result_dict"
   ],
   "metadata": {
    "collapsed": false,
    "pycharm": {
     "name": "#%%\n"
    }
   },
   "execution_count": 31,
   "outputs": []
  },
  {
   "cell_type": "code",
   "execution_count": null,
   "outputs": [],
   "source": [],
   "metadata": {
    "collapsed": false,
    "pycharm": {
     "name": "#%%"
    }
   }
  }
 ],
 "metadata": {
  "kernelspec": {
   "name": "me362b",
   "language": "python",
   "display_name": "me362b"
  },
  "language_info": {
   "codemirror_mode": {
    "name": "ipython",
    "version": 2
   },
   "file_extension": ".py",
   "mimetype": "text/x-python",
   "name": "python",
   "nbconvert_exporter": "python",
   "pygments_lexer": "ipython2",
   "version": "2.7.6"
  }
 },
 "nbformat": 4,
 "nbformat_minor": 0
}
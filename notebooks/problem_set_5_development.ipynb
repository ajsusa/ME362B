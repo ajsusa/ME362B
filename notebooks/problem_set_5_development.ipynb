{
 "cells": [
  {
   "cell_type": "markdown",
   "metadata": {
    "collapsed": true,
    "pycharm": {
     "name": "#%% md\n"
    }
   },
   "source": [
    "# Problem Set #5: Development"
   ]
  },
  {
   "cell_type": "code",
   "execution_count": 150,
   "outputs": [],
   "source": [
    "import cantera as ct\n",
    "import numpy as np\n",
    "import matplotlib.pyplot as plt\n",
    "import os"
   ],
   "metadata": {
    "collapsed": false,
    "pycharm": {
     "name": "#%%\n"
    }
   }
  },
  {
   "cell_type": "markdown",
   "source": [
    "## 1) Get everything set up"
   ],
   "metadata": {
    "collapsed": false,
    "pycharm": {
     "name": "#%% md\n"
    }
   }
  },
  {
   "cell_type": "code",
   "execution_count": 151,
   "outputs": [
    {
     "data": {
      "text/plain": "'gri30.cti'"
     },
     "execution_count": 151,
     "metadata": {},
     "output_type": "execute_result"
    }
   ],
   "source": [
    "# path to kinetic mechanism\n",
    "# fname_mech = os.path.abspath('..') + '\\\\mechanisms\\\\stanford-mech_v12.cti'\n",
    "fname_mech = 'gri30.cti'\n",
    "fname_mech"
   ],
   "metadata": {
    "collapsed": false,
    "pycharm": {
     "name": "#%%\n"
    }
   }
  },
  {
   "cell_type": "code",
   "execution_count": 152,
   "outputs": [
    {
     "name": "stdout",
     "output_type": "stream",
     "text": [
      "\n",
      "  gri30:\n",
      "\n",
      "       temperature             300  K\n",
      "          pressure          101325  Pa\n",
      "           density       0.0818891  kg/m^3\n",
      "  mean mol. weight         2.01588  amu\n",
      "\n",
      "                          1 kg            1 kmol\n",
      "                       -----------      ------------\n",
      "          enthalpy           26470        5.336e+04     J\n",
      "   internal energy     -1.2109e+06       -2.441e+06     J\n",
      "           entropy           64914        1.309e+05     J/K\n",
      "    Gibbs function     -1.9448e+07        -3.92e+07     J\n",
      " heat capacity c_p           14312        2.885e+04     J/K\n",
      " heat capacity c_v           10187        2.054e+04     J/K\n",
      "\n",
      "                           X                 Y          Chem. Pot. / RT\n",
      "                     -------------     ------------     ------------\n",
      "                H2              1                1         -15.7173\n",
      "     [  +52 minor]              0                0\n",
      "\n"
     ]
    }
   ],
   "source": [
    "# create the solution instance\n",
    "sln = ct.Solution(fname_mech)\n",
    "sln()"
   ],
   "metadata": {
    "collapsed": false,
    "pycharm": {
     "name": "#%%\n"
    }
   }
  },
  {
   "cell_type": "code",
   "execution_count": 153,
   "outputs": [
    {
     "data": {
      "text/plain": "['H2',\n 'H',\n 'O',\n 'O2',\n 'OH',\n 'H2O',\n 'HO2',\n 'H2O2',\n 'C',\n 'CH',\n 'CH2',\n 'CH2(S)',\n 'CH3',\n 'CH4',\n 'CO',\n 'CO2',\n 'HCO',\n 'CH2O',\n 'CH2OH',\n 'CH3O',\n 'CH3OH',\n 'C2H',\n 'C2H2',\n 'C2H3',\n 'C2H4',\n 'C2H5',\n 'C2H6',\n 'HCCO',\n 'CH2CO',\n 'HCCOH',\n 'N',\n 'NH',\n 'NH2',\n 'NH3',\n 'NNH',\n 'NO',\n 'NO2',\n 'N2O',\n 'HNO',\n 'CN',\n 'HCN',\n 'H2CN',\n 'HCNN',\n 'HCNO',\n 'HOCN',\n 'HNCO',\n 'NCO',\n 'N2',\n 'AR',\n 'C3H7',\n 'C3H8',\n 'CH2CHO',\n 'CH3CHO']"
     },
     "execution_count": 153,
     "metadata": {},
     "output_type": "execute_result"
    }
   ],
   "source": [
    "species = sln.species_names\n",
    "species"
   ],
   "metadata": {
    "collapsed": false,
    "pycharm": {
     "name": "#%%\n"
    }
   }
  },
  {
   "cell_type": "code",
   "execution_count": 154,
   "outputs": [
    {
     "data": {
      "text/plain": "['2 O + M <=> O2 + M',\n 'H + O + M <=> OH + M',\n 'H2 + O <=> H + OH',\n 'HO2 + O <=> O2 + OH',\n 'H2O2 + O <=> HO2 + OH',\n 'CH + O <=> CO + H',\n 'CH2 + O <=> H + HCO',\n 'CH2(S) + O <=> CO + H2',\n 'CH2(S) + O <=> H + HCO',\n 'CH3 + O <=> CH2O + H',\n 'CH4 + O <=> CH3 + OH',\n 'CO + O (+M) <=> CO2 (+M)',\n 'HCO + O <=> CO + OH',\n 'HCO + O <=> CO2 + H',\n 'CH2O + O <=> HCO + OH',\n 'CH2OH + O <=> CH2O + OH',\n 'CH3O + O <=> CH2O + OH',\n 'CH3OH + O <=> CH2OH + OH',\n 'CH3OH + O <=> CH3O + OH',\n 'C2H + O <=> CH + CO',\n 'C2H2 + O <=> H + HCCO',\n 'C2H2 + O <=> C2H + OH',\n 'C2H2 + O <=> CH2 + CO',\n 'C2H3 + O <=> CH2CO + H',\n 'C2H4 + O <=> CH3 + HCO',\n 'C2H5 + O <=> CH2O + CH3',\n 'C2H6 + O <=> C2H5 + OH',\n 'HCCO + O <=> 2 CO + H',\n 'CH2CO + O <=> HCCO + OH',\n 'CH2CO + O <=> CH2 + CO2',\n 'CO + O2 <=> CO2 + O',\n 'CH2O + O2 <=> HCO + HO2',\n 'H + O2 + M <=> HO2 + M',\n 'H + 2 O2 <=> HO2 + O2',\n 'H + H2O + O2 <=> H2O + HO2',\n 'H + N2 + O2 <=> HO2 + N2',\n 'AR + H + O2 <=> AR + HO2',\n 'H + O2 <=> O + OH',\n '2 H + M <=> H2 + M',\n '2 H + H2 <=> 2 H2',\n '2 H + H2O <=> H2 + H2O',\n 'CO2 + 2 H <=> CO2 + H2',\n 'H + OH + M <=> H2O + M',\n 'H + HO2 <=> H2O + O',\n 'H + HO2 <=> H2 + O2',\n 'H + HO2 <=> 2 OH',\n 'H + H2O2 <=> H2 + HO2',\n 'H + H2O2 <=> H2O + OH',\n 'CH + H <=> C + H2',\n 'CH2 + H (+M) <=> CH3 (+M)',\n 'CH2(S) + H <=> CH + H2',\n 'CH3 + H (+M) <=> CH4 (+M)',\n 'CH4 + H <=> CH3 + H2',\n 'H + HCO (+M) <=> CH2O (+M)',\n 'H + HCO <=> CO + H2',\n 'CH2O + H (+M) <=> CH2OH (+M)',\n 'CH2O + H (+M) <=> CH3O (+M)',\n 'CH2O + H <=> H2 + HCO',\n 'CH2OH + H (+M) <=> CH3OH (+M)',\n 'CH2OH + H <=> CH2O + H2',\n 'CH2OH + H <=> CH3 + OH',\n 'CH2OH + H <=> CH2(S) + H2O',\n 'CH3O + H (+M) <=> CH3OH (+M)',\n 'CH3O + H <=> CH2OH + H',\n 'CH3O + H <=> CH2O + H2',\n 'CH3O + H <=> CH3 + OH',\n 'CH3O + H <=> CH2(S) + H2O',\n 'CH3OH + H <=> CH2OH + H2',\n 'CH3OH + H <=> CH3O + H2',\n 'C2H + H (+M) <=> C2H2 (+M)',\n 'C2H2 + H (+M) <=> C2H3 (+M)',\n 'C2H3 + H (+M) <=> C2H4 (+M)',\n 'C2H3 + H <=> C2H2 + H2',\n 'C2H4 + H (+M) <=> C2H5 (+M)',\n 'C2H4 + H <=> C2H3 + H2',\n 'C2H5 + H (+M) <=> C2H6 (+M)',\n 'C2H5 + H <=> C2H4 + H2',\n 'C2H6 + H <=> C2H5 + H2',\n 'H + HCCO <=> CH2(S) + CO',\n 'CH2CO + H <=> H2 + HCCO',\n 'CH2CO + H <=> CH3 + CO',\n 'H + HCCOH <=> CH2CO + H',\n 'CO + H2 (+M) <=> CH2O (+M)',\n 'H2 + OH <=> H + H2O',\n '2 OH (+M) <=> H2O2 (+M)',\n '2 OH <=> H2O + O',\n 'HO2 + OH <=> H2O + O2',\n 'H2O2 + OH <=> H2O + HO2',\n 'H2O2 + OH <=> H2O + HO2',\n 'C + OH <=> CO + H',\n 'CH + OH <=> H + HCO',\n 'CH2 + OH <=> CH2O + H',\n 'CH2 + OH <=> CH + H2O',\n 'CH2(S) + OH <=> CH2O + H',\n 'CH3 + OH (+M) <=> CH3OH (+M)',\n 'CH3 + OH <=> CH2 + H2O',\n 'CH3 + OH <=> CH2(S) + H2O',\n 'CH4 + OH <=> CH3 + H2O',\n 'CO + OH <=> CO2 + H',\n 'HCO + OH <=> CO + H2O',\n 'CH2O + OH <=> H2O + HCO',\n 'CH2OH + OH <=> CH2O + H2O',\n 'CH3O + OH <=> CH2O + H2O',\n 'CH3OH + OH <=> CH2OH + H2O',\n 'CH3OH + OH <=> CH3O + H2O',\n 'C2H + OH <=> H + HCCO',\n 'C2H2 + OH <=> CH2CO + H',\n 'C2H2 + OH <=> H + HCCOH',\n 'C2H2 + OH <=> C2H + H2O',\n 'C2H2 + OH <=> CH3 + CO',\n 'C2H3 + OH <=> C2H2 + H2O',\n 'C2H4 + OH <=> C2H3 + H2O',\n 'C2H6 + OH <=> C2H5 + H2O',\n 'CH2CO + OH <=> H2O + HCCO',\n '2 HO2 <=> H2O2 + O2',\n '2 HO2 <=> H2O2 + O2',\n 'CH2 + HO2 <=> CH2O + OH',\n 'CH3 + HO2 <=> CH4 + O2',\n 'CH3 + HO2 <=> CH3O + OH',\n 'CO + HO2 <=> CO2 + OH',\n 'CH2O + HO2 <=> H2O2 + HCO',\n 'C + O2 <=> CO + O',\n 'C + CH2 <=> C2H + H',\n 'C + CH3 <=> C2H2 + H',\n 'CH + O2 <=> HCO + O',\n 'CH + H2 <=> CH2 + H',\n 'CH + H2O <=> CH2O + H',\n 'CH + CH2 <=> C2H2 + H',\n 'CH + CH3 <=> C2H3 + H',\n 'CH + CH4 <=> C2H4 + H',\n 'CH + CO (+M) <=> HCCO (+M)',\n 'CH + CO2 <=> CO + HCO',\n 'CH + CH2O <=> CH2CO + H',\n 'CH + HCCO <=> C2H2 + CO',\n 'CH2 + O2 => CO + H + OH',\n 'CH2 + H2 <=> CH3 + H',\n '2 CH2 <=> C2H2 + H2',\n 'CH2 + CH3 <=> C2H4 + H',\n 'CH2 + CH4 <=> 2 CH3',\n 'CH2 + CO (+M) <=> CH2CO (+M)',\n 'CH2 + HCCO <=> C2H3 + CO',\n 'CH2(S) + N2 <=> CH2 + N2',\n 'AR + CH2(S) <=> AR + CH2',\n 'CH2(S) + O2 <=> CO + H + OH',\n 'CH2(S) + O2 <=> CO + H2O',\n 'CH2(S) + H2 <=> CH3 + H',\n 'CH2(S) + H2O (+M) <=> CH3OH (+M)',\n 'CH2(S) + H2O <=> CH2 + H2O',\n 'CH2(S) + CH3 <=> C2H4 + H',\n 'CH2(S) + CH4 <=> 2 CH3',\n 'CH2(S) + CO <=> CH2 + CO',\n 'CH2(S) + CO2 <=> CH2 + CO2',\n 'CH2(S) + CO2 <=> CH2O + CO',\n 'C2H6 + CH2(S) <=> C2H5 + CH3',\n 'CH3 + O2 <=> CH3O + O',\n 'CH3 + O2 <=> CH2O + OH',\n 'CH3 + H2O2 <=> CH4 + HO2',\n '2 CH3 (+M) <=> C2H6 (+M)',\n '2 CH3 <=> C2H5 + H',\n 'CH3 + HCO <=> CH4 + CO',\n 'CH2O + CH3 <=> CH4 + HCO',\n 'CH3 + CH3OH <=> CH2OH + CH4',\n 'CH3 + CH3OH <=> CH3O + CH4',\n 'C2H4 + CH3 <=> C2H3 + CH4',\n 'C2H6 + CH3 <=> C2H5 + CH4',\n 'H2O + HCO <=> CO + H + H2O',\n 'HCO + M <=> CO + H + M',\n 'HCO + O2 <=> CO + HO2',\n 'CH2OH + O2 <=> CH2O + HO2',\n 'CH3O + O2 <=> CH2O + HO2',\n 'C2H + O2 <=> CO + HCO',\n 'C2H + H2 <=> C2H2 + H',\n 'C2H3 + O2 <=> CH2O + HCO',\n 'C2H4 (+M) <=> C2H2 + H2 (+M)',\n 'C2H5 + O2 <=> C2H4 + HO2',\n 'HCCO + O2 <=> 2 CO + OH',\n '2 HCCO <=> C2H2 + 2 CO',\n 'N + NO <=> N2 + O',\n 'N + O2 <=> NO + O',\n 'N + OH <=> H + NO',\n 'N2O + O <=> N2 + O2',\n 'N2O + O <=> 2 NO',\n 'H + N2O <=> N2 + OH',\n 'N2O + OH <=> HO2 + N2',\n 'N2O (+M) <=> N2 + O (+M)',\n 'HO2 + NO <=> NO2 + OH',\n 'NO + O + M <=> NO2 + M',\n 'NO2 + O <=> NO + O2',\n 'H + NO2 <=> NO + OH',\n 'NH + O <=> H + NO',\n 'H + NH <=> H2 + N',\n 'NH + OH <=> H + HNO',\n 'NH + OH <=> H2O + N',\n 'NH + O2 <=> HNO + O',\n 'NH + O2 <=> NO + OH',\n 'N + NH <=> H + N2',\n 'H2O + NH <=> H2 + HNO',\n 'NH + NO <=> N2 + OH',\n 'NH + NO <=> H + N2O',\n 'NH2 + O <=> NH + OH',\n 'NH2 + O <=> H + HNO',\n 'H + NH2 <=> H2 + NH',\n 'NH2 + OH <=> H2O + NH',\n 'NNH <=> H + N2',\n 'NNH + M <=> H + N2 + M',\n 'NNH + O2 <=> HO2 + N2',\n 'NNH + O <=> N2 + OH',\n 'NNH + O <=> NH + NO',\n 'H + NNH <=> H2 + N2',\n 'NNH + OH <=> H2O + N2',\n 'CH3 + NNH <=> CH4 + N2',\n 'H + NO + M <=> HNO + M',\n 'HNO + O <=> NO + OH',\n 'H + HNO <=> H2 + NO',\n 'HNO + OH <=> H2O + NO',\n 'HNO + O2 <=> HO2 + NO',\n 'CN + O <=> CO + N',\n 'CN + OH <=> H + NCO',\n 'CN + H2O <=> HCN + OH',\n 'CN + O2 <=> NCO + O',\n 'CN + H2 <=> H + HCN',\n 'NCO + O <=> CO + NO',\n 'H + NCO <=> CO + NH',\n 'NCO + OH <=> CO + H + NO',\n 'N + NCO <=> CO + N2',\n 'NCO + O2 <=> CO2 + NO',\n 'NCO + M <=> CO + N + M',\n 'NCO + NO <=> CO + N2O',\n 'NCO + NO <=> CO2 + N2',\n 'HCN + M <=> CN + H + M',\n 'HCN + O <=> H + NCO',\n 'HCN + O <=> CO + NH',\n 'HCN + O <=> CN + OH',\n 'HCN + OH <=> H + HOCN',\n 'HCN + OH <=> H + HNCO',\n 'HCN + OH <=> CO + NH2',\n 'H + HCN (+M) <=> H2CN (+M)',\n 'H2CN + N <=> CH2 + N2',\n 'C + N2 <=> CN + N',\n 'CH + N2 <=> HCN + N',\n 'CH + N2 (+M) <=> HCNN (+M)',\n 'CH2 + N2 <=> HCN + NH',\n 'CH2(S) + N2 <=> HCN + NH',\n 'C + NO <=> CN + O',\n 'C + NO <=> CO + N',\n 'CH + NO <=> HCN + O',\n 'CH + NO <=> H + NCO',\n 'CH + NO <=> HCO + N',\n 'CH2 + NO <=> H + HNCO',\n 'CH2 + NO <=> HCN + OH',\n 'CH2 + NO <=> H + HCNO',\n 'CH2(S) + NO <=> H + HNCO',\n 'CH2(S) + NO <=> HCN + OH',\n 'CH2(S) + NO <=> H + HCNO',\n 'CH3 + NO <=> H2O + HCN',\n 'CH3 + NO <=> H2CN + OH',\n 'HCNN + O <=> CO + H + N2',\n 'HCNN + O <=> HCN + NO',\n 'HCNN + O2 <=> HCO + N2 + O',\n 'HCNN + OH <=> H + HCO + N2',\n 'H + HCNN <=> CH2 + N2',\n 'HNCO + O <=> CO2 + NH',\n 'HNCO + O <=> CO + HNO',\n 'HNCO + O <=> NCO + OH',\n 'H + HNCO <=> CO + NH2',\n 'H + HNCO <=> H2 + NCO',\n 'HNCO + OH <=> H2O + NCO',\n 'HNCO + OH <=> CO2 + NH2',\n 'HNCO + M <=> CO + NH + M',\n 'H + HCNO <=> H + HNCO',\n 'H + HCNO <=> HCN + OH',\n 'H + HCNO <=> CO + NH2',\n 'H + HOCN <=> H + HNCO',\n 'HCCO + NO <=> CO + HCNO',\n 'CH3 + N <=> H + H2CN',\n 'CH3 + N <=> H2 + HCN',\n 'H + NH3 <=> H2 + NH2',\n 'NH3 + OH <=> H2O + NH2',\n 'NH3 + O <=> NH2 + OH',\n 'CO2 + NH <=> CO + HNO',\n 'CN + NO2 <=> NCO + NO',\n 'NCO + NO2 <=> CO2 + N2O',\n 'CO2 + N <=> CO + NO',\n 'CH3 + O => CO + H + H2',\n 'C2H4 + O <=> CH2CHO + H',\n 'C2H5 + O <=> CH3CHO + H',\n 'HO2 + OH <=> H2O + O2',\n 'CH3 + OH => CH2O + H2',\n 'CH + H2 (+M) <=> CH3 (+M)',\n 'CH2 + O2 => CO2 + 2 H',\n 'CH2 + O2 <=> CH2O + O',\n '2 CH2 => C2H2 + 2 H',\n 'CH2(S) + H2O => CH2O + H2',\n 'C2H3 + O2 <=> CH2CHO + O',\n 'C2H3 + O2 <=> C2H2 + HO2',\n 'CH3CHO + O <=> CH2CHO + OH',\n 'CH3CHO + O => CH3 + CO + OH',\n 'CH3CHO + O2 => CH3 + CO + HO2',\n 'CH3CHO + H <=> CH2CHO + H2',\n 'CH3CHO + H => CH3 + CO + H2',\n 'CH3CHO + OH => CH3 + CO + H2O',\n 'CH3CHO + HO2 => CH3 + CO + H2O2',\n 'CH3 + CH3CHO => CH3 + CH4 + CO',\n 'CH2CO + H (+M) <=> CH2CHO (+M)',\n 'CH2CHO + O => CH2 + CO2 + H',\n 'CH2CHO + O2 => CH2O + CO + OH',\n 'CH2CHO + O2 => 2 HCO + OH',\n 'CH2CHO + H <=> CH3 + HCO',\n 'CH2CHO + H <=> CH2CO + H2',\n 'CH2CHO + OH <=> CH2CO + H2O',\n 'CH2CHO + OH <=> CH2OH + HCO',\n 'C2H5 + CH3 (+M) <=> C3H8 (+M)',\n 'C3H8 + O <=> C3H7 + OH',\n 'C3H8 + H <=> C3H7 + H2',\n 'C3H8 + OH <=> C3H7 + H2O',\n 'C3H7 + H2O2 <=> C3H8 + HO2',\n 'C3H8 + CH3 <=> C3H7 + CH4',\n 'C2H4 + CH3 (+M) <=> C3H7 (+M)',\n 'C3H7 + O <=> C2H5 + CH2O',\n 'C3H7 + H (+M) <=> C3H8 (+M)',\n 'C3H7 + H <=> C2H5 + CH3',\n 'C3H7 + OH <=> C2H5 + CH2OH',\n 'C3H7 + HO2 <=> C3H8 + O2',\n 'C3H7 + HO2 => C2H5 + CH2O + OH',\n 'C3H7 + CH3 <=> 2 C2H5']"
     },
     "execution_count": 154,
     "metadata": {},
     "output_type": "execute_result"
    }
   ],
   "source": [
    "rxns = sln.reaction_equations()\n",
    "rxns"
   ],
   "metadata": {
    "collapsed": false,
    "pycharm": {
     "name": "#%%\n"
    }
   }
  },
  {
   "cell_type": "code",
   "execution_count": 155,
   "outputs": [],
   "source": [
    "# set up the conditions\n",
    "oxidizer = {'AR': .99, 'O2':.01}\n",
    "fuel = {'CH4':1.}\n",
    "P0 = 101325."
   ],
   "metadata": {
    "collapsed": false,
    "pycharm": {
     "name": "#%%\n"
    }
   }
  },
  {
   "cell_type": "code",
   "execution_count": 156,
   "outputs": [
    {
     "name": "stdout",
     "output_type": "stream",
     "text": [
      "\n",
      "  gri30:\n",
      "\n",
      "       temperature            1200  K\n",
      "          pressure          101325  Pa\n",
      "           density        0.403681  kg/m^3\n",
      "  mean mol. weight           39.75  amu\n",
      "\n",
      "                          1 kg            1 kmol\n",
      "                       -----------      ------------\n",
      "          enthalpy      4.6945e+05        1.866e+07     J\n",
      "   internal energy      2.1845e+05        8.683e+06     J\n",
      "           entropy          4665.5        1.855e+05     J/K\n",
      "    Gibbs function     -5.1291e+06       -2.039e+08     J\n",
      " heat capacity c_p          534.23        2.124e+04     J/K\n",
      " heat capacity c_v          325.06        1.292e+04     J/K\n",
      "\n",
      "                           X                 Y          Chem. Pot. / RT\n",
      "                     -------------     ------------     ------------\n",
      "                O2     0.00995025       0.00800997         -31.6972\n",
      "               CH4     0.00497512       0.00200792          -38.911\n",
      "                AR       0.985075         0.989982         -20.2274\n",
      "     [  +50 minor]              0                0\n",
      "\n"
     ]
    }
   ],
   "source": [
    "def reset_sln(sln, T, P=P0, phi=1.):\n",
    "    sln.TP = T, P\n",
    "    sln.set_equivalence_ratio(phi=phi, oxidizer=oxidizer, fuel=fuel)\n",
    "\n",
    "reset_sln(sln, 1200)\n",
    "sln()"
   ],
   "metadata": {
    "collapsed": false,
    "pycharm": {
     "name": "#%%\n"
    }
   }
  },
  {
   "cell_type": "code",
   "execution_count": 157,
   "outputs": [
    {
     "data": {
      "text/plain": "<cantera._cantera.ConstPressureReactor at 0x2062e2c90b8>"
     },
     "execution_count": 157,
     "metadata": {},
     "output_type": "execute_result"
    }
   ],
   "source": [
    "# set up the reactor and network\n",
    "r1 = ct.ConstPressureReactor(contents=sln, energy='on')\n",
    "r1"
   ],
   "metadata": {
    "collapsed": false,
    "pycharm": {
     "name": "#%%\n"
    }
   }
  },
  {
   "cell_type": "code",
   "execution_count": 158,
   "outputs": [
    {
     "data": {
      "text/plain": "<cantera._cantera.ReactorNet at 0x2062dc6c198>"
     },
     "execution_count": 158,
     "metadata": {},
     "output_type": "execute_result"
    }
   ],
   "source": [
    "rnet = ct.ReactorNet(reactors=(r1,))\n",
    "rnet"
   ],
   "metadata": {
    "collapsed": false,
    "pycharm": {
     "name": "#%%\n"
    }
   }
  },
  {
   "cell_type": "code",
   "execution_count": 159,
   "outputs": [],
   "source": [
    "def reset_reactor(sln,  T, rnet=rnet, P=P0, phi=1.):\n",
    "    reset_sln(sln, T, P=P, phi=phi)\n",
    "    rnet.set_initial_time(0)"
   ],
   "metadata": {
    "collapsed": false,
    "pycharm": {
     "name": "#%%\n"
    }
   }
  },
  {
   "cell_type": "code",
   "execution_count": 160,
   "outputs": [],
   "source": [
    "reset_reactor(sln, 1200)\n",
    "\n",
    "ts, Ts, spcs = [], [], {}\n",
    "for sp in sln.species_names:\n",
    "    spcs[sp] = []"
   ],
   "metadata": {
    "collapsed": false,
    "pycharm": {
     "name": "#%%\n"
    }
   }
  },
  {
   "cell_type": "code",
   "execution_count": 161,
   "outputs": [],
   "source": [
    "def get_state(rnet, ts=ts, Ts=Ts, spcs=spcs):\n",
    "    ts += [rnet.time]\n",
    "    Ts += [sln.T]\n",
    "    sp_dict = sln.mole_fraction_dict()\n",
    "    for sp in sln.species_names:\n",
    "        spcs[sp] += [sp_dict.get(sp, 0)]"
   ],
   "metadata": {
    "collapsed": false,
    "pycharm": {
     "name": "#%%\n"
    }
   }
  },
  {
   "cell_type": "code",
   "execution_count": 162,
   "outputs": [
    {
     "data": {
      "text/plain": "[<matplotlib.lines.Line2D at 0x2062ae7c048>]"
     },
     "execution_count": 162,
     "metadata": {},
     "output_type": "execute_result"
    },
    {
     "data": {
      "text/plain": "<Figure size 432x288 with 1 Axes>",
      "image/png": "[encoded data removed]"
     },
     "metadata": {
      "needs_background": "light"
     },
     "output_type": "display_data"
    }
   ],
   "source": [
    "for i in range(100):\n",
    "    rnet.step()\n",
    "    get_state(rnet)\n",
    "\n",
    "plt.semilogx(ts, Ts)"
   ],
   "metadata": {
    "collapsed": false,
    "pycharm": {
     "name": "#%%\n"
    }
   }
  },
  {
   "cell_type": "code",
   "execution_count": 163,
   "outputs": [
    {
     "data": {
      "text/plain": "(1e-05, 0.1)"
     },
     "execution_count": 163,
     "metadata": {},
     "output_type": "execute_result"
    },
    {
     "data": {
      "text/plain": "<Figure size 432x288 with 1 Axes>",
      "image/png": "[encoded data removed]"
     },
     "metadata": {
      "needs_background": "light"
     },
     "output_type": "display_data"
    }
   ],
   "source": [
    "plt.semilogx(ts[:-1], np.diff(Ts) / np.diff(ts))\n",
    "plt.xlim((1e-5, 1e-1))"
   ],
   "metadata": {
    "collapsed": false,
    "pycharm": {
     "name": "#%%\n"
    }
   }
  },
  {
   "cell_type": "code",
   "execution_count": 164,
   "outputs": [
    {
     "data": {
      "text/plain": "(0.0001, 0.1)"
     },
     "execution_count": 164,
     "metadata": {},
     "output_type": "execute_result"
    },
    {
     "data": {
      "text/plain": "<Figure size 432x288 with 1 Axes>",
      "image/png": "[encoded data removed]"
     },
     "metadata": {
      "needs_background": "light"
     },
     "output_type": "display_data"
    }
   ],
   "source": [
    "# for sp in ['O2', 'H2', 'OH', 'H']:\n",
    "for sp in sln.species_names:\n",
    "    plt.loglog(ts, spcs[sp], label=sp)\n",
    "plt.legend()\n",
    "plt.xlim((1e-5, 1e-2))\n",
    "plt.ylim((1e-4, 1e-1))"
   ],
   "metadata": {
    "collapsed": false,
    "pycharm": {
     "name": "#%%\n"
    }
   }
  },
  {
   "cell_type": "code",
   "execution_count": 165,
   "outputs": [
    {
     "data": {
      "text/plain": "{'O': 0.0350449799183615,\n 'OH': 0.0350449799183615,\n 'H': 0.0350449799183615,\n 'T': 0.034320755628395545}"
     },
     "execution_count": 165,
     "metadata": {},
     "output_type": "execute_result"
    }
   ],
   "source": [
    "t_ign = {}\n",
    "for sp in ['O', 'OH', 'H']:\n",
    "    t_ign[sp] = ts[np.argmax(spcs[sp])]\n",
    "\n",
    "dT_dt = np.diff(Ts) / np.diff(ts)\n",
    "t_ign['T'] = ts[:-1][np.argmax(dT_dt)]\n",
    "\n",
    "t_ign"
   ],
   "metadata": {
    "collapsed": false,
    "pycharm": {
     "name": "#%%\n"
    }
   }
  },
  {
   "cell_type": "code",
   "execution_count": 166,
   "outputs": [
    {
     "data": {
      "text/plain": "1388.2518994482002"
     },
     "execution_count": 166,
     "metadata": {},
     "output_type": "execute_result"
    }
   ],
   "source": [
    "reset_reactor(sln, 1200)\n",
    "sln.equilibrate('HP')\n",
    "T_eq = sln.T\n",
    "T_eq"
   ],
   "metadata": {
    "collapsed": false,
    "pycharm": {
     "name": "#%%\n"
    }
   }
  },
  {
   "cell_type": "code",
   "execution_count": 167,
   "outputs": [],
   "source": [
    "def calc_T_ign_stop(sln, fractional_rise=0.95) -> float:\n",
    "    \"\"\"\n",
    "    calculates the temperature at which to stop an ignition delay simulation\n",
    "    :param sln: ct.Solution at initial simulation conditions\n",
    "    :return T_stop: float, stopping temperature\n",
    "    \"\"\"\n",
    "\n",
    "    TPX_0 = sln.TPX\n",
    "\n",
    "    # get the equilibrium temperature of the solution to use as a stop condition\n",
    "    sln.equilibrate('HP')\n",
    "    Teq = sln.T\n",
    "\n",
    "    # calculate the temperature at which to stop the simulation\n",
    "    T_stop = TPX_0[0] + fractional_rise * (Teq - TPX_0[0])\n",
    "\n",
    "    sln.TPX = TPX_0\n",
    "\n",
    "    return T_stop\n",
    "\n",
    "def add_state_to_dict(sln, rnet, result_dict):\n",
    "    result_dict['time'] += [rnet.time]\n",
    "    result_dict['T'] += [sln.T]\n",
    "    for sp, x in zip(sln.species_names, sln.X):\n",
    "        result_dict[sp] += [x]\n",
    "\n",
    "def ignition_delay_dY_dt(res_dict, Y_key):\n",
    "    ts = res_dict['time']\n",
    "    ts_mean = ts[:-1] + np.diff(ts) / 2\n",
    "\n",
    "    Ys = res_dict[Y_key]\n",
    "    dY_dt = np.diff(Ys) / np.diff(ts)\n",
    "\n",
    "    return ts_mean[np.argmax(dY_dt)]\n",
    "\n",
    "def ignition_delay_maxY(res_dict, Y_key):\n",
    "    ts = res_dict['time']\n",
    "    return ts[np.argmax(res_dict[Y_key])]\n",
    "\n",
    "def calculate_ignition_delays(res_dict):\n",
    "    ign_delays = {'T':ignition_delay_dY_dt(res_dict, 'T'),\n",
    "                  'H2O':ignition_delay_dY_dt(res_dict, 'H2O'),\n",
    "                  'OH':ignition_delay_dY_dt(res_dict, 'OH')}\n",
    "    return ign_delays\n",
    "\n",
    "def run_ignition_simulation(sln, T_stop=None, verbose=False):\n",
    "    \"\"\"\n",
    "\n",
    "    :param sln:\n",
    "    :return:\n",
    "    \"\"\"\n",
    "    if T_stop is None:  # get the stop condition\n",
    "        T_stop = calc_T_ign_stop(sln)\n",
    "\n",
    "    # set up the reactor and network\n",
    "    r1 = ct.ConstPressureReactor(sln)\n",
    "    rnet = ct.ReactorNet((r1, ))\n",
    "\n",
    "    # set up dictionary of lists to store time-series results\n",
    "    result_dict = {'time':[], 'T':[]}\n",
    "    for sp in sln.species_names:\n",
    "        result_dict[sp] = []\n",
    "\n",
    "    while sln.T < T_stop:\n",
    "        rnet.step()\n",
    "        add_state_to_dict(sln, rnet, result_dict)\n",
    "\n",
    "    if verbose:\n",
    "        print(f'Number of simulation steps = {len(result_dict[\"time\"])}')\n",
    "        print(f'Reactor end time = {result_dict[\"time\"][-1]*1e3:4.2f} ms')\n",
    "\n",
    "    return result_dict\n",
    "\n",
    "def set_xlim_min(xmin):\n",
    "    xlims = plt.gca().get_xlim()\n",
    "    plt.xlim((xmin, xlims[1]))"
   ],
   "metadata": {
    "collapsed": false,
    "pycharm": {
     "name": "#%%\n"
    }
   }
  },
  {
   "cell_type": "code",
   "execution_count": 168,
   "outputs": [
    {
     "name": "stdout",
     "output_type": "stream",
     "text": [
      "{'T': 1.6721319290039642, 'H2O': 1.6722302348389637, 'OH': 1.6722715335063314}\n"
     ]
    }
   ],
   "source": [
    "# %%timeit\n",
    "\n",
    "reset_sln(sln, 1200)\n",
    "result_dict = run_ignition_simulation(sln)\n",
    "ign_delay = calculate_ignition_delays(result_dict)\n",
    "print(ign_delay)"
   ],
   "metadata": {
    "collapsed": false,
    "pycharm": {
     "name": "#%%\n"
    }
   }
  },
  {
   "cell_type": "code",
   "execution_count": 169,
   "outputs": [
    {
     "data": {
      "text/plain": "<matplotlib.legend.Legend at 0x2062dfc1948>"
     },
     "execution_count": 169,
     "metadata": {},
     "output_type": "execute_result"
    },
    {
     "data": {
      "text/plain": "<Figure size 432x288 with 2 Axes>",
      "image/png": "[encoded data removed]"
     },
     "metadata": {
      "needs_background": "light"
     },
     "output_type": "display_data"
    },
    {
     "data": {
      "text/plain": "<Figure size 432x288 with 1 Axes>",
      "image/png": "[encoded data removed]"
     },
     "metadata": {
      "needs_background": "light"
     },
     "output_type": "display_data"
    },
    {
     "data": {
      "text/plain": "<Figure size 432x288 with 1 Axes>",
      "image/png": "[encoded data removed]"
     },
     "metadata": {
      "needs_background": "light"
     },
     "output_type": "display_data"
    }
   ],
   "source": [
    "plt.figure()\n",
    "plt.semilogx(result_dict['time'], result_dict['T'])\n",
    "set_xlim_min(1e-6)\n",
    "# plot dT/dt\n",
    "ts = result_dict['time']\n",
    "Ts = result_dict['T']\n",
    "dT_dt = np.diff(Ts) / np.diff(ts)\n",
    "ts = ts[:-1] + np.diff(ts)/2\n",
    "ax2 = plt.twinx()\n",
    "ax2.plot(ts, dT_dt, 'r')\n",
    "\n",
    "plt.figure()\n",
    "for sp in sln.species_names:\n",
    "    if sp in ['H2', 'O2', 'H2O']:\n",
    "        plt.loglog(result_dict['time'], result_dict[sp], label=sp)\n",
    "plt.legend()\n",
    "plt.ylim((1e-3, 1e-1))\n",
    "set_xlim_min(1e-6)\n",
    "\n",
    "plt.figure()\n",
    "for sp in sln.species_names:\n",
    "    if sp in ['OH', 'O', 'H', 'HO2', 'H2O2', ]:\n",
    "        plt.loglog(result_dict['time'], result_dict[sp], label=sp)\n",
    "\n",
    "plt.ylim((1e-9, 1e-1))\n",
    "set_xlim_min(1e-6)\n",
    "plt.legend()"
   ],
   "metadata": {
    "collapsed": false,
    "pycharm": {
     "name": "#%%\n"
    }
   }
  },
  {
   "cell_type": "code",
   "execution_count": 170,
   "outputs": [],
   "source": [
    "T0s = np.arange(1200, 2001, 100)\n",
    "ign_delays = {}\n",
    "\n",
    "for T0 in T0s:\n",
    "    reset_sln(sln, T0)\n",
    "    result_dict = run_ignition_simulation(sln)\n",
    "    ign_delays[T0] = calculate_ignition_delays(result_dict)"
   ],
   "metadata": {
    "collapsed": false,
    "pycharm": {
     "name": "#%%\n"
    }
   }
  },
  {
   "cell_type": "code",
   "execution_count": 171,
   "outputs": [
    {
     "data": {
      "text/plain": "<Figure size 432x288 with 1 Axes>",
      "image/png": "[encoded data removed]"
     },
     "metadata": {
      "needs_background": "light"
     },
     "output_type": "display_data"
    }
   ],
   "source": [
    "ign_delay_by_type = {}\n",
    "for method in ign_delays[T0s[0]].keys():\n",
    "    ign_delay_by_type[method] = []\n",
    "    for T0 in ign_delays.keys():\n",
    "        ign_delay_by_type[method] += [ign_delays[T0][method]]\n",
    "\n",
    "    plt.semilogy(1000/T0s, np.array(ign_delay_by_type[method]), 'o:', label=method)\n",
    "\n",
    "plt.legend()\n",
    "plt.xlabel('1000/T (K^-1)')\n",
    "plt.ylabel('Ignition Delay Time (s)');"
   ],
   "metadata": {
    "collapsed": false,
    "pycharm": {
     "name": "#%%\n"
    }
   }
  },
  {
   "cell_type": "code",
   "execution_count": 172,
   "outputs": [
    {
     "name": "stdout",
     "output_type": "stream",
     "text": [
      "Ea_T   =  52.99 kcal/mol\n",
      "Ea_H2O =  52.84 kcal/mol\n",
      "Ea_OH  =  52.64 kcal/mol\n"
     ]
    }
   ],
   "source": [
    "R_cal = 1.987  # cal/mol-K\n",
    "\n",
    "for method in ign_delay_by_type.keys():\n",
    "    fit = np.polyfit(1/T0s, np.log(ign_delay_by_type[method]), 1)\n",
    "    print(f'Ea_{method:3s} = {fit[0] * R_cal / 1e3: 4.2f} kcal/mol')"
   ],
   "metadata": {
    "collapsed": false,
    "pycharm": {
     "name": "#%%\n"
    }
   }
  },
  {
   "cell_type": "markdown",
   "source": [
    "## Sensitivity"
   ],
   "metadata": {
    "collapsed": false,
    "pycharm": {
     "name": "#%% md\n"
    }
   }
  },
  {
   "cell_type": "code",
   "execution_count": 181,
   "outputs": [],
   "source": [
    "sens_ign_delays = {}\n",
    "T0 = 1200\n",
    "\n",
    "# get the base IDT solution\n",
    "reset_sln(sln, T0)\n",
    "result_dict = run_ignition_simulation(sln)\n",
    "sens_ign_delays['base'] = calculate_ignition_delays(result_dict)['OH']\n",
    "d_rxn = 0.1\n",
    "\n",
    "for ir in range(sln.n_reactions):\n",
    "    reset_sln(sln, T0)\n",
    "\n",
    "    if ir > 0:    # reset last multiplier\n",
    "        sln.set_multiplier(1., ir-1)\n",
    "    # set this multiplier\n",
    "    sln.set_multiplier(1.+d_rxn, ir)\n",
    "\n",
    "    result_dict = run_ignition_simulation(sln)\n",
    "    sens_ign_delays[ir] = calculate_ignition_delays(result_dict)['OH']"
   ],
   "metadata": {
    "collapsed": false,
    "pycharm": {
     "name": "#%%\n"
    }
   }
  },
  {
   "cell_type": "code",
   "execution_count": 182,
   "outputs": [
    {
     "data": {
      "text/plain": "array([1.67227181, 1.67227322, 1.67137134, 1.67255772, 1.67227204,\n       1.67227215, 1.6722733 , 1.6722717 , 1.6722735 , 1.67245488,\n       1.67989318, 1.67227783, 1.67227281, 1.67227467, 1.67124155,\n       1.67227311, 1.67227191, 1.67224713, 1.67227167, 1.67227174,\n       1.67217247, 1.67227156, 1.67221122, 1.67227533, 1.67110966,\n       1.67228584, 1.6678809 , 1.67227614, 1.67226321, 1.67218642,\n       1.67224291, 1.63402592, 1.67219624, 1.67220059, 1.67219316,\n       1.67227172, 1.66662202, 1.58841903, 1.67227319, 1.67227134,\n       1.67227362, 1.67227345, 1.67227282, 1.67238335, 1.67410603,\n       1.6745155 , 1.67223334, 1.67227463, 1.67227413, 1.67227268,\n       1.672273  , 1.67575048, 1.7303571 , 1.67222155, 1.67229408,\n       1.67223707, 1.67381668, 1.67906267, 1.67227138, 1.67227297,\n       1.67211956, 1.67227087, 1.6722733 , 1.67227134, 1.67227478,\n       1.67227331, 1.67227465, 1.67220552, 1.67227312, 1.67227231,\n       1.67324826, 1.67227279, 1.67228788, 1.67790712, 1.67016169,\n       1.67221335, 1.6722796 , 1.67023622, 1.67227681, 1.67238432,\n       1.67318188, 1.67227206, 1.67237119, 1.66730216, 1.67225779,\n       1.67226519, 1.67273532, 1.6722715 , 1.67227132, 1.67227306,\n       1.67227225, 1.67227347, 1.67227274, 1.67227326, 1.672437  ,\n       1.67221447, 1.66944078, 1.69681622, 1.67136611, 1.67227676,\n       1.66856646, 1.67227376, 1.67227174, 1.67224871, 1.67225872,\n       1.6722725 , 1.67227312, 1.6722726 , 1.67226777, 1.67227265,\n       1.67227175, 1.66784746, 1.66281021, 1.67216823, 1.67240788,\n       1.67375484, 1.67227439, 1.66768979, 1.65353272, 1.67337163,\n       1.67189113, 1.67227291, 1.67227171, 1.67227266, 1.67226959,\n       1.67228211, 1.67227411, 1.67227325, 1.67227346, 1.67227308,\n       1.67227385, 1.67227195, 1.67227283, 1.67227208, 1.67245945,\n       1.67226911, 1.67227292, 1.67229185, 1.67219303, 1.67184405,\n       1.67227232, 1.6722711 , 1.67211356, 1.67229628, 1.67251912,\n       1.67222851, 1.67227551, 1.67227218, 1.67227161, 1.67215442,\n       1.6722731 , 1.67227145, 1.67227201, 1.67227507, 1.61808852,\n       1.6003697 , 1.67194556, 1.75603306, 1.66225345, 1.67241923,\n       1.65997212, 1.67222426, 1.67236409, 1.66837317, 1.66492129,\n       1.67236934, 1.698797  , 1.6453495 , 1.67224155, 1.67046518,\n       1.67227212, 1.67227168, 1.67268737, 1.67226751, 1.66524372,\n       1.67226244, 1.67227348, 1.6722718 , 1.67227328, 1.67227239,\n       1.67227329, 1.67227233, 1.67227313, 1.67227332, 1.67227267,\n       1.67227198, 1.67227305, 1.67227114, 1.67227269, 1.67227216,\n       1.67227276, 1.67227229, 1.67227256, 1.67227119, 1.67227111,\n       1.67227099, 1.67227311, 1.67227226, 1.67227216, 1.67227307,\n       1.67227227, 1.67227345, 1.6722728 , 1.67227327, 1.67227172,\n       1.67227356, 1.67227311, 1.67227343, 1.67227174, 1.67227234,\n       1.67227141, 1.67227314, 1.6722722 , 1.67227166, 1.67227261,\n       1.67227184, 1.67227176, 1.67227293, 1.67227151, 1.67227197,\n       1.67227143, 1.67227235, 1.67227325, 1.67227131, 1.6722717 ,\n       1.67227328, 1.67227418, 1.67227287, 1.67227278, 1.67227306,\n       1.6722709 , 1.67227278, 1.67227196, 1.67227165, 1.67227305,\n       1.67227227, 1.67227212, 1.67227199, 1.67227207, 1.67227307,\n       1.67227105, 1.67227233, 1.67227171, 1.67227309, 1.67227204,\n       1.67227328, 1.67227163, 1.67227243, 1.67227346, 1.67227157,\n       1.67227173, 1.67227212, 1.6722717 , 1.67227322, 1.67227314,\n       1.67227288, 1.67227104, 1.67227171, 1.67227229, 1.67227202,\n       1.67227235, 1.6722721 , 1.67227364, 1.67227201, 1.67227247,\n       1.67227225, 1.67227246, 1.67227285, 1.67227136, 1.67227273,\n       1.67227226, 1.67227133, 1.67227274, 1.67227284, 1.67227344,\n       1.67227239, 1.6722722 , 1.67227309, 1.67227198, 1.67227206,\n       1.67227105, 1.67227303, 1.6722729 , 1.67338507, 1.67036594,\n       1.67232766, 1.67237014, 1.67230246, 1.67227298, 1.67171261,\n       1.67232494, 1.67227186, 1.67227239, 1.67076276, 1.67232944,\n       1.67227107, 1.67227323, 1.67227176, 1.67227149, 1.67227537,\n       1.67227507, 1.67227266, 1.67227216, 1.67232101, 1.67227181,\n       1.67226939, 1.67221745, 1.67227211, 1.67227394, 1.67227265,\n       1.67227163, 1.67250417, 1.67227462, 1.67229604, 1.67227812,\n       1.67227229, 1.67227293, 1.67227288, 1.6722715 , 1.67227345,\n       1.67227157, 1.67227346, 1.67227169, 1.67227247, 1.67227205])"
     },
     "execution_count": 182,
     "metadata": {},
     "output_type": "execute_result"
    }
   ],
   "source": [
    "idts = np.array(list(sens_ign_delays.values()))\n",
    "idt0, rxn_ign = idts[0], idts[1:]\n",
    "\n",
    "rxn_idt_sens = (idt0 - rxn_ign) / idt0 / d_rxn\n",
    "rxn_strs = sln.reaction_equations()\n",
    "\n",
    "rxn_ign"
   ],
   "metadata": {
    "collapsed": false,
    "pycharm": {
     "name": "#%%\n"
    }
   }
  },
  {
   "cell_type": "code",
   "execution_count": 185,
   "outputs": [
    {
     "name": "stdout",
     "output_type": "stream",
     "text": [
      "[ 0.50143174 -0.50088143  0.42996802 -0.3473421   0.32401146  0.22870762\n",
      "  0.16099385 -0.15861624 -0.1467714   0.11205913  0.07355223  0.05991012]\n",
      "[ 1  3  7  8 11 10  9  6  5  4  2  0]\n",
      "\n",
      "2 CH3 (+M) <=> C2H6 (+M)      : -0.501\n",
      "CH4 + H <=> CH3 + H2          : -0.347\n",
      "HCO + M <=> CO + H + M        : -0.159\n",
      "CH4 + OH <=> CH3 + H2O        : -0.147\n",
      "2 CH3 <=> C2H5 + H            : 0.060\n",
      "CH2O + CH3 <=> CH4 + HCO      : 0.074\n",
      "CH3 + HO2 <=> CH3O + OH       : 0.112\n",
      "HCO + O2 <=> CO + HO2         : 0.161\n",
      "CH2O + O2 <=> HCO + HO2       : 0.229\n",
      "CH3 + O2 <=> CH3O + O         : 0.324\n",
      "CH3 + O2 <=> CH2O + OH        : 0.430\n",
      "H + O2 <=> O + OH             : 0.501\n"
     ]
    }
   ],
   "source": [
    "nmax = 12\n",
    "# get the nmax most sensitive reactions\n",
    "isort = np.argsort(np.abs(rxn_idt_sens))[::-1][:12]\n",
    "\n",
    "sorted_sens, sorted_strs = rxn_idt_sens[isort], np.array(rxn_strs)[isort]\n",
    "\n",
    "isort = np.argsort(sorted_sens)\n",
    "print(sorted_sens)\n",
    "print(isort)\n",
    "sorted_sens, sorted_strs = sorted_sens[isort], sorted_strs[isort]\n",
    "print()\n",
    "for sens, string in zip(sorted_sens, sorted_strs):\n",
    "    print(f'{string:30s}: {sens:4.3f}')\n",
    "# print(sorted_sens)\n",
    "# print(sorted_strs)"
   ],
   "metadata": {
    "collapsed": false,
    "pycharm": {
     "name": "#%%\n"
    }
   }
  },
  {
   "cell_type": "code",
   "execution_count": 188,
   "outputs": [
    {
     "data": {
      "text/plain": "<matplotlib.lines.Line2D at 0x206318cd8c8>"
     },
     "execution_count": 188,
     "metadata": {},
     "output_type": "execute_result"
    },
    {
     "data": {
      "text/plain": "<Figure size 576x360 with 1 Axes>",
      "image/png": "[encoded data removed]"
     },
     "metadata": {
      "needs_background": "light"
     },
     "output_type": "display_data"
    }
   ],
   "source": [
    "plt.figure(figsize=(8, 5))\n",
    "plt.barh(range(nmax), sorted_sens)\n",
    "plt.yticks(range(nmax), sorted_strs)\n",
    "plt.axvline(0, c='k', ls=':')"
   ],
   "metadata": {
    "collapsed": false,
    "pycharm": {
     "name": "#%%\n"
    }
   }
  },
  {
   "cell_type": "code",
   "execution_count": 187,
   "outputs": [
    {
     "data": {
      "text/plain": "'\\nReaction 1: 2 O + M <=> O2 + M ... OK.\\n\\nReaction 2: H + O + M <=> OH + M ... OK.\\n\\nReaction 3: H2 + O <=> H + OH ... OK.\\n\\nReaction 4: HO2 + O <=> O2 + OH ... ambiguous.\\n     (O) + (O)(O-H) = (O)(O) + (O-H)   [<= default] \\n     (O) + (H)(O2) = (O)(H) + (O2)\\n\\nReaction 5: H2O2 + O <=> HO2 + OH ... ambiguous.\\n     (O) + (H)(O2-H) = (O)(H) + (O2-H)   [<= default] \\n     (O) + (O-H)(O-H) = (O)(O-H) + (O-H)\\n\\nReaction 6: CH + O <=> CO + H ... OK.\\n\\nReaction 7: CH2 + O <=> H + HCO ... OK.\\n\\nReaction 8: CH2(S) + O <=> CO + H2 ... OK.\\n\\nReaction 9: CH2(S) + O <=> H + HCO ... OK.\\n\\nReaction 10: CH3 + O <=> CH2O + H ... OK.\\n\\nReaction 11: CH4 + O <=> CH3 + OH ... OK.\\n\\nReaction 12: CO + O (+M) <=> CO2 (+M) ... OK.\\n\\nReaction 13: HCO + O <=> CO + OH ... ambiguous.\\n     (O) + (H)(O-C) = (O)(H) + (O-C)   [<= default] \\n     (O) + (C)(O-H) = (O)(C) + (O-H)\\n\\nReaction 14: HCO + O <=> CO2 + H ... OK.\\n\\nReaction 15: CH2O + O <=> HCO + OH ... ambiguous.\\n     (O) + (H)(O-H-C) = (O)(H) + (O-H-C)   [<= default] \\n     (O) + (H-C)(O-H) = (O)(H-C) + (O-H)\\n\\nReaction 16: CH2OH + O <=> CH2O + OH ... ambiguous.\\n     (O) + (H)(O-H2-C) = (O)(H) + (O-H2-C)   [<= default] \\n     (O) + (H2-C)(O-H) = (O)(H2-C) + (O-H)\\n\\nReaction 17: CH3O + O <=> CH2O + OH ... ambiguous.\\n     (O) + (H)(O-H2-C) = (O)(H) + (O-H2-C)   [<= default] \\n     (O) + (H2-C)(O-H) = (O)(H2-C) + (O-H)\\n\\nReaction 18: CH3OH + O <=> CH2OH + OH ... ambiguous.\\n     (O) + (H)(O-H3-C) = (O)(H) + (O-H3-C)   [<= default] \\n     (O) + (H3-C)(O-H) = (O)(H3-C) + (O-H)\\n\\nReaction 19: CH3OH + O <=> CH3O + OH ... ambiguous.\\n     (O) + (H)(O-H3-C) = (O)(H) + (O-H3-C)   [<= default] \\n     (O) + (H3-C)(O-H) = (O)(H3-C) + (O-H)\\n\\nReaction 20: C2H + O <=> CH + CO ... OK.\\n\\nReaction 21: C2H2 + O <=> H + HCCO ... OK.\\n\\nReaction 22: C2H2 + O <=> C2H + OH ... OK.\\n\\nReaction 23: C2H2 + O <=> CH2 + CO ... OK.\\n\\nReaction 24: C2H3 + O <=> CH2CO + H ... OK.\\n\\nReaction 25: C2H4 + O <=> CH3 + HCO ... OK.\\n\\nReaction 26: C2H5 + O <=> CH2O + CH3 ... OK.\\n\\nReaction 27: C2H6 + O <=> C2H5 + OH ... OK.\\n\\nReaction 28: HCCO + O <=> 2 CO + H... cannot parse. [ignored]\\n\\nReaction 29: CH2CO + O <=> HCCO + OH ... ambiguous.\\n     (O) + (H)(O-H-C2) = (O)(H) + (O-H-C2)   [<= default] \\n     (O) + (H-C2)(O-H) = (O)(H-C2) + (O-H)\\n\\nReaction 30: CH2CO + O <=> CH2 + CO2 ... OK.\\n\\nReaction 31: CO + O2 <=> CO2 + O ... ambiguous.\\n     (O-C) + (O)(O) = (O-C)(O) + (O)   [<= default] \\n     (O2) + (C)(O) = (O2)(C) + (O)\\n\\nReaction 32: CH2O + O2 <=> HCO + HO2\\n     (O2) + (H)(O-H-C) = (O2)(H) + (O-H-C)\\n\\nReaction 33: H + O2 + M <=> HO2 + M ... OK.\\n\\nReaction 34: H + 2 O2 <=> HO2 + O2 ... OK.\\n\\nReaction 35: H + H2O + O2 <=> H2O + HO2 ... OK.\\n\\nReaction 36: H + N2 + O2 <=> HO2 + N2 ... OK.\\n\\nReaction 37: AR + H + O2 <=> AR + HO2 ... OK.\\n\\nReaction 38: H + O2 <=> O + OH ... OK.\\n\\nReaction 39: 2 H + M <=> H2 + M ... OK.\\n\\nReaction 40: 2 H + H2 <=> 2 H2 ... OK.\\n\\nReaction 41: 2 H + H2O <=> H2 + H2O ... OK.\\n\\nReaction 42: CO2 + 2 H <=> CO2 + H2 ... OK.\\n\\nReaction 43: H + OH + M <=> H2O + M ... OK.\\n\\nReaction 44: H + HO2 <=> H2O + O ... OK.\\n\\nReaction 45: H + HO2 <=> H2 + O2 ... OK.\\n\\nReaction 46: H + HO2 <=> 2 OH ... ambiguous.\\n     (H) + (O)(O-H) = (H)(O) + (O-H)   [<= default] \\n     (H) + (O)(O-H) = (H)(O) + (O-H)\\n\\nReaction 47: H + H2O2 <=> H2 + HO2 ... ambiguous.\\n     (H) + (H)(O2-H) = (H)(H) + (O2-H)   [<= default] \\n     (H) + (O2)(H2) = (H)(O2) + (H2)\\n\\nReaction 48: H + H2O2 <=> H2O + OH ... ambiguous.\\n     (H) + (O)(O-H2) = (H)(O) + (O-H2)   [<= default] \\n     (H) + (O-H)(O-H) = (H)(O-H) + (O-H)\\n\\nReaction 49: CH + H <=> C + H2 ... OK.\\n\\nReaction 50: CH2 + H (+M) <=> CH3 (+M) ... OK.\\n\\nReaction 51: CH2(S) + H <=> CH + H2 ... ambiguous.\\n     (H) + (H)(H-C) = (H)(H) + (H-C)   [<= default] \\n     (H) + (C)(H2) = (H)(C) + (H2)\\n\\nReaction 52: CH3 + H (+M) <=> CH4 (+M) ... OK.\\n\\nReaction 53: CH4 + H <=> CH3 + H2 ... ambiguous.\\n     (H) + (H)(H3-C) = (H)(H) + (H3-C)   [<= default] \\n     (H) + (H2-C)(H2) = (H)(H2-C) + (H2)\\n\\nReaction 54: H + HCO (+M) <=> CH2O (+M) ... OK.\\n\\nReaction 55: H + HCO <=> CO + H2 ... OK.\\n\\nReaction 56: CH2O + H (+M) <=> CH2OH (+M) ... OK.\\n\\nReaction 57: CH2O + H (+M) <=> CH3O (+M) ... OK.\\n\\nReaction 58: CH2O + H <=> H2 + HCO ... ambiguous.\\n     (H) + (H)(O-H-C) = (H)(H) + (O-H-C)   [<= default] \\n     (H) + (O-C)(H2) = (H)(O-C) + (H2)\\n\\nReaction 59: CH2OH + H (+M) <=> CH3OH (+M) ... OK.\\n\\nReaction 60: CH2OH + H <=> CH2O + H2 ... ambiguous.\\n     (H) + (H)(O-H2-C) = (H)(H) + (O-H2-C)   [<= default] \\n     (H) + (O-H-C)(H2) = (H)(O-H-C) + (H2)\\n\\nReaction 61: CH2OH + H <=> CH3 + OH ... ambiguous.\\n     (H) + (O)(H3-C) = (H)(O) + (H3-C)   [<= default] \\n     (H) + (H2-C)(O-H) = (H)(H2-C) + (O-H)\\n\\nReaction 62: CH2OH + H <=> CH2(S) + H2O ... ambiguous.\\n     (H) + (O-H)(H2-C) = (H)(O-H) + (H2-C)   [<= default] \\n     (H) + (H-C)(O-H2) = (H)(H-C) + (O-H2)\\n\\nReaction 63: CH3O + H (+M) <=> CH3OH (+M) ... OK.\\n\\nReaction 64: CH3O + H <=> CH2OH + H ... OK.\\n\\nReaction 65: CH3O + H <=> CH2O + H2 ... ambiguous.\\n     (H) + (H)(O-H2-C) = (H)(H) + (O-H2-C)   [<= default] \\n     (H) + (O-H-C)(H2) = (H)(O-H-C) + (H2)\\n\\nReaction 66: CH3O + H <=> CH3 + OH ... ambiguous.\\n     (H) + (O)(H3-C) = (H)(O) + (H3-C)   [<= default] \\n     (H) + (H2-C)(O-H) = (H)(H2-C) + (O-H)\\n\\nReaction 67: CH3O + H <=> CH2(S) + H2O ... ambiguous.\\n     (H) + (O-H)(H2-C) = (H)(O-H) + (H2-C)   [<= default] \\n     (H) + (H-C)(O-H2) = (H)(H-C) + (O-H2)\\n\\nReaction 68: CH3OH + H <=> CH2OH + H2 ... ambiguous.\\n     (H) + (H)(O-H3-C) = (H)(H) + (O-H3-C)   [<= default] \\n     (H) + (O-H2-C)(H2) = (H)(O-H2-C) + (H2)\\n\\nReaction 69: CH3OH + H <=> CH3O + H2 ... ambiguous.\\n     (H) + (H)(O-H3-C) = (H)(H) + (O-H3-C)   [<= default] \\n     (H) + (O-H2-C)(H2) = (H)(O-H2-C) + (H2)\\n\\nReaction 70: C2H + H (+M) <=> C2H2 (+M) ... OK.\\n\\nReaction 71: C2H2 + H (+M) <=> C2H3 (+M) ... OK.\\n\\nReaction 72: C2H3 + H (+M) <=> C2H4 (+M) ... OK.\\n\\nReaction 73: C2H3 + H <=> C2H2 + H2 ... ambiguous.\\n     (H) + (H)(H2-C2) = (H)(H) + (H2-C2)   [<= default] \\n     (H) + (H-C2)(H2) = (H)(H-C2) + (H2)\\n\\nReaction 74: C2H4 + H (+M) <=> C2H5 (+M) ... OK.\\n\\nReaction 75: C2H4 + H <=> C2H3 + H2 ... ambiguous.\\n     (H) + (H)(H3-C2) = (H)(H) + (H3-C2)   [<= default] \\n     (H) + (H2-C2)(H2) = (H)(H2-C2) + (H2)\\n\\nReaction 76: C2H5 + H (+M) <=> C2H6 (+M) ... OK.\\n\\nReaction 77: C2H5 + H <=> C2H4 + H2 ... ambiguous.\\n     (H) + (H)(H4-C2) = (H)(H) + (H4-C2)   [<= default] \\n     (H) + (H3-C2)(H2) = (H)(H3-C2) + (H2)\\n\\nReaction 78: C2H6 + H <=> C2H5 + H2 ... ambiguous.\\n     (H) + (H)(H5-C2) = (H)(H) + (H5-C2)   [<= default] \\n     (H) + (H4-C2)(H2) = (H)(H4-C2) + (H2)\\n\\nReaction 79: H + HCCO <=> CH2(S) + CO ... OK.\\n\\nReaction 80: CH2CO + H <=> H2 + HCCO ... ambiguous.\\n     (H) + (H)(O-H-C2) = (H)(H) + (O-H-C2)   [<= default] \\n     (H) + (O-C2)(H2) = (H)(O-C2) + (H2)\\n\\nReaction 81: CH2CO + H <=> CH3 + CO ... OK.\\n\\nReaction 82: H + HCCOH <=> CH2CO + H ... OK.\\n\\nReaction 83: CO + H2 (+M) <=> CH2O (+M) ... OK.\\n\\nReaction 84: H2 + OH <=> H + H2O ... ambiguous.\\n     (O-H) + (H)(H) = (O-H)(H) + (H)   [<= default] \\n     (H2) + (O)(H) = (H2)(O) + (H)\\n\\nReaction 85: 2 OH (+M) <=> H2O2 (+M) ... OK.\\n\\nReaction 86: 2 OH <=> H2O + O ... ambiguous.\\n     (O-H) + (H)(O) = (O-H)(H) + (O)   [<= default] \\n     (O-H) + (H)(O) = (O-H)(H) + (O)\\n\\nReaction 87: HO2 + OH <=> H2O + O2\\n     (O-H) + (H)(O2) = (O-H)(H) + (O2)\\n\\nReaction 88: H2O2 + OH <=> H2O + HO2 ... ambiguous.\\n     (O-H) + (H)(O2-H) = (O-H)(H) + (O2-H)   [<= default] \\n     (O-H) + (O)(O-H2) = (O-H)(O) + (O-H2)\\n\\nReaction 89: H2O2 + OH <=> H2O + HO2 ... ambiguous.\\n     (O-H) + (H)(O2-H) = (O-H)(H) + (O2-H)   [<= default] \\n     (O-H) + (O)(O-H2) = (O-H)(O) + (O-H2)\\n\\nReaction 90: C + OH <=> CO + H ... OK.\\n\\nReaction 91: CH + OH <=> H + HCO ... ambiguous.\\n     (H-C) + (O)(H) = (H-C)(O) + (H)   [<= default] \\n     (O-H) + (C)(H) = (O-H)(C) + (H)\\n\\nReaction 92: CH2 + OH <=> CH2O + H ... ambiguous.\\n     (H2-C) + (O)(H) = (H2-C)(O) + (H)   [<= default] \\n     (O-H) + (H-C)(H) = (O-H)(H-C) + (H)\\n\\nReaction 93: CH2 + OH <=> CH + H2O\\n     (O-H) + (H)(H-C) = (O-H)(H) + (H-C)\\n\\nReaction 94: CH2(S) + OH <=> CH2O + H ... ambiguous.\\n     (H2-C) + (O)(H) = (H2-C)(O) + (H)   [<= default] \\n     (O-H) + (H-C)(H) = (O-H)(H-C) + (H)\\n\\nReaction 95: CH3 + OH (+M) <=> CH3OH (+M) ... OK.\\n\\nReaction 96: CH3 + OH <=> CH2 + H2O\\n     (O-H) + (H)(H2-C) = (O-H)(H) + (H2-C)\\n\\nReaction 97: CH3 + OH <=> CH2(S) + H2O\\n     (O-H) + (H)(H2-C) = (O-H)(H) + (H2-C)\\n\\nReaction 98: CH4 + OH <=> CH3 + H2O\\n     (O-H) + (H)(H3-C) = (O-H)(H) + (H3-C)\\n\\nReaction 99: CO + OH <=> CO2 + H ... OK.\\n\\nReaction 100: HCO + OH <=> CO + H2O\\n     (O-H) + (H)(O-C) = (O-H)(H) + (O-C)\\n\\nReaction 101: CH2O + OH <=> H2O + HCO ... ambiguous.\\n     (O-H) + (H)(O-H-C) = (O-H)(H) + (O-H-C)   [<= default] \\n     (O-H) + (C)(O-H2) = (O-H)(C) + (O-H2)\\n\\nReaction 102: CH2OH + OH <=> CH2O + H2O ... ambiguous.\\n     (O-H) + (H)(O-H2-C) = (O-H)(H) + (O-H2-C)   [<= default] \\n     (O-H) + (H-C)(O-H2) = (O-H)(H-C) + (O-H2)\\n\\nReaction 103: CH3O + OH <=> CH2O + H2O ... ambiguous.\\n     (O-H) + (H)(O-H2-C) = (O-H)(H) + (O-H2-C)   [<= default] \\n     (O-H) + (H-C)(O-H2) = (O-H)(H-C) + (O-H2)\\n\\nReaction 104: CH3OH + OH <=> CH2OH + H2O ... ambiguous.\\n     (O-H) + (H)(O-H3-C) = (O-H)(H) + (O-H3-C)   [<= default] \\n     (O-H) + (H2-C)(O-H2) = (O-H)(H2-C) + (O-H2)\\n\\nReaction 105: CH3OH + OH <=> CH3O + H2O ... ambiguous.\\n     (O-H) + (H)(O-H3-C) = (O-H)(H) + (O-H3-C)   [<= default] \\n     (O-H) + (H2-C)(O-H2) = (O-H)(H2-C) + (O-H2)\\n\\nReaction 106: C2H + OH <=> H + HCCO ... ambiguous.\\n     (H-C2) + (O)(H) = (H-C2)(O) + (H)   [<= default] \\n     (O-H) + (C2)(H) = (O-H)(C2) + (H)\\n\\nReaction 107: C2H2 + OH <=> CH2CO + H ... ambiguous.\\n     (H2-C2) + (O)(H) = (H2-C2)(O) + (H)   [<= default] \\n     (O-H) + (H-C2)(H) = (O-H)(H-C2) + (H)\\n\\nReaction 108: C2H2 + OH <=> H + HCCOH ... ambiguous.\\n     (H2-C2) + (O)(H) = (H2-C2)(O) + (H)   [<= default] \\n     (O-H) + (H-C2)(H) = (O-H)(H-C2) + (H)\\n\\nReaction 109: C2H2 + OH <=> C2H + H2O\\n     (O-H) + (H)(H-C2) = (O-H)(H) + (H-C2)\\n\\nReaction 110: C2H2 + OH <=> CH3 + CO ... OK.\\n\\nReaction 111: C2H3 + OH <=> C2H2 + H2O\\n     (O-H) + (H)(H2-C2) = (O-H)(H) + (H2-C2)\\n\\nReaction 112: C2H4 + OH <=> C2H3 + H2O\\n     (O-H) + (H)(H3-C2) = (O-H)(H) + (H3-C2)\\n\\nReaction 113: C2H6 + OH <=> C2H5 + H2O\\n     (O-H) + (H)(H5-C2) = (O-H)(H) + (H5-C2)\\n\\nReaction 114: CH2CO + OH <=> H2O + HCCO ... ambiguous.\\n     (O-H) + (H)(O-H-C2) = (O-H)(H) + (O-H-C2)   [<= default] \\n     (O-H) + (C2)(O-H2) = (O-H)(C2) + (O-H2)\\n\\nReaction 115: 2 HO2 <=> H2O2 + O2 ... ambiguous.\\n     (O2-H) + (H)(O2) = (O2-H)(H) + (O2)   [<= default] \\n     (O2-H) + (H)(O2) = (O2-H)(H) + (O2)\\n\\nReaction 116: 2 HO2 <=> H2O2 + O2 ... ambiguous.\\n     (O2-H) + (H)(O2) = (O2-H)(H) + (O2)   [<= default] \\n     (O2-H) + (H)(O2) = (O2-H)(H) + (O2)\\n\\nReaction 117: CH2 + HO2 <=> CH2O + OH\\n     (H2-C) + (O)(O-H) = (H2-C)(O) + (O-H)\\n\\nReaction 118: CH3 + HO2 <=> CH4 + O2 ... OK.\\n\\nReaction 119: CH3 + HO2 <=> CH3O + OH\\n     (H3-C) + (O)(O-H) = (H3-C)(O) + (O-H)\\n\\nReaction 120: CO + HO2 <=> CO2 + OH\\n     (O-C) + (O)(O-H) = (O-C)(O) + (O-H)\\n\\nReaction 121: CH2O + HO2 <=> H2O2 + HCO\\n     (O2-H) + (H)(O-H-C) = (O2-H)(H) + (O-H-C)\\n\\nReaction 122: C + O2 <=> CO + O ... OK.\\n\\nReaction 123: C + CH2 <=> C2H + H ... OK.\\n\\nReaction 124: C + CH3 <=> C2H2 + H ... OK.\\n\\nReaction 125: CH + O2 <=> HCO + O ... OK.\\n\\nReaction 126: CH + H2 <=> CH2 + H ... ambiguous.\\n     (H-C) + (H)(H) = (H-C)(H) + (H)   [<= default] \\n     (H2) + (C)(H) = (H2)(C) + (H)\\n\\nReaction 127: CH + H2O <=> CH2O + H ... ambiguous.\\n     (H-C) + (O-H)(H) = (H-C)(O-H) + (H)   [<= default] \\n     (O-H2) + (C)(H) = (O-H2)(C) + (H)\\n\\nReaction 128: CH + CH2 <=> C2H2 + H ... ambiguous.\\n     (H2-C) + (C)(H) = (H2-C)(C) + (H)   [<= default] \\n     (H-C) + (H-C)(H) = (H-C)(H-C) + (H)\\n\\nReaction 129: CH + CH3 <=> C2H3 + H ... ambiguous.\\n     (H3-C) + (C)(H) = (H3-C)(C) + (H)   [<= default] \\n     (H-C) + (H2-C)(H) = (H-C)(H2-C) + (H)\\n\\nReaction 130: CH + CH4 <=> C2H4 + H ... ambiguous.\\n     (H4-C) + (C)(H) = (H4-C)(C) + (H)   [<= default] \\n     (H-C) + (H3-C)(H) = (H-C)(H3-C) + (H)\\n\\nReaction 131: CH + CO (+M) <=> HCCO (+M) ... OK.\\n\\nReaction 132: CH + CO2 <=> CO + HCO\\n     (H-C) + (O)(O-C) = (H-C)(O) + (O-C)\\n\\nReaction 133: CH + CH2O <=> CH2CO + H ... ambiguous.\\n     (O-H2-C) + (C)(H) = (O-H2-C)(C) + (H)   [<= default] \\n     (H-C) + (O-H-C)(H) = (H-C)(O-H-C) + (H)\\n\\nReaction 134: CH + HCCO <=> C2H2 + CO\\n     (H-C) + (H-C)(O-C) = (H-C)(H-C) + (O-C)\\n\\nReaction 135: CH2 + O2 => CO + H + OH ... OK.\\n\\nReaction 136: CH2 + H2 <=> CH3 + H ... ambiguous.\\n     (H2-C) + (H)(H) = (H2-C)(H) + (H)   [<= default] \\n     (H2) + (H-C)(H) = (H2)(H-C) + (H)\\n\\nReaction 137: 2 CH2 <=> C2H2 + H2 ... ambiguous.\\n     (H2-C) + (C)(H2) = (H2-C)(C) + (H2)   [<= default] \\n     (H2-C) + (C)(H2) = (H2-C)(C) + (H2)\\n\\nReaction 138: CH2 + CH3 <=> C2H4 + H ... ambiguous.\\n     (H3-C) + (H-C)(H) = (H3-C)(H-C) + (H)   [<= default] \\n     (H2-C) + (H2-C)(H) = (H2-C)(H2-C) + (H)\\n\\nReaction 139: CH2 + CH4 <=> 2 CH3 ... ambiguous.\\n     (H2-C) + (H)(H3-C) = (H2-C)(H) + (H3-C)   [<= default] \\n     (H2-C) + (H)(H3-C) = (H2-C)(H) + (H3-C)\\n\\nReaction 140: CH2 + CO (+M) <=> CH2CO (+M) ... OK.\\n\\nReaction 141: CH2 + HCCO <=> C2H3 + CO\\n     (H2-C) + (H-C)(O-C) = (H2-C)(H-C) + (O-C)\\n\\nReaction 142: CH2(S) + N2 <=> CH2 + N2 ... OK.\\n\\nReaction 143: AR + CH2(S) <=> AR + CH2 ... OK.\\n\\nReaction 144: CH2(S) + O2 <=> CO + H + OH ... OK.\\n\\nReaction 145: CH2(S) + O2 <=> CO + H2O ... OK.\\n\\nReaction 146: CH2(S) + H2 <=> CH3 + H ... ambiguous.\\n     (H2-C) + (H)(H) = (H2-C)(H) + (H)   [<= default] \\n     (H2) + (H-C)(H) = (H2)(H-C) + (H)\\n\\nReaction 147: CH2(S) + H2O (+M) <=> CH3OH (+M) ... OK.\\n\\nReaction 148: CH2(S) + H2O <=> CH2 + H2O ... OK.\\n\\nReaction 149: CH2(S) + CH3 <=> C2H4 + H ... ambiguous.\\n     (H3-C) + (H-C)(H) = (H3-C)(H-C) + (H)   [<= default] \\n     (H2-C) + (H2-C)(H) = (H2-C)(H2-C) + (H)\\n\\nReaction 150: CH2(S) + CH4 <=> 2 CH3 ... ambiguous.\\n     (H2-C) + (H)(H3-C) = (H2-C)(H) + (H3-C)   [<= default] \\n     (H2-C) + (H)(H3-C) = (H2-C)(H) + (H3-C)\\n\\nReaction 151: CH2(S) + CO <=> CH2 + CO ... OK.\\n\\nReaction 152: CH2(S) + CO2 <=> CH2 + CO2 ... OK.\\n\\nReaction 153: CH2(S) + CO2 <=> CH2O + CO\\n     (H2-C) + (O)(O-C) = (H2-C)(O) + (O-C)\\n\\nReaction 154: C2H6 + CH2(S) <=> C2H5 + CH3 ... ambiguous.\\n     (H2-C) + (H)(H5-C2) = (H2-C)(H) + (H5-C2)   [<= default] \\n     (H2-C) + (H3-C)(H3-C) = (H2-C)(H3-C) + (H3-C)\\n\\nReaction 155: CH3 + O2 <=> CH3O + O ... OK.\\n\\nReaction 156: CH3 + O2 <=> CH2O + OH ... OK.\\n\\nReaction 157: CH3 + H2O2 <=> CH4 + HO2\\n     (H3-C) + (H)(O2-H) = (H3-C)(H) + (O2-H)\\n\\nReaction 158: 2 CH3 (+M) <=> C2H6 (+M) ... OK.\\n\\nReaction 159: 2 CH3 <=> C2H5 + H ... ambiguous.\\n     (H3-C) + (H2-C)(H) = (H3-C)(H2-C) + (H)   [<= default] \\n     (H3-C) + (H2-C)(H) = (H3-C)(H2-C) + (H)\\n\\nReaction 160: CH3 + HCO <=> CH4 + CO\\n     (H3-C) + (H)(O-C) = (H3-C)(H) + (O-C)\\n\\nReaction 161: CH2O + CH3 <=> CH4 + HCO\\n     (H3-C) + (H)(O-H-C) = (H3-C)(H) + (O-H-C)\\n\\nReaction 162: CH3 + CH3OH <=> CH2OH + CH4 ... ambiguous.\\n     (H3-C) + (H)(O-H3-C) = (H3-C)(H) + (O-H3-C)   [<= default] \\n     (H3-C) + (O)(H4-C) = (H3-C)(O) + (H4-C)\\n\\nReaction 163: CH3 + CH3OH <=> CH3O + CH4 ... ambiguous.\\n     (H3-C) + (H)(O-H3-C) = (H3-C)(H) + (O-H3-C)   [<= default] \\n     (H3-C) + (O)(H4-C) = (H3-C)(O) + (H4-C)\\n\\nReaction 164: C2H4 + CH3 <=> C2H3 + CH4 ... ambiguous.\\n     (H3-C) + (H)(H3-C2) = (H3-C)(H) + (H3-C2)   [<= default] \\n     (H3-C) + (C)(H4-C) = (H3-C)(C) + (H4-C)\\n\\nReaction 165: C2H6 + CH3 <=> C2H5 + CH4 ... ambiguous.\\n     (H3-C) + (H)(H5-C2) = (H3-C)(H) + (H5-C2)   [<= default] \\n     (H3-C) + (H2-C)(H4-C) = (H3-C)(H2-C) + (H4-C)\\n\\nReaction 166: H2O + HCO <=> CO + H + H2O ... OK.\\n\\nReaction 167: HCO + M <=> CO + H + M ... OK.\\n\\nReaction 168: HCO + O2 <=> CO + HO2\\n     (O2) + (H)(O-C) = (O2)(H) + (O-C)\\n\\nReaction 169: CH2OH + O2 <=> CH2O + HO2\\n     (O2) + (H)(O-H2-C) = (O2)(H) + (O-H2-C)\\n\\nReaction 170: CH3O + O2 <=> CH2O + HO2\\n     (O2) + (H)(O-H2-C) = (O2)(H) + (O-H2-C)\\n\\nReaction 171: C2H + O2 <=> CO + HCO ... OK.\\n\\nReaction 172: C2H + H2 <=> C2H2 + H ... ambiguous.\\n     (H-C2) + (H)(H) = (H-C2)(H) + (H)   [<= default] \\n     (H2) + (C2)(H) = (H2)(C2) + (H)\\n\\nReaction 173: C2H3 + O2 <=> CH2O + HCO ... OK.\\n\\nReaction 174: C2H4 (+M) <=> C2H2 + H2 (+M) ... OK.\\n\\nReaction 175: C2H5 + O2 <=> C2H4 + HO2 ... OK.\\n\\nReaction 176: HCCO + O2 <=> 2 CO + OH... cannot parse. [ignored]\\n\\nReaction 177: 2 HCCO <=> C2H2 + 2 CO... cannot parse. [ignored]\\n\\nReaction 178: N + NO <=> N2 + O ... OK.\\n\\nReaction 179: N + O2 <=> NO + O ... OK.\\n\\nReaction 180: N + OH <=> H + NO ... OK.\\n\\nReaction 181: N2O + O <=> N2 + O2 ... OK.\\n\\nReaction 182: N2O + O <=> 2 NO ... ambiguous.\\n     (O) + (N)(O-N) = (O)(N) + (O-N)   [<= default] \\n     (O) + (N)(O-N) = (O)(N) + (O-N)\\n\\nReaction 183: H + N2O <=> N2 + OH ... OK.\\n\\nReaction 184: N2O + OH <=> HO2 + N2 ... OK.\\n\\nReaction 185: N2O (+M) <=> N2 + O (+M) ... OK.\\n\\nReaction 186: HO2 + NO <=> NO2 + OH\\n     (O-N) + (O)(O-H) = (O-N)(O) + (O-H)\\n\\nReaction 187: NO + O + M <=> NO2 + M ... OK.\\n\\nReaction 188: NO2 + O <=> NO + O2 ... ambiguous.\\n     (O) + (O)(O-N) = (O)(O) + (O-N)   [<= default] \\n     (O) + (N)(O2) = (O)(N) + (O2)\\n\\nReaction 189: H + NO2 <=> NO + OH ... OK.\\n\\nReaction 190: NH + O <=> H + NO ... OK.\\n\\nReaction 191: H + NH <=> H2 + N ... OK.\\n\\nReaction 192: NH + OH <=> H + HNO ... ambiguous.\\n     (H-N) + (O)(H) = (H-N)(O) + (H)   [<= default] \\n     (O-H) + (N)(H) = (O-H)(N) + (H)\\n\\nReaction 193: NH + OH <=> H2O + N ... OK.\\n\\nReaction 194: NH + O2 <=> HNO + O ... OK.\\n\\nReaction 195: NH + O2 <=> NO + OH ... OK.\\n\\nReaction 196: N + NH <=> H + N2 ... OK.\\n\\nReaction 197: H2O + NH <=> H2 + HNO\\n     (H-N) + (O)(H2) = (H-N)(O) + (H2)\\n\\nReaction 198: NH + NO <=> N2 + OH ... OK.\\n\\nReaction 199: NH + NO <=> H + N2O ... OK.\\n\\nReaction 200: NH2 + O <=> NH + OH ... OK.\\n\\nReaction 201: NH2 + O <=> H + HNO ... OK.\\n\\nReaction 202: H + NH2 <=> H2 + NH ... ambiguous.\\n     (H) + (H)(H-N) = (H)(H) + (H-N)   [<= default] \\n     (H) + (N)(H2) = (H)(N) + (H2)\\n\\nReaction 203: NH2 + OH <=> H2O + NH\\n     (O-H) + (H)(H-N) = (O-H)(H) + (H-N)\\n\\nReaction 204: NNH <=> H + N2 ... OK.\\n\\nReaction 205: NNH + M <=> H + N2 + M ... OK.\\n\\nReaction 206: NNH + O2 <=> HO2 + N2 ... OK.\\n\\nReaction 207: NNH + O <=> N2 + OH ... OK.\\n\\nReaction 208: NNH + O <=> NH + NO ... OK.\\n\\nReaction 209: H + NNH <=> H2 + N2 ... OK.\\n\\nReaction 210: NNH + OH <=> H2O + N2 ... OK.\\n\\nReaction 211: CH3 + NNH <=> CH4 + N2 ... OK.\\n\\nReaction 212: H + NO + M <=> HNO + M ... OK.\\n\\nReaction 213: HNO + O <=> NO + OH ... ambiguous.\\n     (O) + (H)(O-N) = (O)(H) + (O-N)   [<= default] \\n     (O) + (N)(O-H) = (O)(N) + (O-H)\\n\\nReaction 214: H + HNO <=> H2 + NO ... OK.\\n\\nReaction 215: HNO + OH <=> H2O + NO\\n     (O-H) + (H)(O-N) = (O-H)(H) + (O-N)\\n\\nReaction 216: HNO + O2 <=> HO2 + NO\\n     (O2) + (H)(O-N) = (O2)(H) + (O-N)\\n\\nReaction 217: CN + O <=> CO + N ... OK.\\n\\nReaction 218: CN + OH <=> H + NCO ... OK.\\n\\nReaction 219: CN + H2O <=> HCN + OH ... OK.\\n\\nReaction 220: CN + O2 <=> NCO + O ... OK.\\n\\nReaction 221: CN + H2 <=> H + HCN ... OK.\\n\\nReaction 222: NCO + O <=> CO + NO ... ambiguous.\\n     (O) + (C)(O-N) = (O)(C) + (O-N)   [<= default] \\n     (O) + (N)(O-C) = (O)(N) + (O-C)\\n\\nReaction 223: H + NCO <=> CO + NH ... OK.\\n\\nReaction 224: NCO + OH <=> CO + H + NO... cannot parse. [ignored]\\n\\nReaction 225: N + NCO <=> CO + N2 ... OK.\\n\\nReaction 226: NCO + O2 <=> CO2 + NO\\n     (O2) + (C)(O-N) = (O2)(C) + (O-N)\\n\\nReaction 227: NCO + M <=> CO + N + M ... OK.\\n\\nReaction 228: NCO + NO <=> CO + N2O\\n     (O-N) + (N)(O-C) = (O-N)(N) + (O-C)\\n\\nReaction 229: NCO + NO <=> CO2 + N2 ... OK.\\n\\nReaction 230: HCN + M <=> CN + H + M ... OK.\\n\\nReaction 231: HCN + O <=> H + NCO ... OK.\\n\\nReaction 232: HCN + O <=> CO + NH ... OK.\\n\\nReaction 233: HCN + O <=> CN + OH ... OK.\\n\\nReaction 234: HCN + OH <=> H + HOCN ... ambiguous.\\n     (H-C-N) + (O)(H) = (H-C-N)(O) + (H)   [<= default] \\n     (O-H) + (C-N)(H) = (O-H)(C-N) + (H)\\n\\nReaction 235: HCN + OH <=> H + HNCO ... ambiguous.\\n     (H-C-N) + (O)(H) = (H-C-N)(O) + (H)   [<= default] \\n     (O-H) + (C-N)(H) = (O-H)(C-N) + (H)\\n\\nReaction 236: HCN + OH <=> CO + NH2 ... OK.\\n\\nReaction 237: H + HCN (+M) <=> H2CN (+M) ... OK.\\n\\nReaction 238: H2CN + N <=> CH2 + N2 ... OK.\\n\\nReaction 239: C + N2 <=> CN + N ... OK.\\n\\nReaction 240: CH + N2 <=> HCN + N ... OK.\\n\\nReaction 241: CH + N2 (+M) <=> HCNN (+M) ... OK.\\n\\nReaction 242: CH2 + N2 <=> HCN + NH ... OK.\\n\\nReaction 243: CH2(S) + N2 <=> HCN + NH ... OK.\\n\\nReaction 244: C + NO <=> CN + O ... OK.\\n\\nReaction 245: C + NO <=> CO + N ... OK.\\n\\nReaction 246: CH + NO <=> HCN + O ... OK.\\n\\nReaction 247: CH + NO <=> H + NCO ... OK.\\n\\nReaction 248: CH + NO <=> HCO + N ... OK.\\n\\nReaction 249: CH2 + NO <=> H + HNCO ... OK.\\n\\nReaction 250: CH2 + NO <=> HCN + OH ... OK.\\n\\nReaction 251: CH2 + NO <=> H + HCNO ... OK.\\n\\nReaction 252: CH2(S) + NO <=> H + HNCO ... OK.\\n\\nReaction 253: CH2(S) + NO <=> HCN + OH ... OK.\\n\\nReaction 254: CH2(S) + NO <=> H + HCNO ... OK.\\n\\nReaction 255: CH3 + NO <=> H2O + HCN ... OK.\\n\\nReaction 256: CH3 + NO <=> H2CN + OH ... OK.\\n\\nReaction 257: HCNN + O <=> CO + H + N2 ... OK.\\n\\nReaction 258: HCNN + O <=> HCN + NO ... OK.\\n\\nReaction 259: HCNN + O2 <=> HCO + N2 + O ... OK.\\n\\nReaction 260: HCNN + OH <=> H + HCO + N2... cannot parse. [ignored]\\n\\nReaction 261: H + HCNN <=> CH2 + N2 ... OK.\\n\\nReaction 262: HNCO + O <=> CO2 + NH ... OK.\\n\\nReaction 263: HNCO + O <=> CO + HNO ... ambiguous.\\n     (O) + (C)(O-H-N) = (O)(C) + (O-H-N)   [<= default] \\n     (O) + (H-N)(O-C) = (O)(H-N) + (O-C)\\n\\nReaction 264: HNCO + O <=> NCO + OH ... ambiguous.\\n     (O) + (H)(O-C-N) = (O)(H) + (O-C-N)   [<= default] \\n     (O) + (C-N)(O-H) = (O)(C-N) + (O-H)\\n\\nReaction 265: H + HNCO <=> CO + NH2 ... OK.\\n\\nReaction 266: H + HNCO <=> H2 + NCO ... OK.\\n\\nReaction 267: HNCO + OH <=> H2O + NCO\\n     (O-H) + (H)(O-C-N) = (O-H)(H) + (O-C-N)\\n\\nReaction 268: HNCO + OH <=> CO2 + NH2 ... OK.\\n\\nReaction 269: HNCO + M <=> CO + NH + M ... OK.\\n\\nReaction 270: H + HCNO <=> H + HNCO ... OK.\\n\\nReaction 271: H + HCNO <=> HCN + OH ... ambiguous.\\n     (H) + (O)(H-C-N) = (H)(O) + (H-C-N)   [<= default] \\n     (H) + (C-N)(O-H) = (H)(C-N) + (O-H)\\n\\nReaction 272: H + HCNO <=> CO + NH2 ... OK.\\n\\nReaction 273: H + HOCN <=> H + HNCO ... OK.\\n\\nReaction 274: HCCO + NO <=> CO + HCNO\\n     (O-N) + (H-C)(O-C) = (O-N)(H-C) + (O-C)\\n\\nReaction 275: CH3 + N <=> H + H2CN ... OK.\\n\\nReaction 276: CH3 + N <=> H2 + HCN ... OK.\\n\\nReaction 277: H + NH3 <=> H2 + NH2 ... ambiguous.\\n     (H) + (H)(H2-N) = (H)(H) + (H2-N)   [<= default] \\n     (H) + (H-N)(H2) = (H)(H-N) + (H2)\\n\\nReaction 278: NH3 + OH <=> H2O + NH2\\n     (O-H) + (H)(H2-N) = (O-H)(H) + (H2-N)\\n\\nReaction 279: NH3 + O <=> NH2 + OH ... OK.\\n\\nReaction 280: CO2 + NH <=> CO + HNO ... OK.\\n\\nReaction 281: CN + NO2 <=> NCO + NO\\n     (C-N) + (O)(O-N) = (C-N)(O) + (O-N)\\n\\nReaction 282: NCO + NO2 <=> CO2 + N2O ... cannot express as A + BC = AB + C\\n\\nReaction 283: CO2 + N <=> CO + NO ... OK.\\n\\nReaction 284: CH3 + O => CO + H + H2 ... OK.\\n\\nReaction 285: C2H4 + O <=> CH2CHO + H ... OK.\\n\\nReaction 286: C2H5 + O <=> CH3CHO + H ... OK.\\n\\nReaction 287: HO2 + OH <=> H2O + O2\\n     (O-H) + (H)(O2) = (O-H)(H) + (O2)\\n\\nReaction 288: CH3 + OH => CH2O + H2\\n     (O-H) + (H-C)(H2) = (O-H)(H-C) + (H2)\\n\\nReaction 289: CH + H2 (+M) <=> CH3 (+M) ... OK.\\n\\nReaction 290: CH2 + O2 => CO2 + 2 H ... OK.\\n\\nReaction 291: CH2 + O2 <=> CH2O + O ... OK.\\n\\nReaction 292: 2 CH2 => C2H2 + 2 H... cannot parse. [ignored]\\n\\nReaction 293: CH2(S) + H2O => CH2O + H2 ... ambiguous.\\n     (H2-C) + (O)(H2) = (H2-C)(O) + (H2)   [<= default] \\n     (O-H2) + (C)(H2) = (O-H2)(C) + (H2)\\n\\nReaction 294: C2H3 + O2 <=> CH2CHO + O ... OK.\\n\\nReaction 295: C2H3 + O2 <=> C2H2 + HO2 ... OK.\\n\\nReaction 296: CH3CHO + O <=> CH2CHO + OH ... ambiguous.\\n     (O) + (H)(O-H3-C2) = (O)(H) + (O-H3-C2)   [<= default] \\n     (O) + (H3-C2)(O-H) = (O)(H3-C2) + (O-H)\\n\\nReaction 297: CH3CHO + O => CH3 + CO + OH... cannot parse. [ignored]\\n\\nReaction 298: CH3CHO + O2 => CH3 + CO + HO2... cannot parse. [ignored]\\n\\nReaction 299: CH3CHO + H <=> CH2CHO + H2 ... ambiguous.\\n     (H) + (H)(O-H3-C2) = (H)(H) + (O-H3-C2)   [<= default] \\n     (H) + (O-H2-C2)(H2) = (H)(O-H2-C2) + (H2)\\n\\nReaction 300: CH3CHO + H => CH3 + CO + H2... cannot parse. [ignored]\\n\\nReaction 301: CH3CHO + OH => CH3 + CO + H2O... cannot parse. [ignored]\\n\\nReaction 302: CH3CHO + HO2 => CH3 + CO + H2O2... cannot parse. [ignored]\\n\\nReaction 303: CH3 + CH3CHO => CH3 + CH4 + CO ... OK.\\n\\nReaction 304: CH2CO + H (+M) <=> CH2CHO (+M) ... OK.\\n\\nReaction 305: CH2CHO + O => CH2 + CO2 + H ... OK.\\n\\nReaction 306: CH2CHO + O2 => CH2O + CO + OH... cannot parse. [ignored]\\n\\nReaction 307: CH2CHO + O2 => 2 HCO + OH... cannot parse. [ignored]\\n\\nReaction 308: CH2CHO + H <=> CH3 + HCO ... ambiguous.\\n     (H) + (H2-C)(O-H-C) = (H)(H2-C) + (O-H-C)   [<= default] \\n     (H) + (O-C)(H3-C) = (H)(O-C) + (H3-C)\\n\\nReaction 309: CH2CHO + H <=> CH2CO + H2 ... ambiguous.\\n     (H) + (H)(O-H2-C2) = (H)(H) + (O-H2-C2)   [<= default] \\n     (H) + (O-H-C2)(H2) = (H)(O-H-C2) + (H2)\\n\\nReaction 310: CH2CHO + OH <=> CH2CO + H2O ... ambiguous.\\n     (O-H) + (H)(O-H2-C2) = (O-H)(H) + (O-H2-C2)   [<= default] \\n     (O-H) + (H-C2)(O-H2) = (O-H)(H-C2) + (O-H2)\\n\\nReaction 311: CH2CHO + OH <=> CH2OH + HCO ... ambiguous.\\n     (O-H) + (C)(O-H3-C) = (O-H)(C) + (O-H3-C)   [<= default] \\n     (O-H) + (H2-C)(O-H-C) = (O-H)(H2-C) + (O-H-C)\\n\\nReaction 312: C2H5 + CH3 (+M) <=> C3H8 (+M) ... OK.\\n\\nReaction 313: C3H8 + O <=> C3H7 + OH ... OK.\\n\\nReaction 314: C3H8 + H <=> C3H7 + H2 ... ambiguous.\\n     (H) + (H)(H7-C3) = (H)(H) + (H7-C3)   [<= default] \\n     (H) + (H6-C3)(H2) = (H)(H6-C3) + (H2)\\n\\nReaction 315: C3H8 + OH <=> C3H7 + H2O\\n     (O-H) + (H)(H7-C3) = (O-H)(H) + (H7-C3)\\n\\nReaction 316: C3H7 + H2O2 <=> C3H8 + HO2\\n     (H7-C3) + (H)(O2-H) = (H7-C3)(H) + (O2-H)\\n\\nReaction 317: C3H8 + CH3 <=> C3H7 + CH4 ... ambiguous.\\n     (H3-C) + (H)(H7-C3) = (H3-C)(H) + (H7-C3)   [<= default] \\n     (H3-C) + (H4-C2)(H4-C) = (H3-C)(H4-C2) + (H4-C)\\n\\nReaction 318: C2H4 + CH3 (+M) <=> C3H7 (+M) ... OK.\\n\\nReaction 319: C3H7 + O <=> C2H5 + CH2O ... OK.\\n\\nReaction 320: C3H7 + H (+M) <=> C3H8 (+M) ... OK.\\n\\nReaction 321: C3H7 + H <=> C2H5 + CH3 ... ambiguous.\\n     (H) + (H2-C)(H5-C2) = (H)(H2-C) + (H5-C2)   [<= default] \\n     (H) + (H4-C2)(H3-C) = (H)(H4-C2) + (H3-C)\\n\\nReaction 322: C3H7 + OH <=> C2H5 + CH2OH\\n     (O-H) + (H2-C)(H5-C2) = (O-H)(H2-C) + (H5-C2)\\n\\nReaction 323: C3H7 + HO2 <=> C3H8 + O2 ... OK.\\n\\nReaction 324: C3H7 + HO2 => C2H5 + CH2O + OH... cannot parse. [ignored]\\n\\nReaction 325: C3H7 + CH3 <=> 2 C2H5 ... ambiguous.\\n     (H3-C) + (H2-C)(H5-C2) = (H3-C)(H2-C) + (H5-C2)   [<= default] \\n     (H3-C) + (H2-C)(H5-C2) = (H3-C)(H2-C) + (H5-C2)\\n'"
     },
     "execution_count": 187,
     "metadata": {},
     "output_type": "execute_result"
    }
   ],
   "source": [
    "reset_sln(sln, 1500)\n",
    "rxn_dgrm = ct.ReactionPathDiagram(sln, 'OH')\n",
    "rxn_dgrm.build()\n",
    "rxn_dgrm.log"
   ],
   "metadata": {
    "collapsed": false,
    "pycharm": {
     "name": "#%%\n"
    }
   }
  },
  {
   "cell_type": "code",
   "execution_count": 177,
   "outputs": [],
   "source": [],
   "metadata": {
    "collapsed": false,
    "pycharm": {
     "name": "#%%\n"
    }
   }
  },
  {
   "cell_type": "code",
   "execution_count": 177,
   "outputs": [],
   "source": [],
   "metadata": {
    "collapsed": false,
    "pycharm": {
     "name": "#%%\n"
    }
   }
  }
 ],
 "metadata": {
  "kernelspec": {
   "name": "me362b",
   "language": "python",
   "display_name": "me362b"
  },
  "language_info": {
   "codemirror_mode": {
    "name": "ipython",
    "version": 2
   },
   "file_extension": ".py",
   "mimetype": "text/x-python",
   "name": "python",
   "nbconvert_exporter": "python",
   "pygments_lexer": "ipython2",
   "version": "2.7.6"
  }
 },
 "nbformat": 4,
 "nbformat_minor": 0
}
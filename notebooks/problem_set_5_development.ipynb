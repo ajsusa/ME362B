{
 "cells": [
  {
   "cell_type": "markdown",
   "metadata": {
    "collapsed": true,
    "pycharm": {
     "name": "#%% md\n"
    }
   },
   "source": [
    "# Problem Set #5: Development"
   ]
  },
  {
   "cell_type": "code",
   "execution_count": 255,
   "outputs": [],
   "source": [
    "import cantera as ct\n",
    "import numpy as np\n",
    "import matplotlib.pyplot as plt\n",
    "import os"
   ],
   "metadata": {
    "collapsed": false,
    "pycharm": {
     "name": "#%%\n"
    }
   }
  },
  {
   "cell_type": "markdown",
   "source": [
    "## 1) Get everything set up"
   ],
   "metadata": {
    "collapsed": false,
    "pycharm": {
     "name": "#%% md\n"
    }
   }
  },
  {
   "cell_type": "code",
   "execution_count": 256,
   "outputs": [
    {
     "data": {
      "text/plain": "'C:\\\\Users\\\\asusa\\\\pycharm_projects\\\\me362b_winter2021\\\\mechanisms\\\\stanford-mech_v12.cti'"
     },
     "execution_count": 256,
     "metadata": {},
     "output_type": "execute_result"
    }
   ],
   "source": [
    "# path to kinetic mechanism\n",
    "fname_mech = os.path.abspath('..') + '\\\\mechanisms\\\\stanford-mech_v12.cti'\n",
    "fname_mech"
   ],
   "metadata": {
    "collapsed": false,
    "pycharm": {
     "name": "#%%\n"
    }
   }
  },
  {
   "cell_type": "code",
   "execution_count": 257,
   "outputs": [
    {
     "name": "stdout",
     "output_type": "stream",
     "text": [
      "\n",
      "  gas:\n",
      "\n",
      "       temperature             300  K\n",
      "          pressure          101325  Pa\n",
      "           density       0.0818891  kg/m^3\n",
      "  mean mol. weight         2.01588  amu\n",
      "\n",
      "                          1 kg            1 kmol\n",
      "                       -----------      ------------\n",
      "          enthalpy           26470        5.336e+04     J\n",
      "   internal energy     -1.2109e+06       -2.441e+06     J\n",
      "           entropy           64914        1.309e+05     J/K\n",
      "    Gibbs function     -1.9448e+07        -3.92e+07     J\n",
      " heat capacity c_p           14312        2.885e+04     J/K\n",
      " heat capacity c_v           10187        2.054e+04     J/K\n",
      "\n",
      "                           X                 Y          Chem. Pot. / RT\n",
      "                     -------------     ------------     ------------\n",
      "                H2              1                1         -15.7173\n",
      "     [   +9 minor]              0                0\n",
      "\n"
     ]
    }
   ],
   "source": [
    "# create the solution instance\n",
    "sln = ct.Solution(fname_mech)\n",
    "sln()"
   ],
   "metadata": {
    "collapsed": false,
    "pycharm": {
     "name": "#%%\n"
    }
   }
  },
  {
   "cell_type": "code",
   "execution_count": 258,
   "outputs": [
    {
     "data": {
      "text/plain": "['H2', 'H', 'O', 'O2', 'OH', 'H2O', 'HO2', 'H2O2', 'N2', 'AR']"
     },
     "execution_count": 258,
     "metadata": {},
     "output_type": "execute_result"
    }
   ],
   "source": [
    "species = sln.species_names\n",
    "species"
   ],
   "metadata": {
    "collapsed": false,
    "pycharm": {
     "name": "#%%\n"
    }
   }
  },
  {
   "cell_type": "code",
   "execution_count": 259,
   "outputs": [
    {
     "data": {
      "text/plain": "['H + O2 <=> O + OH',\n 'H + O2 (+M) <=> HO2 (+M)',\n 'H + O2 (+AR) <=> HO2 (+AR)',\n 'H + O2 (+O2) <=> HO2 (+O2)',\n 'H + O2 (+H2O) <=> HO2 (+H2O)',\n 'H2O2 (+M) <=> 2 OH (+M)',\n 'H2O2 + OH <=> H2O + HO2',\n 'H2O2 + OH <=> H2O + HO2',\n 'HO2 + OH <=> H2O + O2',\n '2 HO2 <=> H2O2 + O2',\n '2 HO2 <=> H2O2 + O2',\n 'H2O + M <=> H + OH + M',\n '2 H2O <=> H + H2O + OH',\n '2 OH <=> H2O + O',\n 'H2 + O <=> H + OH',\n 'H2 + O <=> H + OH',\n 'H2 + OH <=> H + H2O',\n 'H + HO2 <=> 2 OH',\n 'H + HO2 <=> H2O + O',\n 'H + HO2 <=> H2 + O2',\n 'HO2 + O <=> O2 + OH',\n 'H + H2O2 <=> H2 + HO2',\n 'H + H2O2 <=> H2O + OH',\n 'H2O2 + O <=> HO2 + OH',\n 'H2 + M <=> 2 H + M',\n '2 H2 <=> 2 H + H2',\n 'H2 + N2 <=> 2 H + N2',\n 'H2 + O2 <=> 2 H + O2',\n '2 O + M <=> O2 + M',\n 'AR + 2 O <=> AR + O2',\n 'H + O + M <=> OH + M']"
     },
     "execution_count": 259,
     "metadata": {},
     "output_type": "execute_result"
    }
   ],
   "source": [
    "rxns = sln.reaction_equations()\n",
    "rxns"
   ],
   "metadata": {
    "collapsed": false,
    "pycharm": {
     "name": "#%%\n"
    }
   }
  },
  {
   "cell_type": "code",
   "execution_count": 260,
   "outputs": [],
   "source": [
    "# set up the conditions\n",
    "oxidizer = {'AR': .99, 'O2':.01}\n",
    "fuel = {'H2':1.}\n",
    "P0 = 101325."
   ],
   "metadata": {
    "collapsed": false,
    "pycharm": {
     "name": "#%%\n"
    }
   }
  },
  {
   "cell_type": "code",
   "execution_count": 261,
   "outputs": [
    {
     "name": "stdout",
     "output_type": "stream",
     "text": [
      "\n",
      "  gas:\n",
      "\n",
      "       temperature            1200  K\n",
      "          pressure          101325  Pa\n",
      "           density        0.397347  kg/m^3\n",
      "  mean mol. weight         39.1263  amu\n",
      "\n",
      "                          1 kg            1 kmol\n",
      "                       -----------      ------------\n",
      "          enthalpy      4.8591e+05        1.901e+07     J\n",
      "   internal energy      2.3091e+05        9.035e+06     J\n",
      "           entropy          4737.3        1.854e+05     J/K\n",
      "    Gibbs function     -5.1988e+06       -2.034e+08     J\n",
      " heat capacity c_p           540.1        2.113e+04     J/K\n",
      " heat capacity c_v           327.6        1.282e+04     J/K\n",
      "\n",
      "                           X                 Y          Chem. Pot. / RT\n",
      "                     -------------     ------------     ------------\n",
      "                H2      0.0196078       0.00101024         -21.9093\n",
      "                O2     0.00980392       0.00801798          -31.712\n",
      "                AR       0.970588         0.990972         -20.2422\n",
      "     [   +7 minor]              0                0\n",
      "\n"
     ]
    }
   ],
   "source": [
    "def reset_sln(sln, T, P=P0, phi=1.):\n",
    "    sln.TP = T, P\n",
    "    sln.set_equivalence_ratio(phi=phi, oxidizer=oxidizer, fuel=fuel)\n",
    "\n",
    "reset_sln(sln, 1200)\n",
    "sln()"
   ],
   "metadata": {
    "collapsed": false,
    "pycharm": {
     "name": "#%%\n"
    }
   }
  },
  {
   "cell_type": "code",
   "execution_count": 262,
   "outputs": [
    {
     "data": {
      "text/plain": "<cantera._cantera.ConstPressureReactor at 0x13e0255d048>"
     },
     "execution_count": 262,
     "metadata": {},
     "output_type": "execute_result"
    }
   ],
   "source": [
    "# set up the reactor and network\n",
    "r1 = ct.ConstPressureReactor(contents=sln, energy='on')\n",
    "r1"
   ],
   "metadata": {
    "collapsed": false,
    "pycharm": {
     "name": "#%%\n"
    }
   }
  },
  {
   "cell_type": "code",
   "execution_count": 263,
   "outputs": [
    {
     "data": {
      "text/plain": "<cantera._cantera.ReactorNet at 0x13e793bac18>"
     },
     "execution_count": 263,
     "metadata": {},
     "output_type": "execute_result"
    }
   ],
   "source": [
    "rnet = ct.ReactorNet(reactors=(r1,))\n",
    "rnet"
   ],
   "metadata": {
    "collapsed": false,
    "pycharm": {
     "name": "#%%\n"
    }
   }
  },
  {
   "cell_type": "code",
   "execution_count": 264,
   "outputs": [],
   "source": [
    "def reset_reactor(sln,  T, rnet=rnet, P=P0, phi=1.):\n",
    "    reset_sln(sln, T, P=P, phi=phi)\n",
    "    rnet.set_initial_time(0)"
   ],
   "metadata": {
    "collapsed": false,
    "pycharm": {
     "name": "#%%\n"
    }
   }
  },
  {
   "cell_type": "code",
   "execution_count": 265,
   "outputs": [],
   "source": [
    "reset_reactor(sln, 1200)\n",
    "\n",
    "ts, Ts, spcs = [], [], {}\n",
    "for sp in sln.species_names:\n",
    "    spcs[sp] = []"
   ],
   "metadata": {
    "collapsed": false,
    "pycharm": {
     "name": "#%%\n"
    }
   }
  },
  {
   "cell_type": "code",
   "execution_count": 266,
   "outputs": [],
   "source": [
    "def get_state(rnet, ts=ts, Ts=Ts, spcs=spcs):\n",
    "    ts += [rnet.time]\n",
    "    Ts += [sln.T]\n",
    "    sp_dict = sln.mole_fraction_dict()\n",
    "    for sp in sln.species_names:\n",
    "        spcs[sp] += [sp_dict.get(sp, 0)]"
   ],
   "metadata": {
    "collapsed": false,
    "pycharm": {
     "name": "#%%\n"
    }
   }
  },
  {
   "cell_type": "code",
   "execution_count": 267,
   "outputs": [
    {
     "data": {
      "text/plain": "[<matplotlib.lines.Line2D at 0x13e0257c088>]"
     },
     "execution_count": 267,
     "metadata": {},
     "output_type": "execute_result"
    },
    {
     "data": {
      "text/plain": "<Figure size 432x288 with 1 Axes>",
      "image/png": "[encoded data removed]"
     },
     "metadata": {
      "needs_background": "light"
     },
     "output_type": "display_data"
    }
   ],
   "source": [
    "for i in range(100):\n",
    "    rnet.step()\n",
    "    get_state(rnet)\n",
    "\n",
    "plt.semilogx(ts, Ts)"
   ],
   "metadata": {
    "collapsed": false,
    "pycharm": {
     "name": "#%%\n"
    }
   }
  },
  {
   "cell_type": "code",
   "execution_count": 268,
   "outputs": [
    {
     "data": {
      "text/plain": "(1e-05, 0.1)"
     },
     "execution_count": 268,
     "metadata": {},
     "output_type": "execute_result"
    },
    {
     "data": {
      "text/plain": "<Figure size 432x288 with 1 Axes>",
      "image/png": "[encoded data removed]"
     },
     "metadata": {
      "needs_background": "light"
     },
     "output_type": "display_data"
    }
   ],
   "source": [
    "plt.semilogx(ts[:-1], np.diff(Ts) / np.diff(ts))\n",
    "plt.xlim((1e-5, 1e-1))"
   ],
   "metadata": {
    "collapsed": false,
    "pycharm": {
     "name": "#%%\n"
    }
   }
  },
  {
   "cell_type": "code",
   "execution_count": 269,
   "outputs": [
    {
     "data": {
      "text/plain": "(0.0001, 0.1)"
     },
     "execution_count": 269,
     "metadata": {},
     "output_type": "execute_result"
    },
    {
     "data": {
      "text/plain": "<Figure size 432x288 with 1 Axes>",
      "image/png": "[encoded data removed]"
     },
     "metadata": {
      "needs_background": "light"
     },
     "output_type": "display_data"
    }
   ],
   "source": [
    "# for sp in ['O2', 'H2', 'OH', 'H']:\n",
    "for sp in sln.species_names:\n",
    "    plt.loglog(ts, spcs[sp], label=sp)\n",
    "plt.legend()\n",
    "plt.xlim((1e-5, 1e-2))\n",
    "plt.ylim((1e-4, 1e-1))"
   ],
   "metadata": {
    "collapsed": false,
    "pycharm": {
     "name": "#%%\n"
    }
   }
  },
  {
   "cell_type": "code",
   "execution_count": 270,
   "outputs": [
    {
     "data": {
      "text/plain": "{'O': 0.00034122510046749187,\n 'OH': 0.00034122510046749187,\n 'H': 0.00034122510046749187,\n 'T': 0.0003383405406374369}"
     },
     "execution_count": 270,
     "metadata": {},
     "output_type": "execute_result"
    }
   ],
   "source": [
    "t_ign = {}\n",
    "for sp in ['O', 'OH', 'H']:\n",
    "    t_ign[sp] = ts[np.argmax(spcs[sp])]\n",
    "\n",
    "dT_dt = np.diff(Ts) / np.diff(ts)\n",
    "t_ign['T'] = ts[:-1][np.argmax(dT_dt)]\n",
    "\n",
    "t_ign"
   ],
   "metadata": {
    "collapsed": false,
    "pycharm": {
     "name": "#%%\n"
    }
   }
  },
  {
   "cell_type": "code",
   "execution_count": 271,
   "outputs": [
    {
     "data": {
      "text/plain": "1431.6925915038444"
     },
     "execution_count": 271,
     "metadata": {},
     "output_type": "execute_result"
    }
   ],
   "source": [
    "reset_reactor(sln, 1200)\n",
    "sln.equilibrate('HP')\n",
    "T_eq = sln.T\n",
    "T_eq"
   ],
   "metadata": {
    "collapsed": false,
    "pycharm": {
     "name": "#%%\n"
    }
   }
  },
  {
   "cell_type": "code",
   "execution_count": 295,
   "outputs": [],
   "source": [
    "def calc_T_ign_stop(sln, fractional_rise=0.95) -> float:\n",
    "    \"\"\"\n",
    "    calculates the temperature at which to stop an ignition delay simulation\n",
    "    :param sln: ct.Solution at initial simulation conditions\n",
    "    :return T_stop: float, stopping temperature\n",
    "    \"\"\"\n",
    "\n",
    "    TPX_0 = sln.TPX\n",
    "\n",
    "    # get the equilibrium temperature of the solution to use as a stop condition\n",
    "    sln.equilibrate('HP')\n",
    "    Teq = sln.T\n",
    "\n",
    "    # calculate the temperature at which to stop the simulation\n",
    "    T_stop = TPX_0[0] + fractional_rise * (Teq - TPX_0[0])\n",
    "\n",
    "    sln.TPX = TPX_0\n",
    "\n",
    "    return T_stop\n",
    "\n",
    "def add_state_to_dict(sln, rnet, result_dict):\n",
    "    result_dict['time'] += [rnet.time]\n",
    "    result_dict['T'] += [sln.T]\n",
    "    for sp, x in zip(sln.species_names, sln.X):\n",
    "        result_dict[sp] += [x]\n",
    "\n",
    "def ignition_delay_dY_dt(res_dict, Y_key):\n",
    "    ts = res_dict['time']\n",
    "    ts_mean = ts[:-1] + np.diff(ts) / 2\n",
    "\n",
    "    Ys = res_dict[Y_key]\n",
    "    dY_dt = np.diff(Ys) / np.diff(ts)\n",
    "\n",
    "    return ts_mean[np.argmax(dY_dt)]\n",
    "\n",
    "def ignition_delay_maxY(res_dict, Y_key):\n",
    "    ts = res_dict['time']\n",
    "    return ts[np.argmax(res_dict[Y_key])]\n",
    "\n",
    "def calculate_ignition_delays(res_dict):\n",
    "    ign_delays = {'T':ignition_delay_dY_dt(res_dict, 'T'),\n",
    "                  'H2O':ignition_delay_dY_dt(res_dict, 'H2O'),\n",
    "                  'OH':ignition_delay_maxY(res_dict, 'OH'),\n",
    "                  'O':ignition_delay_maxY(res_dict, 'O'),\n",
    "                  'H':ignition_delay_maxY(res_dict, 'H')}\n",
    "    return ign_delays\n",
    "\n",
    "def run_ignition_simulation(sln, T_stop=None, verbose=False):\n",
    "    \"\"\"\n",
    "\n",
    "    :param sln:\n",
    "    :return:\n",
    "    \"\"\"\n",
    "    if T_stop is None:  # get the stop condition\n",
    "        T_stop = calc_T_ign_stop(sln)\n",
    "\n",
    "    # set up the reactor and network\n",
    "    r1 = ct.ConstPressureReactor(sln)\n",
    "    rnet = ct.ReactorNet((r1, ))\n",
    "\n",
    "    # set up dictionary of lists to store time-series results\n",
    "    result_dict = {'time':[], 'T':[]}\n",
    "    for sp in sln.species_names:\n",
    "        result_dict[sp] = []\n",
    "\n",
    "    while sln.T < T_stop:\n",
    "        rnet.step()\n",
    "        add_state_to_dict(sln, rnet, result_dict)\n",
    "\n",
    "    if verbose:\n",
    "        print(f'Number of simulation steps = {len(result_dict[\"time\"])}')\n",
    "        print(f'Reactor end time = {result_dict[\"time\"][-1]*1e3:4.2f} ms')\n",
    "\n",
    "    return result_dict"
   ],
   "metadata": {
    "collapsed": false,
    "pycharm": {
     "name": "#%%\n"
    }
   }
  },
  {
   "cell_type": "code",
   "execution_count": 296,
   "outputs": [
    {
     "name": "stdout",
     "output_type": "stream",
     "text": [
      "{'T': 0.0030990908528359014, 'H2O': 0.0030076669772036084, 'OH': 0.0035327603441262347, 'O': 0.003196701675437886, 'H': 0.0032462084161688307}\n"
     ]
    }
   ],
   "source": [
    "# %%timeit\n",
    "\n",
    "reset_sln(sln, 1000)\n",
    "result_dict = run_ignition_simulation(sln)\n",
    "ign_delay = calculate_ignition_delays(result_dict)\n",
    "print(ign_delay)"
   ],
   "metadata": {
    "collapsed": false,
    "pycharm": {
     "name": "#%%\n"
    }
   }
  },
  {
   "cell_type": "code",
   "execution_count": 297,
   "outputs": [
    {
     "data": {
      "text/plain": "<matplotlib.legend.Legend at 0x13e059e9288>"
     },
     "execution_count": 297,
     "metadata": {},
     "output_type": "execute_result"
    },
    {
     "data": {
      "text/plain": "<Figure size 432x288 with 1 Axes>",
      "image/png": "[encoded data removed]"
     },
     "metadata": {
      "needs_background": "light"
     },
     "output_type": "display_data"
    },
    {
     "data": {
      "text/plain": "<Figure size 432x288 with 1 Axes>",
      "image/png": "[encoded data removed]"
     },
     "metadata": {
      "needs_background": "light"
     },
     "output_type": "display_data"
    }
   ],
   "source": [
    "plt.figure()\n",
    "for sp in sln.species_names:\n",
    "    if sp in ['H2', 'O2', 'H2O']:\n",
    "        plt.plot(result_dict['time'], result_dict[sp], label=sp)\n",
    "plt.legend()\n",
    "\n",
    "plt.figure()\n",
    "for sp in sln.species_names:\n",
    "    if sp not in ['AR', 'H2', 'O2', 'H2O', 'N2']:\n",
    "        plt.semilogy(result_dict['time'], result_dict[sp], label=sp)\n",
    "\n",
    "plt.ylim((1e-8, 1e-1))\n",
    "plt.legend()"
   ],
   "metadata": {
    "collapsed": false,
    "pycharm": {
     "name": "#%%\n"
    }
   }
  },
  {
   "cell_type": "code",
   "execution_count": 298,
   "outputs": [],
   "source": [
    "T0s = np.arange(1000, 2001, 100)\n",
    "ign_delays = {}\n",
    "\n",
    "for T0 in T0s:\n",
    "    reset_sln(sln, T0)\n",
    "    result_dict = run_ignition_simulation(sln)\n",
    "    ign_delays[T0] = calculate_ignition_delays(result_dict)"
   ],
   "metadata": {
    "collapsed": false,
    "pycharm": {
     "name": "#%%\n"
    }
   }
  },
  {
   "cell_type": "code",
   "execution_count": 315,
   "outputs": [
    {
     "data": {
      "text/plain": "<Figure size 432x288 with 1 Axes>",
      "image/png": "[encoded data removed]"
     },
     "metadata": {
      "needs_background": "light"
     },
     "output_type": "display_data"
    }
   ],
   "source": [
    "ign_delay_by_type = {}\n",
    "for method in ign_delays[T0s[0]].keys():\n",
    "    ign_delay_by_type[method] = []\n",
    "    for T0 in ign_delays.keys():\n",
    "        ign_delay_by_type[method] += [ign_delays[T0][method]]\n",
    "\n",
    "    plt.semilogy(1000/T0s, np.array(ign_delay_by_type[method]), 'o:', label=method)\n",
    "\n",
    "plt.legend()\n",
    "plt.xlabel('1000/T (K^-1)')\n",
    "plt.ylabel('Ignition Delay Time (s)');"
   ],
   "metadata": {
    "collapsed": false,
    "pycharm": {
     "name": "#%%\n"
    }
   }
  },
  {
   "cell_type": "markdown",
   "source": [
    "## Sensitivity"
   ],
   "metadata": {
    "collapsed": false,
    "pycharm": {
     "name": "#%% md\n"
    }
   }
  },
  {
   "cell_type": "code",
   "execution_count": null,
   "outputs": [],
   "source": [],
   "metadata": {
    "collapsed": false,
    "pycharm": {
     "name": "#%%\n"
    }
   }
  }
 ],
 "metadata": {
  "kernelspec": {
   "name": "me362b",
   "language": "python",
   "display_name": "me362b"
  },
  "language_info": {
   "codemirror_mode": {
    "name": "ipython",
    "version": 2
   },
   "file_extension": ".py",
   "mimetype": "text/x-python",
   "name": "python",
   "nbconvert_exporter": "python",
   "pygments_lexer": "ipython2",
   "version": "2.7.6"
  }
 },
 "nbformat": 4,
 "nbformat_minor": 0
}
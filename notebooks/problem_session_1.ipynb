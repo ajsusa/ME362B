{
 "cells": [
  {
   "cell_type": "markdown",
   "metadata": {
    "collapsed": true,
    "pycharm": {
     "name": "#%% md\n"
    }
   },
   "source": [
    "# Problem Session #1"
   ]
  },
  {
   "cell_type": "code",
   "execution_count": 12,
   "outputs": [],
   "source": [
    "import cantera as ct"
   ],
   "metadata": {
    "collapsed": false,
    "pycharm": {
     "name": "#%%\n"
    }
   }
  },
  {
   "cell_type": "code",
   "execution_count": 13,
   "outputs": [],
   "source": [
    "gas = ct.Solution('gri30.xml')"
   ],
   "metadata": {
    "collapsed": false,
    "pycharm": {
     "name": "#%%\n"
    }
   }
  },
  {
   "cell_type": "code",
   "execution_count": 22,
   "outputs": [],
   "source": [
    "gas.TP = 1000, 101325"
   ],
   "metadata": {
    "collapsed": false,
    "pycharm": {
     "name": "#%%\n"
    }
   }
  },
  {
   "cell_type": "code",
   "execution_count": 23,
   "outputs": [],
   "source": [
    "fuel = {'CH4':1}\n",
    "oxidizer = {'O2':1, 'N2':3.76}"
   ],
   "metadata": {
    "collapsed": false,
    "pycharm": {
     "name": "#%%\n"
    }
   }
  },
  {
   "cell_type": "code",
   "execution_count": 24,
   "outputs": [
    {
     "name": "stdout",
     "output_type": "stream",
     "text": [
      "O2:\t1.901e-01\n",
      "CH4:\t9.506e-02\n",
      "N2:\t7.148e-01\n"
     ]
    }
   ],
   "source": [
    "gas.set_equivalence_ratio(1, fuel, oxidizer)\n",
    "\n",
    "for x, sp in zip(gas.X, gas.species_names):\n",
    "    if x != 0:\n",
    "        print(f'{sp}:\\t{x:4.03e}')"
   ],
   "metadata": {
    "collapsed": false,
    "pycharm": {
     "name": "#%%\n"
    }
   }
  },
  {
   "cell_type": "code",
   "execution_count": 25,
   "outputs": [
    {
     "data": {
      "text/plain": "1000.0"
     },
     "execution_count": 25,
     "metadata": {},
     "output_type": "execute_result"
    }
   ],
   "source": [
    "gas.T"
   ],
   "metadata": {
    "collapsed": false,
    "pycharm": {
     "name": "#%%\n"
    }
   }
  },
  {
   "cell_type": "code",
   "execution_count": 28,
   "outputs": [
    {
     "name": "stdout",
     "output_type": "stream",
     "text": [
      "53\n"
     ]
    },
    {
     "data": {
      "text/plain": "['H2',\n 'H',\n 'O',\n 'O2',\n 'OH',\n 'H2O',\n 'HO2',\n 'H2O2',\n 'C',\n 'CH',\n 'CH2',\n 'CH2(S)',\n 'CH3',\n 'CH4',\n 'CO',\n 'CO2',\n 'HCO',\n 'CH2O',\n 'CH2OH',\n 'CH3O',\n 'CH3OH',\n 'C2H',\n 'C2H2',\n 'C2H3',\n 'C2H4',\n 'C2H5',\n 'C2H6',\n 'HCCO',\n 'CH2CO',\n 'HCCOH',\n 'N',\n 'NH',\n 'NH2',\n 'NH3',\n 'NNH',\n 'NO',\n 'NO2',\n 'N2O',\n 'HNO',\n 'CN',\n 'HCN',\n 'H2CN',\n 'HCNN',\n 'HCNO',\n 'HOCN',\n 'HNCO',\n 'NCO',\n 'N2',\n 'AR',\n 'C3H7',\n 'C3H8',\n 'CH2CHO',\n 'CH3CHO']"
     },
     "execution_count": 28,
     "metadata": {},
     "output_type": "execute_result"
    }
   ],
   "source": [
    "print(len(gas.species_names))\n",
    "gas.species_names"
   ],
   "metadata": {
    "collapsed": false,
    "pycharm": {
     "name": "#%%\n"
    }
   }
  },
  {
   "cell_type": "code",
   "execution_count": null,
   "outputs": [],
   "source": [
    "gas.reactions()"
   ],
   "metadata": {
    "collapsed": false,
    "pycharm": {
     "name": "#%%\n"
    }
   }
  },
  {
   "cell_type": "code",
   "execution_count": 37,
   "outputs": [
    {
     "name": "stdout",
     "output_type": "stream",
     "text": [
      "53\n"
     ]
    }
   ],
   "source": [
    "print(len(gas.net_production_rates))"
   ],
   "metadata": {
    "collapsed": false,
    "pycharm": {
     "name": "#%%\n"
    }
   }
  },
  {
   "cell_type": "code",
   "execution_count": 38,
   "outputs": [
    {
     "name": "stdout",
     "output_type": "stream",
     "text": [
      "H:\t4.129e-11\n",
      "O:\t1.412e-16\n",
      "O2:\t-1.072e-07\n",
      "HO2:\t1.072e-07\n",
      "CH3:\t1.072e-07\n",
      "CH4:\t-1.072e-07\n",
      "NNH:\t1.327e-17\n",
      "N2O:\t1.389e-16\n",
      "N2:\t-1.522e-16\n"
     ]
    }
   ],
   "source": [
    "for rate, sp in zip(gas.net_production_rates, gas.species_names):\n",
    "    if rate != 0:\n",
    "        print(f'{sp}:\\t{rate:4.03e}')"
   ],
   "metadata": {
    "collapsed": false,
    "pycharm": {
     "name": "#%%\n"
    }
   }
  },
  {
   "cell_type": "code",
   "execution_count": 45,
   "outputs": [],
   "source": [
    "reactor = ct.IdealGasReactor(gas)\n",
    "net = ct.ReactorNet((reactor,))"
   ],
   "metadata": {
    "collapsed": false,
    "pycharm": {
     "name": "#%%\n"
    }
   }
  },
  {
   "cell_type": "code",
   "execution_count": 76,
   "outputs": [
    {
     "name": "stdout",
     "output_type": "stream",
     "text": [
      "H2:\t2.226e-10\n",
      "O:\t1.075e-12\n",
      "O2:\t1.901e-01\n",
      "OH:\t3.846e-12\n",
      "H2O:\t6.488e-09\n",
      "HO2:\t1.957e-08\n",
      "H2O2:\t1.469e-09\n",
      "CH3:\t2.389e-08\n",
      "CH4:\t9.506e-02\n",
      "CO:\t2.034e-12\n",
      "CH2O:\t5.970e-09\n",
      "CH3OH:\t1.321e-11\n",
      "C2H6:\t4.725e-11\n",
      "N2:\t7.148e-01\n"
     ]
    }
   ],
   "source": [
    "net.step()\n",
    "for x, sp in zip(gas.X, gas.species_names):\n",
    "    if x > 1e-12:\n",
    "        print(f'{sp}:\\t{x:4.03e}')"
   ],
   "metadata": {
    "collapsed": false,
    "pycharm": {
     "name": "#%%\n"
    }
   }
  }
 ],
 "metadata": {
  "kernelspec": {
   "name": "p37_cantera",
   "language": "python",
   "display_name": "Python 3.7 (p37_cantera)"
  },
  "language_info": {
   "codemirror_mode": {
    "name": "ipython",
    "version": 2
   },
   "file_extension": ".py",
   "mimetype": "text/x-python",
   "name": "python",
   "nbconvert_exporter": "python",
   "pygments_lexer": "ipython2",
   "version": "2.7.6"
  }
 },
 "nbformat": 4,
 "nbformat_minor": 0
}
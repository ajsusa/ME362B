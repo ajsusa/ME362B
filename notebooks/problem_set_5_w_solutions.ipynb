{
 "cells": [
  {
   "cell_type": "markdown",
   "source": [
    "# Problem Set #5\n",
    "\n",
    "In problem set #5, you are asked to use Cantera to perform kinetic simulations and analysis.\n",
    "This notebook will be used as a template to pose questions and guide you through the process to reach solutions.\n",
    "\n",
    "This assignment directly apply material presented in the two Jupyter tutorials presenting in problem sessions 2 and 5.\n",
    "It is *highly* recommended that, if you haven't already, you watch the recordings and/or work through these tutorials\n",
    " before attempting this assignment.\n",
    "\n",
    "This assignment is intended to expose students to open-source tools and analysis methods for performing kinetic\n",
    " simulations, not to test student's programming ability.\n",
    "While we expect students to first reference the tutorials and documentation available to you, please do not hesitate to\n",
    " reach out to your fellow students (as with all problem sets, you are encouraged to work together but must complete and\n",
    " submit your own assignments) or your TA's.\n",
    "\n",
    "*Note:*\n",
    "Please make sure to refer to the directions at the end of Tutorial #1 regarding saving your work in the\n",
    " Jupyter/Binder environment. Please be sure to save your work to your local machine in the **.ipynb** format regularly.\n",
    "If contacting the TA's by email with questions, please attach your .ipynb file to help them assist you with\n",
    " troubleshooting\n",
    "\n",
    "**Submission:**\n",
    "When you complete the assignment, please *Print* the notebook (with all output displayed) in **PDF** format for\n",
    " submission on Gradescope.\n",
    "If you choose to complete the assignment in a different form than this notebook (allowed, but *not recommended*), you\n",
    " are responsible for determining what deliverables are being asked for in this template and making sure they are\n",
    " submitted in an appropriate format."
   ],
   "metadata": {
    "collapsed": false
   }
  },
  {
   "cell_type": "markdown",
   "source": [
    "**Import Statements:**\n",
    "Do not change anything in the following cell. Packages imported here should be the only required for completing this\n",
    " assignment."
   ],
   "metadata": {
    "collapsed": false,
    "pycharm": {
     "name": "#%% md\n"
    }
   }
  },
  {
   "cell_type": "code",
   "execution_count": 2,
   "outputs": [],
   "source": [
    "import cantera as ct\n",
    "import numpy as np\n",
    "import os\n",
    "import matplotlib.pyplot as plt"
   ],
   "metadata": {
    "collapsed": false,
    "pycharm": {
     "name": "#%%\n"
    }
   }
  },
  {
   "cell_type": "markdown",
   "source": [
    "**Useful Functions from Problem Session #5/Tutorial #2:**\n",
    "\n",
    "The following functions that were developed in Tutorial #2 are provided for you here for your reference and use in this\n",
    " problem set.\n",
    "You may modify them should you so choose, or use them as they are."
   ],
   "metadata": {
    "collapsed": false,
    "pycharm": {
     "name": "#%% md\n"
    }
   }
  },
  {
   "cell_type": "code",
   "execution_count": null,
   "outputs": [],
   "source": [
    "# default parameters passed to functions:\n",
    "#   You can change these, then re-run this cell to change the defaults used by the functions\n",
    "T0 = 1200  # K\n",
    "P0 = 101325  # Pa (1 atm)\n",
    "phi = 1.\n",
    "fuel = {'H2':1.}\n",
    "oxidizer = {'AR':.79, 'O2':.21}  # \"airgon\"\n",
    "\n",
    "# user-defined functions to help set up and run simulations\n",
    "\n",
    "def setup_simulation(sln, T=T0, P=P0, phi=phi, f=fuel, ox=oxidizer):\n",
    "    sln.set_equivalence_ratio(phi=phi, fuel=f, oxidizer=ox)\n",
    "    sln.TP = T, P\n",
    "    r1 = ct.ConstPressureReactor(sln)\n",
    "    rnet = ct.ReactorNet([r1])\n",
    "    return r1, rnet\n"
   ],
   "metadata": {
    "collapsed": false,
    "pycharm": {
     "name": "#%%\n"
    }
   }
  },
  {
   "cell_type": "markdown",
   "source": [
    "# Part 1) Comparing Mechanisms\n",
    "\n",
    "There remains a surprising degree of uncertainty in even the simplest of kinetic mechanisms. In this part, you are asked\n",
    " to conduct simulations with three kinetic simulations and compare their results."
   ],
   "metadata": {
    "collapsed": false,
    "pycharm": {
     "name": "#%% md\n"
    }
   }
  },
  {
   "cell_type": "markdown",
   "source": [
    "The following cell initializes a dictionary of the paths to the three mechanisms you will use.\n",
    "It also demonstrates how to initialize `ct.Solution` objects using those paths and displays some details about the\n",
    " mechanisms.\n",
    "\n",
    "No change is needed in this cell, but the code it contains may help you think about how to implement future steps."
   ],
   "metadata": {
    "collapsed": false,
    "pycharm": {
     "name": "#%% md\n"
    }
   }
  },
  {
   "cell_type": "code",
   "execution_count": 45,
   "outputs": [
    {
     "name": "stdout",
     "output_type": "stream",
     "text": [
      "Stanford:   \t 10 Species\t31 Reactions\n",
      "GRI 3.0:    \t 53 Species\t325 Reactions\n",
      "FFCM-1:     \t 38 Species\t291 Reactions\n",
      "USC-Mech II:\t111 Species\t784 Reactions\n"
     ]
    }
   ],
   "source": [
    "'''No change needed in this cell'''\n",
    "\n",
    "mech_files = {'Stanford':os.path.abspath('../mechanisms/stanford-mech_v12.cti'),\n",
    "              'GRI 3.0':'gri30.cti',\n",
    "              'FFCM-1':os.path.abspath('../mechanisms/FFCM1.cti'),\n",
    "              'USC-Mech II':os.path.abspath('../mechanisms/USC_MechII.cti')}\n",
    "mech_list = list(mech_files.keys())\n",
    "\n",
    "for mech in mech_list:\n",
    "    gas = ct.Solution(mech_files[mech])\n",
    "    print(f'{mech + \":\":12s}\\t{gas.n_species:3.0f} Species\\t{gas.n_reactions} Reactions')"
   ],
   "metadata": {
    "collapsed": false,
    "pycharm": {
     "name": "#%%\n"
    }
   }
  },
  {
   "cell_type": "code",
   "execution_count": 46,
   "outputs": [],
   "source": [
    "'''No change needed in this cell, which defines a function to initialize a dictionary in which to store results'''\n",
    "\n",
    "def init_result_dict(gas: ct.Solution, species_of_interest='all') -> dict:\n",
    "    \"\"\"\n",
    "    Initializes and returns a dictionary formatted to store simulation results\n",
    "    :param gas: ct.Solution to be used in the simulation\n",
    "    :param species_of_interest: list of species to track, default 'all' to track all species in mechanism\n",
    "    :return result_dict: dictionary with empty lists for the time, temperature, and species of interest\n",
    "    \"\"\"\n",
    "    results = {'mechanism name':gas.name,\n",
    "              'time':[],\n",
    "               'T':[]}\n",
    "    if species_of_interest == 'all':\n",
    "        species_list = gas.species_names\n",
    "    else:\n",
    "        mech_species = gas.species_names\n",
    "        species_list = [sp for sp in species_of_interest if sp in mech_species]\n",
    "    for sp in species_list:\n",
    "        results[sp] = []\n",
    "    results['species_list'] = species_list\n",
    "    results['species_indices'] = np.array([gas.species_index(sp) for sp in species_list])\n",
    "    return results"
   ],
   "metadata": {
    "collapsed": false,
    "pycharm": {
     "name": "#%%\n"
    }
   }
  },
  {
   "cell_type": "markdown",
   "source": [
    "In the following cell, we can see the format of the dictionary we'll be using to store simulation results"
   ],
   "metadata": {
    "collapsed": false,
    "pycharm": {
     "name": "#%% md\n"
    }
   }
  },
  {
   "cell_type": "code",
   "execution_count": 43,
   "outputs": [
    {
     "data": {
      "text/plain": "{'mechanism name': 'gri30',\n 'time': [],\n 'T': [],\n 'H2': [],\n 'O2': [],\n 'OH': [],\n 'O': [],\n 'H': [],\n 'HO2': [],\n 'H2O2': [],\n 'species_list': ['H2', 'O2', 'OH', 'O', 'H', 'HO2', 'H2O2'],\n 'species_indices': array([0, 3, 4, 2, 1, 6, 7])}"
     },
     "execution_count": 43,
     "metadata": {},
     "output_type": "execute_result"
    }
   ],
   "source": [
    "'''No change needed in this cell'''\n",
    "\n",
    "gas = ct.Solution(mech_files['GRI 3.0'])\n",
    "init_result_dict(gas, species_of_interest=['H2', 'O2', 'OH', 'O', 'H', 'HO2', 'H2O2'])"
   ],
   "metadata": {
    "collapsed": false,
    "pycharm": {
     "name": "#%%\n"
    }
   }
  },
  {
   "cell_type": "markdown",
   "source": [
    "# a) In the cell below, set the state of the\n",
    "\n"
   ],
   "metadata": {
    "collapsed": false,
    "pycharm": {
     "name": "#%% md\n"
    }
   }
  },
  {
   "cell_type": "markdown",
   "source": [
    "Now, we assemble a reactor network to manage our simulations.\n",
    "To do this, we first make a Reactor from the Solution object, then placing the Reactor in a ReactorNetwork.\n",
    "\n",
    "Several types of zero-dimensional reactors are available in Cantera.\n",
    "Two main types you may be interested in are the constant-volume `ct.Reactor` and the constant-pressure\n",
    " `ct.ConstantPressureReactor`.\n",
    "In this assignment, all simulations will be run at constant pressure using the latter reactor type."
   ],
   "metadata": {
    "collapsed": false,
    "pycharm": {
     "name": "#%% md\n"
    }
   }
  },
  {
   "cell_type": "code",
   "execution_count": 44,
   "outputs": [],
   "source": [
    "# instantiate a reactor using the GRI 3.0 gas object defined above\n",
    "reactor = ct.ConstPressureReactor(gas)\n",
    "\n",
    "# instantiate a reactor network using our one and only reactor, which must be passed inside a list as an argument\n",
    "r_net = ct.ReactorNet([reactor])"
   ],
   "metadata": {
    "collapsed": false,
    "pycharm": {
     "name": "#%%\n"
    }
   }
  },
  {
   "cell_type": "markdown",
   "source": [
    "In order to run a kinetic simulation, we can `step` our reactor\n"
   ],
   "metadata": {
    "collapsed": false,
    "pycharm": {
     "name": "#%% md\n"
    }
   }
  }
 ],
 "metadata": {
  "kernelspec": {
   "name": "me362b",
   "language": "python",
   "display_name": "me362b"
  },
  "language_info": {
   "codemirror_mode": {
    "name": "ipython",
    "version": 2
   },
   "file_extension": ".py",
   "mimetype": "text/x-python",
   "name": "python",
   "nbconvert_exporter": "python",
   "pygments_lexer": "ipython2",
   "version": "2.7.6"
  }
 },
 "nbformat": 4,
 "nbformat_minor": 0
}
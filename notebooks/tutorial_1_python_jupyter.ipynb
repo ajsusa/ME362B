{
 "cells": [
  {
   "cell_type": "markdown",
   "metadata": {
    "collapsed": true,
    "pycharm": {
     "name": "#%% md\n"
    }
   },
   "source": [
    "# Tutorial #1: Python and Jupyter Notebooks\n",
    "\n",
    "__Motivation:__\n",
    "\n",
    "Later in this course, we will introduce and use the Cantera software package to perform detailed kinetic simulations.\n",
    "Cantera is an open-source software package available through both Matlab and Cantera implementations.\n",
    "We are aware many of you may have already gained experience with the Matlab implementation in ME 370A.\n",
    "However, given the unequal access to Matlab, and to provide the most unified and consistent learning experience\n",
    " possible, we will here teach using the open-source Python programming language.\n",
    "\n",
    "While some level of programming experience is expected by students in this course, Python-specific experience is not\n",
    " a prerequisite of the course.\n",
    "This tutorial will be the first of several that will introduce the commands and syntax necessary to complete the limited\n",
    " programming components of this course."
   ]
  },
  {
   "cell_type": "markdown",
   "metadata": {
    "pycharm": {
     "name": "#%% md\n"
    }
   },
   "source": [
    "## 1. Some Definitions:\n",
    "**What are Python, Jupyter Notebook, and Binder?**\n",
    "\n",
    "**Python** is an open-source, object-oriented programming language, freely usable and distributable for all uses,\n",
    " including commercial (so you will *always* have access to it!).\n",
    "It defines the rules and syntax we will use to implement programs and analysis and interface with Cantera.\n",
    "\n",
    "A **Jupyter Notebook** is web-based, interactive computational environment; this document is a Jupyter Notebook.\n",
    "A Jupyter Notebook consists of an ordered list of cells, each of which can contain text, code, or other content.\n",
    "A \"kernel\" defines the programming language environment used to interpret the code.\n",
    "You will get a feel for the Jupyter Notebook environment as we work through this tutorial.\n",
    "\n",
    "**Binder** is the service used to package and share the Jupyter Notebooks we will be using in this class.\n",
    "This service uses a configuration file, separate from the notebook files, to configure the notebook *kernel*, which\n",
    " is a copy of Python plus specified add-on packages.\n",
    "Binder then makes that kernel available in the cloud computing environment in which you now find yourself.\n",
    "Using a web-hosted service prevents you from having to download Python to your local computer and provides a consistent\n",
    " environment for everyone with minimal setup or effort."
   ]
  },
  {
   "cell_type": "markdown",
   "metadata": {
    "pycharm": {
     "name": "#%% md\n"
    }
   },
   "source": [
    "## 2. Defining variables and basic operations\n",
    "\n",
    "Unlike some other programming languages (but like Matlab) variables do not have to be declared or strongly\n",
    " *typed*.\n",
    "Variables are assigned to a name using a `=` sign.\n",
    "Variable names must begin with a letter or underscore and be of any length containing letters (`A-Z`, `a-z`),\n",
    " digits (`0-9`) and underscores (`_`).\n",
    "Python convention prefers variable (and function) names to be lowercase, with words separated by underscores to improve\n",
    " readability:\n",
    "[PEP-8 Style Guide: Function and Variable Names](https://www.python.org/dev/peps/pep-0008/#function-and-variable-names)\n",
    "\n",
    "### 2a. Numeric Values (and navigating Jupyter Notebooks)\n",
    "\n",
    "To start, let's define try assigning a variable and see what we get.\n",
    "\n",
    "To run a cell of code, either:\n",
    "  - Click the \"Run\" button next to the cell\n",
    "  - With the cursor in the cell, press CRTL + ENTER to run the cell and leave the cursor in place\n",
    "  - Press SHIFT + ENTER to run the cell and advance the cursor to the code-containing cell"
   ]
  },
  {
   "cell_type": "code",
   "execution_count": null,
   "metadata": {
    "pycharm": {
     "name": "#%%\n"
    }
   },
   "outputs": [],
   "source": [
    "x = 1"
   ]
  },
  {
   "cell_type": "markdown",
   "metadata": {
    "pycharm": {
     "name": "#%% md\n"
    }
   },
   "source": [
    "The cell above does not produce output.\n",
    "Assignment commands do not produce output in Jupyter Notebooks.\n",
    "\n",
    "If we want to display the variable value, we can use the `print` function:"
   ]
  },
  {
   "cell_type": "code",
   "execution_count": null,
   "metadata": {
    "pycharm": {
     "name": "#%%\n"
    }
   },
   "outputs": [],
   "source": [
    "print(x)"
   ]
  },
  {
   "cell_type": "markdown",
   "metadata": {
    "pycharm": {
     "name": "#%% md\n"
    }
   },
   "source": [
    "`print` is a built-in Python function, and this is an example of a typical function call in Python.\n",
    "The name of the function `print` is followed by parenthesis `( )` containing the arguments to be passed to the function.\n",
    "\n",
    "In Jupyter specifically, when the last line of a cell is not a variable assignment, the return value is printed to the\n",
    " output, which can be used to avoid the need of a `print` statement:"
   ]
  },
  {
   "cell_type": "code",
   "execution_count": null,
   "metadata": {
    "pycharm": {
     "name": "#%%\n"
    }
   },
   "outputs": [],
   "source": [
    "x"
   ]
  },
  {
   "cell_type": "markdown",
   "metadata": {
    "pycharm": {
     "name": "#%% md\n"
    }
   },
   "source": [
    "Alternatively, the automatic output can be suppressed using a terminal `;` to end the last line of code.\n",
    "The presence of terminal `;` for lines of code other than the last in cell have no effect and should not, in general,\n",
    " be used."
   ]
  },
  {
   "cell_type": "code",
   "execution_count": null,
   "metadata": {
    "pycharm": {
     "name": "#%%\n"
    }
   },
   "outputs": [],
   "source": [
    "x;"
   ]
  },
  {
   "cell_type": "markdown",
   "metadata": {
    "pycharm": {
     "name": "#%% md\n"
    }
   },
   "source": [
    "**Let's inspect our variable more closely**\n",
    "\n",
    "We can use the built-in `type` function to see the data type of our variable.\n",
    "This can be a valuable debugging tool to help identify when a variable is not of the type you expect."
   ]
  },
  {
   "cell_type": "code",
   "execution_count": null,
   "metadata": {
    "pycharm": {
     "name": "#%%\n"
    }
   },
   "outputs": [],
   "source": [
    "print(type(x))\n",
    "type(x)"
   ]
  },
  {
   "cell_type": "markdown",
   "metadata": {
    "pycharm": {
     "name": "#%% md\n"
    }
   },
   "source": [
    "Notice, in the above, the outputs of the nested `print(type(x))` function calls and letting `type(x)` print as the last\n",
    " line of a cell produce slightly different outputs.\n",
    "This occurs because the automatic output of the last line is not generated quite the same as having a `print` function\n",
    " called on it.\n",
    "\n",
    "What both outputs show (but the `print(type())` call shows a bit more clearly, so I will use that structure going\n",
    " forward), is that the variable x is an 'int', or more specifically, an instance of the 'int' (integer) class.\n",
    "\n",
    "Python itself includes only three numeric types: `int` (integers), `float` (floating-point numbers), and `complex`.\n",
    "When a variable is defined, as we did with `x`, Python will automatically infer what it believes to be the appropriate\n",
    " type for that value."
   ]
  },
  {
   "cell_type": "code",
   "execution_count": null,
   "metadata": {
    "pycharm": {
     "name": "#%%\n"
    }
   },
   "outputs": [],
   "source": [
    "y = 1.5\n",
    "print(type(y))"
   ]
  },
  {
   "cell_type": "code",
   "execution_count": null,
   "metadata": {
    "pycharm": {
     "name": "#%%\n"
    }
   },
   "outputs": [],
   "source": [
    "z = 1 + 1j\n",
    "print(type(z))"
   ]
  },
  {
   "cell_type": "markdown",
   "metadata": {
    "pycharm": {
     "name": "#%% md\n"
    }
   },
   "source": [
    "Some basic rules for how data types are defined are as follows:\n",
    "\n",
    "- `int` is used for numbers not containing a decimal point in their definition\n",
    "- `float` is used for numbers that either do contain a decimal point (even a trailing one) or are defined in scientific\n",
    " notation (see below)\n",
    "- `complex` is used for any number defined with a, imaginary component, which must be specified with either `j` or `J`"
   ]
  },
  {
   "cell_type": "code",
   "execution_count": null,
   "metadata": {
    "pycharm": {
     "name": "#%%\n"
    }
   },
   "outputs": [],
   "source": [
    "print(type(1))\n",
    "print(type(1.))\n",
    "print(type(1e0))"
   ]
  },
  {
   "cell_type": "markdown",
   "metadata": {
    "pycharm": {
     "name": "#%% md\n"
    }
   },
   "source": [
    "**Converting numeric data types**\n",
    "\n",
    "In some cases, you may need to manually convert a value from one data type to another.\n",
    "The following are examples of how this can be accomplished."
   ]
  },
  {
   "cell_type": "code",
   "execution_count": null,
   "metadata": {
    "pycharm": {
     "name": "#%%\n"
    }
   },
   "outputs": [],
   "source": [
    "x = 1\n",
    "print(x)\n",
    "print(type(x))\n",
    "y = float(x)\n",
    "print(y)\n",
    "print(type(y))"
   ]
  },
  {
   "cell_type": "markdown",
   "metadata": {
    "pycharm": {
     "name": "#%% md\n"
    }
   },
   "source": [
    "In the above example, we convert and `int` to a `float` by passing it as an argument to `float`.\n",
    "\n",
    "We can also convert the other way, from a `float` to an `int`:"
   ]
  },
  {
   "cell_type": "code",
   "execution_count": null,
   "metadata": {},
   "outputs": [],
   "source": [
    "x = 1.\n",
    "print(x)\n",
    "print(type(x))\n",
    "y = int(x)\n",
    "print(y)\n",
    "print(type(y))"
   ]
  },
  {
   "cell_type": "code",
   "execution_count": null,
   "metadata": {
    "pycharm": {
     "name": "#%%\n"
    }
   },
   "outputs": [],
   "source": [
    "x = 1.5\n",
    "print(x)\n",
    "print(type(x))\n",
    "y = int(x)\n",
    "print(y)\n",
    "print(type(y))"
   ]
  },
  {
   "cell_type": "code",
   "execution_count": null,
   "metadata": {},
   "outputs": [],
   "source": [
    "x = -1.5\n",
    "print(x)\n",
    "print(type(x))\n",
    "y = int(x)\n",
    "print(y)\n",
    "print(type(y))"
   ]
  },
  {
   "cell_type": "markdown",
   "metadata": {
    "pycharm": {
     "name": "#%% md\n"
    }
   },
   "source": [
    "Since the values 1.5 and -1.5 are not integers, they cannot be stored as an instance of one.\n",
    "The above examples illustrate that the `int` class handles this by truncating the decimal portion of the `float` value."
   ]
  },
  {
   "cell_type": "markdown",
   "metadata": {
    "pycharm": {
     "name": "#%% md\n"
    }
   },
   "source": [
    "**Arithmetic Operations**\n",
    "\n",
    "For the basic arithmetic operations, the operators `+`, `-`, `*`, `/`, `**` are used, regardless of the data type.\n",
    "Probably the only surprise here may be the use of `**` instead of `^` for raising to a power.\n",
    "\n",
    "If either of the values in an operation are `float` types, a `float` is returned.\n",
    "If both values are `int` type, an `int` is returned, except for division, where a `float` is returned even if the values\n",
    " divide to an even integer.\n",
    "This makes it very hard to accidentally perform integer division, but does mean sometimes you might end up with a\n",
    " `float` when you didn't expect."
   ]
  },
  {
   "cell_type": "code",
   "execution_count": null,
   "metadata": {
    "pycharm": {
     "name": "#%%\n"
    }
   },
   "outputs": [],
   "source": [
    "x = 6\n",
    "y = 2\n",
    "z = x * y\n",
    "print(z)\n",
    "print(type(z))"
   ]
  },
  {
   "cell_type": "code",
   "execution_count": null,
   "metadata": {
    "pycharm": {
     "name": "#%%\n"
    }
   },
   "outputs": [],
   "source": [
    "z = x / y\n",
    "print(z)\n",
    "print(type(z))"
   ]
  },
  {
   "cell_type": "code",
   "execution_count": null,
   "metadata": {
    "pycharm": {
     "name": "#%%\n"
    }
   },
   "outputs": [],
   "source": [
    "y = 4\n",
    "z = x / y\n",
    "print(z)\n",
    "print(type(z))"
   ]
  },
  {
   "cell_type": "code",
   "execution_count": null,
   "metadata": {
    "pycharm": {
     "name": "#%%\n"
    }
   },
   "outputs": [],
   "source": [
    "z = x ** y\n",
    "print(z)\n",
    "print(type(z))"
   ]
  },
  {
   "cell_type": "markdown",
   "metadata": {
    "pycharm": {
     "name": "#%% md\n"
    }
   },
   "source": [
    "**Integer Operations**\n",
    "\n",
    "For integer-specific operations, `//` is used for integer division and `%` is used as the modulus operator, both of\n",
    " which return values of type `int`."
   ]
  },
  {
   "cell_type": "code",
   "execution_count": null,
   "metadata": {
    "pycharm": {
     "name": "#%%\n"
    }
   },
   "outputs": [],
   "source": [
    "x = 5\n",
    "y = 3\n",
    "print(x // y)\n",
    "print(type(x // y))"
   ]
  },
  {
   "cell_type": "code",
   "execution_count": null,
   "metadata": {
    "pycharm": {
     "name": "#%%\n"
    }
   },
   "outputs": [],
   "source": [
    "print(x % y)\n",
    "print(type(x % y))"
   ]
  },
  {
   "cell_type": "markdown",
   "metadata": {},
   "source": [
    "You can also use `+=`, `-=`, `/=`, and `*=` operators between numeric values"
   ]
  },
  {
   "cell_type": "code",
   "execution_count": null,
   "metadata": {},
   "outputs": [],
   "source": [
    "x = 1\n",
    "x += 2.\n",
    "print(f'{x}')\n",
    "x -= 0.5\n",
    "print(f'{x}')\n",
    "x *= 3\n",
    "print(f'{x}')\n",
    "x /= 2\n",
    "print(f'{x}')"
   ]
  },
  {
   "cell_type": "markdown",
   "metadata": {
    "pycharm": {
     "name": "#%% md\n"
    }
   },
   "source": [
    "### 2b. Strings\n",
    "\n",
    "Let's look at defining and operating on string (`str`) variables.\n",
    "\n",
    "To define a string, we place the value of our string in single `' '` or double `\" \"` quotation marks."
   ]
  },
  {
   "cell_type": "code",
   "execution_count": null,
   "metadata": {
    "pycharm": {
     "name": "#%%\n"
    }
   },
   "outputs": [],
   "source": [
    "str1 = 'Hello, '\n",
    "\n",
    "print(str1)\n",
    "print(type(str1))"
   ]
  },
  {
   "cell_type": "code",
   "execution_count": null,
   "metadata": {
    "pycharm": {
     "name": "#%%\n"
    }
   },
   "outputs": [],
   "source": [
    "str2 = \"World!\"\n",
    "print(str2)\n",
    "print(type(str2))"
   ]
  },
  {
   "cell_type": "markdown",
   "metadata": {
    "pycharm": {
     "name": "#%% md\n"
    }
   },
   "source": [
    "Strings can be concatenated using the `+` operator."
   ]
  },
  {
   "cell_type": "code",
   "execution_count": null,
   "metadata": {
    "pycharm": {
     "name": "#%%\n"
    }
   },
   "outputs": [],
   "source": [
    "str1 + str2"
   ]
  },
  {
   "cell_type": "markdown",
   "metadata": {
    "pycharm": {
     "name": "#%% md\n"
    }
   },
   "source": [
    "We can convert between numeric and string types by passing the value to be converted as an argument to the desired type."
   ]
  },
  {
   "cell_type": "code",
   "execution_count": null,
   "metadata": {
    "pycharm": {
     "name": "#%%\n"
    }
   },
   "outputs": [],
   "source": [
    "x = 1\n",
    "str(x)"
   ]
  },
  {
   "cell_type": "code",
   "execution_count": null,
   "metadata": {
    "pycharm": {
     "name": "#%%\n"
    }
   },
   "outputs": [],
   "source": [
    "x = 1.\n",
    "str(x)"
   ]
  },
  {
   "cell_type": "code",
   "execution_count": null,
   "metadata": {
    "pycharm": {
     "name": "#%%\n"
    }
   },
   "outputs": [],
   "source": [
    "number_string = '7'\n",
    "float(number_string)"
   ]
  },
  {
   "cell_type": "markdown",
   "metadata": {
    "pycharm": {
     "name": "#%% md\n"
    }
   },
   "source": [
    "**Formatted (f) strings**\n",
    "\n",
    "The above cases show that passing a numeric value to `str` provides no real control over the formatting of the resulting\n",
    " string.\n",
    "Additionally, we often want to combine descriptive text with formatted numeric values to make meaningful outputs.\n",
    "For these uses and more, Python (since version 3.6) has f-strings.\n",
    "\n",
    "To specify an f-string instead of a regular string, a leading `f` is placed before the first quotation: `f' '` or\n",
    " `f\" \"`.\n",
    "Within the f-string, values to be formatted, along with an optional formatting specifier, is enclosed within `{ }`.\n",
    "Let's look at an example."
   ]
  },
  {
   "cell_type": "code",
   "execution_count": null,
   "metadata": {
    "pycharm": {
     "name": "#%%\n"
    }
   },
   "outputs": [],
   "source": [
    "x = 2 ** 0.5\n",
    "print(x)\n",
    "print(str(x))\n",
    "print(f'{x}')"
   ]
  },
  {
   "cell_type": "markdown",
   "metadata": {
    "pycharm": {
     "name": "#%% md\n"
    }
   },
   "source": [
    "In the above, we see how the f-string formatting can be applied to convert the value of x to a string, the same as\n",
    " passing it as an argument to `str` (or just printing `x`, which automatically converts it to a `str`).\n",
    "However, the f-string format provides an easy way to control the number formatting, by placing a format specifier inside\n",
    " the `{ }`, after the value to be formatted and a `:`."
   ]
  },
  {
   "cell_type": "code",
   "execution_count": null,
   "metadata": {
    "pycharm": {
     "name": "#%%\n"
    }
   },
   "outputs": [],
   "source": [
    "f'{x:.4f}'"
   ]
  },
  {
   "cell_type": "markdown",
   "metadata": {
    "pycharm": {
     "name": "#%% md\n"
    }
   },
   "source": [
    "In the example above, `.4f` specifies that 4 digits should appear after the decimal (`.4`), and that the number should\n",
    " be formatted as a float (`f`).\n",
    " \n",
    "The flexibility of f-strings goes much further than this, as we can also include additional text in the string and\n",
    " more than one formatted value."
   ]
  },
  {
   "cell_type": "code",
   "execution_count": null,
   "metadata": {
    "pycharm": {
     "name": "#%%\n"
    }
   },
   "outputs": [],
   "source": [
    "x = 3\n",
    "y = 1.5\n",
    "\n",
    "f'x = {x}, y = {y}'"
   ]
  },
  {
   "cell_type": "markdown",
   "metadata": {
    "pycharm": {
     "name": "#%% md\n"
    }
   },
   "source": [
    "You can evaluate expressions and functions within the brackets of an f-string."
   ]
  },
  {
   "cell_type": "code",
   "execution_count": null,
   "metadata": {
    "pycharm": {
     "name": "#%%\n"
    }
   },
   "outputs": [],
   "source": [
    "print(f'x = {x}\\ty = {y}\\nx + y = {x + y}\\n')\n",
    "\n",
    "print(f'x = {x}\\ty = {y}\\n'\n",
    "      f'x + y = {x + y}\\n')\n",
    "\n",
    "f'x = {x}\\ty = {y}\\nx + y = {x + y}'"
   ]
  },
  {
   "cell_type": "markdown",
   "metadata": {},
   "source": [
    "The examples above additionally use the tab `\\t` and newline `\\n` special characters to further control the print formatting.\n",
    "In the second example, you can see how a string can be broken up over two (or more) lines to improve readability.\n",
    "You will notice the special characters are only interpreted correctly within a  `print` functions, not using the\n",
    " last-line output functionality of the notebook.\n",
    "\n",
    "Non-numeric values can also be passed to the fields of an f-string."
   ]
  },
  {
   "cell_type": "code",
   "execution_count": null,
   "metadata": {
    "pycharm": {
     "name": "#%%\n"
    }
   },
   "outputs": [],
   "source": [
    "name = 'Joe'\n",
    "age = 26.\n",
    "print(f'{name} is {age:.0f} years old')"
   ]
  },
  {
   "cell_type": "code",
   "execution_count": null,
   "metadata": {
    "pycharm": {
     "name": "#%%\n"
    }
   },
   "outputs": [],
   "source": [
    "x = 4\n",
    "y = 2\n",
    "print(f'A {type(x)} divided by a {type(y)} returns a {type(x / y)}')"
   ]
  },
  {
   "cell_type": "markdown",
   "metadata": {
    "pycharm": {
     "name": "#%% md\n"
    }
   },
   "source": [
    "Additional details regarding f-strings, as well as alternative string formatting options available for Python versions\n",
    " prior to 3.6 can be found in the discussion [here at realpython.com](https://realpython.com/python-f-strings/#f-strings-a-new-and-improved-way-to-format-strings-in-python),\n",
    " among many other sources."
   ]
  },
  {
   "cell_type": "markdown",
   "metadata": {
    "pycharm": {
     "name": "#%% md\n"
    }
   },
   "source": [
    "### 2c. Booleans\n",
    "\n",
    "The last basic data type we will look at is the boolean `bool` type.\n",
    "\n",
    "`True` and `False` (capitalized) are booleans"
   ]
  },
  {
   "cell_type": "code",
   "execution_count": null,
   "metadata": {},
   "outputs": [],
   "source": [
    "print(f'{True} is a {type(True)}')\n",
    "print(f'{False} is also a {type(False)}')"
   ]
  },
  {
   "cell_type": "markdown",
   "metadata": {},
   "source": [
    "You can also define booleans using the integers `0` and `1`."
   ]
  },
  {
   "cell_type": "code",
   "execution_count": null,
   "metadata": {},
   "outputs": [],
   "source": [
    "b = 1\n",
    "print(f'{b} converts to boolean {bool(b)}')\n",
    "\n",
    "b = 0\n",
    "print(f'{b} converts to boolean {bool(b)}')"
   ]
  },
  {
   "cell_type": "markdown",
   "metadata": {},
   "source": [
    "But use caution using non-integer values to avoid unpredictable or unintended behavior"
   ]
  },
  {
   "cell_type": "code",
   "execution_count": null,
   "metadata": {},
   "outputs": [],
   "source": [
    "b = 1.\n",
    "print(f'{b:4.1f} converts to boolean {bool(b)}')\n",
    "\n",
    "b = 0.\n",
    "print(f'{b:4.1f} converts to boolean {bool(b)}')\n",
    "\n",
    "b = 0.1\n",
    "print(f'{b:4.1f} converts to boolean {bool(b)}')\n",
    "\n",
    "b = -1\n",
    "print(f'{b:4.1f} converts to boolean {bool(b)}')"
   ]
  },
  {
   "cell_type": "markdown",
   "metadata": {},
   "source": [
    "**Boolean Expressions**\n",
    "\n",
    "The boolean comparison operators are\n",
    "- `==` equals\n",
    "- `!=` not equal"
   ]
  },
  {
   "cell_type": "code",
   "execution_count": null,
   "metadata": {},
   "outputs": [],
   "source": [
    "print(f'5 == 5  is {5 == 5}')\n",
    "print(f'3 == 3. is {3 == 3.}')\n",
    "print(f'1 == 2  is {1 == 2}')\n",
    "print(f'1 != 2  is {1 != 2}')\n",
    "print(f'2 != 2  is {2 != 2}')"
   ]
  },
  {
   "cell_type": "markdown",
   "metadata": {},
   "source": [
    "- `<`, `>` less, greater than\n",
    "- `<=`, `>=` less, greater than or equal to"
   ]
  },
  {
   "cell_type": "code",
   "execution_count": null,
   "metadata": {},
   "outputs": [],
   "source": [
    "print(f'1 < 2   is {1 < 2}')\n",
    "print(f'1 > 2   is {1 > 2}')\n",
    "print(f'1 <= 2  is {1 <= 2}')\n",
    "print(f'1 >= 2  is {1 >= 2}')\n",
    "print(f'2 < 2   is {2 < 2}')\n",
    "print(f'2 <= 2  is {2 <= 2}')"
   ]
  },
  {
   "cell_type": "markdown",
   "metadata": {},
   "source": [
    "**Boolean Operators**\n",
    "\n",
    "Logical operators are the key words `and`, `or`, and `not`"
   ]
  },
  {
   "cell_type": "code",
   "execution_count": null,
   "metadata": {},
   "outputs": [],
   "source": [
    "print(f'{\"True and True\":20s}-> {True and True}')\n",
    "print(f'{\"True and False\":20s}-> {True and False}')\n",
    "print(f'{\"True or False\":20s}-> {True or False}')\n",
    "print(f'{\"not True\":20s}-> {not True}')\n",
    "print(f'{\"True and not False\":20s}-> {True and not False}')"
   ]
  },
  {
   "cell_type": "markdown",
   "metadata": {},
   "source": [
    "### 2d. Containers (lists and tuples)\n",
    "\n",
    "Two types of data containers are natively available in Python: lists and tuples.\n",
    "Both lists and tuples are ordered collections, in which each element may be of any data type.\n",
    "In this way, the closest Matlab equivalent of a list or tuple in Matlab is the 'cell arrays'.\n",
    "\n",
    "A list is declared using square brackets `[ <comma separated list of values> ]`\n",
    "\n",
    "A tuple is defined using round brackets `( <comma separated list of values> )`."
   ]
  },
  {
   "cell_type": "code",
   "execution_count": null,
   "metadata": {},
   "outputs": [],
   "source": [
    "fruit = ['apple', 'orange', 'banana', 'pear']\n",
    "print(f'fruit = {fruit} of data type {type(fruit)}')\n",
    "\n",
    "veggies = ('carrot', 'spinach', 'kale')\n",
    "print(f'veggies = {veggies} of data type {type(veggies)}')"
   ]
  },
  {
   "cell_type": "markdown",
   "metadata": {},
   "source": [
    "While often the case, the elements don't have to be of the same type:"
   ]
  },
  {
   "cell_type": "code",
   "execution_count": null,
   "metadata": {},
   "outputs": [],
   "source": [
    "mixed_collection = [1, 2.5, 'words', ('Hello,', 'World!', 7)]\n",
    "mixed_collection"
   ]
  },
  {
   "cell_type": "markdown",
   "metadata": {},
   "source": [
    "In the example above, the elements in the list are of types `int`, `float`, `str`, and `tuple`, respectively."
   ]
  },
  {
   "cell_type": "markdown",
   "metadata": {},
   "source": [
    "One useful property of lists and tuples is the length, which is accessed with the `len` function "
   ]
  },
  {
   "cell_type": "code",
   "execution_count": null,
   "metadata": {},
   "outputs": [],
   "source": [
    "print(len(fruit))\n",
    "print(len(veggies))"
   ]
  },
  {
   "cell_type": "markdown",
   "metadata": {},
   "source": [
    "**Adding elements to containers**\n",
    "\n",
    "The easiest way to add an element to a `list` or `tuple` is to concatenate using the `+` or `+=` operators, where the element after the operator is of the same type."
   ]
  },
  {
   "cell_type": "code",
   "execution_count": null,
   "metadata": {},
   "outputs": [],
   "source": [
    "fruit += ['watermelon']\n",
    "print(fruit)\n",
    "\n",
    "veggies += ('green beans',)\n",
    "print(veggies)"
   ]
  },
  {
   "cell_type": "markdown",
   "metadata": {},
   "source": [
    "In the example above, a trailing comma is needed in `('green beans',)` for Python to interpret the round brackets as a tuple definition instead of as parenthesis controlling execution order."
   ]
  },
  {
   "cell_type": "code",
   "execution_count": null,
   "metadata": {},
   "outputs": [],
   "source": [
    "a = ('no comma')\n",
    "print(f'{a} is of type {type(a)}')\n",
    "\n",
    "b = ('with comma',)\n",
    "print(f'{b} is of type {type(b)} with length {len(b)}')"
   ]
  },
  {
   "cell_type": "markdown",
   "metadata": {},
   "source": [
    "**Indexing**\n",
    "\n",
    "The elements of both lists and tuples (and characters within a string) can be accessed through indexing.\n",
    "When indexing, the index is place in square brackets `[ ]` after the container to be indexed;\n",
    "this prevents confusion between an indexing operation and a funtion call (which used round brackets `( )`.\n",
    "\n",
    "An important difference to recognize between Matlab and Python is that Python uses zero-based indexing, where the first element is accessed as element zero, NOT element 1.\n",
    "\n",
    "Indices must be of `int` type: `fruit[0]` returns 'apple' but `fruit[0.]` throws an error."
   ]
  },
  {
   "cell_type": "code",
   "execution_count": null,
   "metadata": {},
   "outputs": [],
   "source": [
    "print(fruit)\n",
    "fruit[0]"
   ]
  },
  {
   "cell_type": "markdown",
   "metadata": {},
   "source": [
    "Python also makes it easy to access elements starting from the end of an ordered collection. You can use negative index values to count backwards from the end, where `[-1]` returns the last element, and so on."
   ]
  },
  {
   "cell_type": "code",
   "execution_count": null,
   "metadata": {},
   "outputs": [],
   "source": [
    "print(veggies)\n",
    "veggies[-2]"
   ]
  },
  {
   "cell_type": "markdown",
   "metadata": {},
   "source": [
    "**Slicing**\n",
    "\n",
    "When you want to access more than one element of a collection, a slice can be used.\n",
    "\n",
    "A slice can be defined within square brackets following the format `[<start>:<end>:<step>]`\n",
    "\n",
    "`<start>`, `<end>`, and `<step>` are each optional integer arguements.\n",
    "- `<start>` specifies the first index to extract (inclusive). When not specified, slicing starts with the first element (equivalent to specifying `<start> = 0`\n",
    "- `<end>` specifies the last index to extract (exclusive). When not specified, slicing ends with the last element (equivalent to specifying `<end> = len(<collection>)`\n",
    "- `<step>` specifies the increment by which to advance the index (beginning with `<start>`)\n",
    "\n",
    "Let's look at some examples"
   ]
  },
  {
   "cell_type": "code",
   "execution_count": null,
   "metadata": {},
   "outputs": [],
   "source": [
    "print(f'{\"fruit\":12s} returns {fruit}')\n",
    "print(f'{\"fruit[:]\":12s} returns {fruit[:]}')\n",
    "print(f'{\"fruit[0:]\":12s} returns {fruit[0:]}')\n",
    "print(f'{\"fruit[:6]\":12s} returns {fruit[:6]}')\n",
    "print(f'{\"fruit[1:]\":12s} returns {fruit[1:]}')\n",
    "print(f'{\"fruit[:-1]\":12s} returns {fruit[:-1]}')\n",
    "print(f'{\"fruit[::]\":12s} returns {fruit[::]}')\n",
    "print(f'{\"fruit[::2]\":12s} returns {fruit[::2]}')\n",
    "print(f'{\"fruit[::-1]\":12s} returns {fruit[::-1]}')\n",
    "\n",
    "fruit[::-2]"
   ]
  },
  {
   "cell_type": "markdown",
   "metadata": {},
   "source": [
    "The primary difference between a `list` and `tuple` is that a `list` is mutable, meaning the values can be changed, wheras a `tuple` is immutable, meaning the values cannot be changed.\n",
    "\n",
    "Elements of a `list` can be reassigned using indexing and assignment:"
   ]
  },
  {
   "cell_type": "code",
   "execution_count": null,
   "metadata": {},
   "outputs": [],
   "source": [
    "print(fruit)\n",
    "fruit[0] = 'cucumber'\n",
    "print(fruit)"
   ]
  },
  {
   "cell_type": "markdown",
   "metadata": {},
   "source": [
    "Trying to change an element of a `tuple` will throw and error. Uncomment the line below (by deleting the leading `#`) to run the cell and see this."
   ]
  },
  {
   "cell_type": "code",
   "execution_count": null,
   "metadata": {},
   "outputs": [],
   "source": [
    "# veggies[0] = 'cucumber'"
   ]
  },
  {
   "cell_type": "markdown",
   "metadata": {},
   "source": [
    "**`in` operator**:\n",
    "\n",
    "When using collections, `in` can be used to write boolean expressions: "
   ]
  },
  {
   "cell_type": "code",
   "execution_count": null,
   "metadata": {},
   "outputs": [],
   "source": [
    "print(fruit)\n",
    "'orange' in fruit"
   ]
  },
  {
   "cell_type": "code",
   "execution_count": null,
   "metadata": {},
   "outputs": [],
   "source": [
    "print(veggies)\n",
    "not 'kale' in veggies"
   ]
  },
  {
   "cell_type": "code",
   "execution_count": null,
   "metadata": {},
   "outputs": [],
   "source": [
    "name = 'Sophie'\n",
    "'o' in name"
   ]
  },
  {
   "cell_type": "markdown",
   "metadata": {},
   "source": [
    "## 3. Control Flow\n",
    "\n",
    "In order to write complex yet flexible code, we need to be able to control the execution flow of our code.\n",
    "It is here assumed that students understand the basics of programmatic structures, and we primarily review only the Python syntax for standard flow-control programming structures.\n",
    "\n",
    "An important note is that whitespace is of the utmost importance in Python.\n",
    "Unlike Matlab, in which the indentation of lines is done purely for readability, Python requires those tab levels to identify where the scope of control-flow structures ends.\n",
    "With that, unlike Matlab, you will notice there are no `end` keywords in Python."
   ]
  },
  {
   "cell_type": "markdown",
   "metadata": {},
   "source": [
    "### 3a. If Statements\n",
    "\n",
    "If statements are defined as follows:\n",
    "\n",
    "```\n",
    "if [statement that evaluates to a boolean]:\n",
    "    [code to evaluate for the True case]\n",
    "    ...\n",
    "elif [second boolean condition to evaluate]:\n",
    "    [code to evaluate for the True case]\n",
    "    ...\n",
    "else:\n",
    "    [code to evaluate if no prior condition evaluated to True]\n",
    "    ...\n",
    "```\n",
    "\n",
    "Only the `if` line, terminated with a colon `:` and followed by an indented line of code, is required to constitute and \"if statement\";\n",
    "the `elif` and `else` lines are optional and should only be included if needed."
   ]
  },
  {
   "cell_type": "code",
   "execution_count": null,
   "metadata": {},
   "outputs": [],
   "source": [
    "if True:\n",
    "    print('The first condition was True')\n",
    "elif True:\n",
    "    print('The first condition was False but the second condition was True')\n",
    "else:\n",
    "    print('All conditions evaluated were False')"
   ]
  },
  {
   "cell_type": "markdown",
   "metadata": {},
   "source": [
    "Cases within a control-flow structure cannot be empty.\n",
    "To implement the functionality of an empty case, use the `pass` keyword"
   ]
  },
  {
   "cell_type": "code",
   "execution_count": null,
   "metadata": {},
   "outputs": [],
   "source": [
    "if False:\n",
    "    print('The first condition was True')\n",
    "elif True:\n",
    "    pass\n",
    "else:\n",
    "    print('All conditions evaluated were False')"
   ]
  },
  {
   "cell_type": "markdown",
   "metadata": {},
   "source": [
    "### 3b. For Loops\n",
    "\n",
    "The basic structure of the `for` loop is as follows:\n",
    "\n",
    "```\n",
    "for [iterator variable] in [interable object]:\n",
    "    [code to evaluate each iteration]\n",
    "    ...\n",
    "```\n",
    "\n",
    "Within loops, several additional keywords can be used:\n",
    "- `continue` skips the rest of the loop and begins the next iteration\n",
    "- `break` exits a loop\n",
    "\n",
    "One way to specify a `for` loop is using a `range`. This can be done either for when you know exactly how many iterations of the loop you want, or based on some variable/expression."
   ]
  },
  {
   "cell_type": "code",
   "execution_count": null,
   "metadata": {},
   "outputs": [],
   "source": [
    "for i in range(5):\n",
    "    print(i)"
   ]
  },
  {
   "cell_type": "markdown",
   "metadata": {},
   "source": [
    "There are two different behaviors of `range`, which are related to those of slices. We can get more information by looking at the documentation for `range`. This can be readily accessed within the Jupyter environment just by putting a `?` after the name of the thing (function, class, etc) for which you want to see the documention. "
   ]
  },
  {
   "cell_type": "code",
   "execution_count": null,
   "metadata": {},
   "outputs": [],
   "source": [
    "range?"
   ]
  },
  {
   "cell_type": "markdown",
   "metadata": {},
   "source": [
    "From this documentation, we see there are two versions of calling `range`.\n",
    "- When called with a single argument, that argument is treated as the (exclusive) stop index of the range, which starts at zero.\n",
    "- When called with two or three arguments, the first is the (inclusive) start, the second is the (exclusive) end, and the optional third is the increment\n",
    "Note that ranges are always sequences of integers, so the arguments must be of type `int`\n",
    "\n",
    "Converting a `range` to a `list` will readily display the indices produced by different combination `range` arguments.  "
   ]
  },
  {
   "cell_type": "code",
   "execution_count": null,
   "metadata": {},
   "outputs": [],
   "source": [
    "print(list(range(5)))\n",
    "print(list(range(2, 5)))\n",
    "print(list(range(1, 9, 2)))\n",
    "print(list(range(1, 5, -1)))\n",
    "print(list(range(5, 2, -1)))"
   ]
  },
  {
   "cell_type": "code",
   "execution_count": null,
   "metadata": {},
   "outputs": [],
   "source": [
    "for i in range(1, 6, 2):\n",
    "    print(i)"
   ]
  },
  {
   "cell_type": "markdown",
   "metadata": {},
   "source": [
    "With `for` loops, instead of looping an index over a range, it is often more convenient to directly loop over the items in some container. We can use the `in` keyword in the loop declaration to acheive this."
   ]
  },
  {
   "cell_type": "code",
   "execution_count": null,
   "metadata": {},
   "outputs": [],
   "source": [
    "for f in fruit:\n",
    "    print(f)"
   ]
  },
  {
   "cell_type": "markdown",
   "metadata": {},
   "source": [
    "The `enumerate` function can be used in a `for` loop to additionally provide the index of an item from a iterable container."
   ]
  },
  {
   "cell_type": "code",
   "execution_count": null,
   "metadata": {},
   "outputs": [],
   "source": [
    "for i, f in enumerate(fruit):\n",
    "    print(f'Fruit {i} is a {f}')"
   ]
  },
  {
   "cell_type": "markdown",
   "metadata": {},
   "source": [
    "The `zip` function can be used to simultaneously iterate over multiple iterable objects"
   ]
  },
  {
   "cell_type": "code",
   "execution_count": null,
   "metadata": {},
   "outputs": [],
   "source": [
    "for f, v in zip(fruit, veggies):\n",
    "    print(f'{f:10s} {v}')"
   ]
  },
  {
   "cell_type": "markdown",
   "metadata": {},
   "source": [
    "Note that, in the above example, when `zip` is used, only as many iterations as there are elements in the shortest iterable are performed. \n",
    "Since `len(fruit) = 5` and `len(veggies) = 4`, only 4 iterations are run and we never see the last element of `fruit`"
   ]
  },
  {
   "cell_type": "code",
   "execution_count": null,
   "metadata": {},
   "outputs": [],
   "source": [
    "# generate the first n_fib elements of the fibonacci sequence\n",
    "\n",
    "n_fib = 20\n",
    "fib = [1, 1] + (n_fib-2) * [0]\n",
    "print(fib)\n",
    "\n",
    "for i in range(2, n_fib):\n",
    "    fib[i] = fib[i-2] + fib[i-1]\n",
    "\n",
    "print(fib)"
   ]
  },
  {
   "cell_type": "markdown",
   "metadata": {},
   "source": [
    "### 3c. While Loops\n",
    "\n",
    "The basic structure of the `while` loop is as follows:\n",
    "\n",
    "```\n",
    "while [boolean expression]:\n",
    "    [code to evaluate each iteration]\n",
    "    ...\n",
    "```"
   ]
  },
  {
   "cell_type": "code",
   "execution_count": null,
   "metadata": {},
   "outputs": [],
   "source": [
    "i = 0\n",
    "while i < 5:\n",
    "    i += 1\n",
    "    print(f'Loop {i}')"
   ]
  },
  {
   "cell_type": "code",
   "execution_count": null,
   "metadata": {},
   "outputs": [],
   "source": [
    "# initialize index and list\n",
    "i = 2\n",
    "fib = [1, 1]\n",
    "\n",
    "# stop criteria\n",
    "n_fib = 10\n",
    "max_value = 100\n",
    "\n",
    "# run loop with compond stop condition\n",
    "while i < n_fib and fib[-1] < max_value:\n",
    "    fib += [fib[-2] + fib[-1]]\n",
    "    i += 1\n",
    "\n",
    "print(f'{fib} of length {len(fib)}')"
   ]
  },
  {
   "cell_type": "markdown",
   "metadata": {
    "pycharm": {
     "name": "#%% md\n"
    }
   },
   "source": [
    "## 4. Beyond the Basics\n",
    "\n",
    "Unlike Matlab, Python does not come with built-in functionality for many tasks, such as plotting or working with\n",
    "numeric arrays. In order to access additional functionality within Python, we \"import\" packages, which are simply\n",
    "collections of code, often developed and published as open-source projects.\n",
    "\n",
    "In this section, we will look specifically at the packages used for plotting (matplotlib) and working with arrays\n",
    "(numpy).\n",
    "\n",
    "Our next tutorial will introduce working with Cantera for chemical kinetic simulations, which you will be asked to use\n",
    "in Problem Set #5."
   ]
  },
  {
   "cell_type": "markdown",
   "source": [
    "### 4a. Importing a Package & Plotting (matplotlib)\n",
    "\n",
    "For the purpose of plotting, the most commonly used package is called \"matplotlib\", and specifically the \"pyplot\"\n",
    "module. Common functions, such as a \"plot\", are available through the \"pyplot\" module, which we import as follows:"
   ],
   "metadata": {
    "collapsed": false,
    "pycharm": {
     "name": "#%% md\n"
    }
   }
  },
  {
   "cell_type": "code",
   "execution_count": null,
   "outputs": [],
   "source": [
    "import matplotlib.pyplot as plt"
   ],
   "metadata": {
    "collapsed": false,
    "pycharm": {
     "name": "#%%\n"
    }
   }
  },
  {
   "cell_type": "markdown",
   "source": [
    "The code above consists of several important parts:\n",
    "* `import` is a keyword defining the line of code as a package import statement\n",
    "* `matplotlib.pyplot` is the name of the module to import. `matplotlib` is the name of the parent package and `.pyplot`\n",
    "defines that we only want to import the \"pyplot\" module. (This \"dot\" notation is common in Python)\n",
    "* `as` is a keyword for specifying a name to which to assign the module being imported\n",
    "* `plt` is the name we define for the module\n",
    "\n",
    "We can see the result of our import by inspecting `plt`"
   ],
   "metadata": {
    "collapsed": false,
    "pycharm": {
     "name": "#%% md\n"
    }
   }
  },
  {
   "cell_type": "code",
   "execution_count": null,
   "outputs": [],
   "source": [
    "print(type(plt))\n",
    "print(plt)"
   ],
   "metadata": {
    "collapsed": false,
    "pycharm": {
     "name": "#%%\n"
    }
   }
  },
  {
   "cell_type": "markdown",
   "source": [
    "In Jupyter, we can also use a `?` to access the documentation"
   ],
   "metadata": {
    "collapsed": false,
    "pycharm": {
     "name": "#%% md\n"
    }
   }
  },
  {
   "cell_type": "code",
   "execution_count": null,
   "outputs": [],
   "source": [
    "plt?"
   ],
   "metadata": {
    "collapsed": false,
    "pycharm": {
     "name": "#%%\n"
    }
   }
  },
  {
   "cell_type": "markdown",
   "source": [
    "The \"pyplot\" package gives us access to, among many other things, a function called \"plot\". This function is accessed\n",
    "using \"dot\" notation, as follows:\n",
    "`plt.plot`"
   ],
   "metadata": {
    "collapsed": false,
    "pycharm": {
     "name": "#%% md\n"
    }
   }
  },
  {
   "cell_type": "code",
   "execution_count": null,
   "outputs": [],
   "source": [
    "plt.plot?"
   ],
   "metadata": {
    "collapsed": false,
    "pycharm": {
     "name": "#%%\n"
    }
   }
  },
  {
   "cell_type": "markdown",
   "source": [
    "Let's define some x and y data to try some plotting."
   ],
   "metadata": {
    "collapsed": false,
    "pycharm": {
     "name": "#%% md\n"
    }
   }
  },
  {
   "cell_type": "code",
   "execution_count": null,
   "outputs": [],
   "source": [
    "y = [1, 2, 2, 1, 0, 1]\n",
    "x = [0, 1, 2, 4, 6, 7]\n",
    "\n",
    "print(x)\n",
    "print(y)"
   ],
   "metadata": {
    "collapsed": false,
    "pycharm": {
     "name": "#%%\n"
    }
   }
  },
  {
   "cell_type": "code",
   "execution_count": null,
   "outputs": [],
   "source": [
    "# providing only one input plots that input against index\n",
    "plt.plot(y)"
   ],
   "metadata": {
    "collapsed": false,
    "pycharm": {
     "name": "#%%\n"
    }
   }
  },
  {
   "cell_type": "code",
   "execution_count": null,
   "outputs": [],
   "source": [
    "# providing two inputs plots the data as x, y pairs\n",
    "plt.plot(x, y)"
   ],
   "metadata": {
    "collapsed": false,
    "pycharm": {
     "name": "#%%\n"
    }
   }
  },
  {
   "cell_type": "code",
   "execution_count": null,
   "outputs": [],
   "source": [
    "# we can also provide additional arguments, such as line style\n",
    "plt.plot(x, y, ':ob')"
   ],
   "metadata": {
    "collapsed": false,
    "pycharm": {
     "name": "#%%\n"
    }
   }
  },
  {
   "cell_type": "code",
   "execution_count": null,
   "outputs": [],
   "source": [
    "# we can also plot multiple lines, label them, show a legend, label axes, etc...\n",
    "\n",
    "z = [-i+1 for i in y]\n",
    "\n",
    "plt.plot(x, y, '.-k', label='Y data')\n",
    "plt.plot(x, z, 'o:r', label='Z data')\n",
    "\n",
    "plt.xlabel('Time')\n",
    "plt.ylabel('Signal')\n",
    "plt.title('Annotated Plot')\n",
    "plt.legend()"
   ],
   "metadata": {
    "collapsed": false,
    "pycharm": {
     "name": "#%%\n"
    }
   }
  },
  {
   "cell_type": "markdown",
   "source": [
    "### 4b. Using Arrays (numpy)\n",
    "\n",
    "While adequate for simple examples, lists quickly become cumbersome and computationally inefficient for performing\n",
    "complex mathematical operations. Fortunately, the \"numpy\" package provides an \"array\" object typle that is both\n",
    "convenient to work with and performs complex linear algebra operations in a computationally efficient manner.\n",
    "\n",
    "We import numpy as follows:"
   ],
   "metadata": {
    "collapsed": false,
    "pycharm": {
     "name": "#%% md\n"
    }
   }
  },
  {
   "cell_type": "code",
   "execution_count": null,
   "outputs": [],
   "source": [
    "import numpy as np"
   ],
   "metadata": {
    "collapsed": false,
    "pycharm": {
     "name": "#%%\n"
    }
   }
  },
  {
   "cell_type": "code",
   "execution_count": null,
   "outputs": [],
   "source": [
    "np?"
   ],
   "metadata": {
    "collapsed": false,
    "pycharm": {
     "name": "#%%\n"
    }
   }
  },
  {
   "cell_type": "markdown",
   "source": [
    "__Converting lists to arrays__\n",
    "\n",
    "The \"array\" is the important class provided by numpy. One way to define an array is to convert a list, as follows:"
   ],
   "metadata": {
    "collapsed": false,
    "pycharm": {
     "name": "#%% md\n"
    }
   }
  },
  {
   "cell_type": "code",
   "execution_count": null,
   "outputs": [],
   "source": [
    "print(y, type(y))\n",
    "ay = np.array(y)\n",
    "print(ay, type(ay))"
   ],
   "metadata": {
    "collapsed": false,
    "pycharm": {
     "name": "#%%\n"
    }
   }
  },
  {
   "cell_type": "markdown",
   "source": [
    "__Array Properties__\n",
    "\n",
    "The \"shape\", \"size\", and \"ndim\" properties of an array are accessed using dot notation, as `<variable name>.<property>`\n",
    "\n",
    "Note that unlike function or method calls, `()` are not needed with properties, and including them will return an error."
   ],
   "metadata": {
    "collapsed": false,
    "pycharm": {
     "name": "#%% md\n"
    }
   }
  },
  {
   "cell_type": "code",
   "execution_count": null,
   "outputs": [],
   "source": [
    "print(ay.shape)\n",
    "print(ay.size)\n",
    "print(ay.ndim)\n",
    "# ay.shape()  # this line produces an error, as '()' are not used with properties"
   ],
   "metadata": {
    "collapsed": false,
    "pycharm": {
     "name": "#%%\n"
    }
   }
  },
  {
   "cell_type": "markdown",
   "source": [
    "\"shape\" returns (as a tuple) the length of the array in each dimension.\n",
    "\n",
    "\"size\" returns the total number of elements in the array.\n",
    "\n",
    "\"ndim\" tells us the number of dimensions, which is equal to `len(<array>.shape)`"
   ],
   "metadata": {
    "collapsed": false,
    "pycharm": {
     "name": "#%% md\n"
    }
   }
  },
  {
   "cell_type": "markdown",
   "source": [
    "__Reshaping Arrays__\n",
    "\n",
    "The \"reshape\" method allows us to readily change the shape, dimensionality, or both of a numpy array. \"Reshape\" is a\n",
    "\"method\" of the array \"class\"; as such, it is called using dot notation on the array instance we want to reshape.\n",
    "\n",
    "The arguments of reshape are the size to which the array should be reshaped, in the order\n",
    "`<rows>, <columns>, <higher dimensions>`"
   ],
   "metadata": {
    "collapsed": false,
    "pycharm": {
     "name": "#%% md\n"
    }
   }
  },
  {
   "cell_type": "code",
   "execution_count": null,
   "outputs": [],
   "source": [
    "print(ay, '  of shape', ay.shape)\n",
    "ay2 = ay.reshape(1, ay.size)\n",
    "print(ay2, 'of shape', ay2.shape)"
   ],
   "metadata": {
    "collapsed": false,
    "pycharm": {
     "name": "#%%\n"
    }
   }
  },
  {
   "cell_type": "markdown",
   "source": [
    "The wildcard dimension `-1` can be used for any one dimension of a \"reshape\" call to specify that the size of the given\n",
    "dimension should be set as needed to appropriately fit all elements."
   ],
   "metadata": {
    "collapsed": false,
    "pycharm": {
     "name": "#%% md\n"
    }
   }
  },
  {
   "cell_type": "code",
   "execution_count": null,
   "outputs": [],
   "source": [
    "print(f'1D array: {ay}\\n')\n",
    "print(f'1D array: {ay.reshape(-1)}\\n')\n",
    "print(f'Row vector:\\n{ay.reshape(1, -1)}\\n')\n",
    "print(f'Column vector:\\n{ay.reshape(-1, 1)}\\n')\n",
    "print(f'2 x N array:\\n{ay.reshape(2, -1)}\\n')\n",
    "print(f'1 x N x 2 array:\\n{ay.reshape(1, -1, 2)}')"
   ],
   "metadata": {
    "collapsed": false,
    "pycharm": {
     "name": "#%%\n"
    }
   }
  },
  {
   "cell_type": "markdown",
   "source": [
    "__Initializing Arrays__\n",
    "\n",
    "Arrays can also be initialized to contain all zeros or ones, or to be empty (values not specified).\n",
    "\n",
    "For each of these calls, the first argument is the size of the array to be generated as a tuple (or int for 1D array).\n",
    "An optional second argument can be provided to explicitly define the data type for the array to be created.\n",
    "\n",
    "_Note_: Unlike lists, where each element can contain a different data type, all elements of an array must be of the same\n",
    "type, which can be defined with the `dtype` keyword argument."
   ],
   "metadata": {
    "collapsed": false,
    "pycharm": {
     "name": "#%% md\n"
    }
   }
  },
  {
   "cell_type": "code",
   "execution_count": null,
   "outputs": [],
   "source": [
    "print(np.zeros((2, 3), dtype='uint8'), '\\n')\n",
    "print(np.ones((4, 2), dtype='float'), '\\n')\n",
    "print(np.empty(3))"
   ],
   "metadata": {
    "collapsed": false,
    "pycharm": {
     "name": "#%%\n"
    }
   }
  },
  {
   "cell_type": "markdown",
   "source": [
    "Another useful way to initialize arrays is with `arange`, which returns an array of elements contained in an equivalent\n",
    "`range`:"
   ],
   "metadata": {
    "collapsed": false,
    "pycharm": {
     "name": "#%% md\n"
    }
   }
  },
  {
   "cell_type": "code",
   "execution_count": null,
   "outputs": [],
   "source": [
    "# you can convert a range to an array\n",
    "print(np.array(range(5)))\n",
    "print(np.array(range(10, 3, -2)))\n",
    "\n",
    "# but np.arange accomplishes the same thing\n",
    "print(np.arange(5))\n",
    "print(np.arange(10, 3, -2))"
   ],
   "metadata": {
    "collapsed": false,
    "pycharm": {
     "name": "#%%\n"
    }
   }
  },
  {
   "cell_type": "markdown",
   "source": [
    "__Array Slicing__\n",
    "\n",
    "Subsets of an array are accessed through slicing, using the same syntax as we learded for lists:"
   ],
   "metadata": {
    "collapsed": false,
    "pycharm": {
     "name": "#%% md\n"
    }
   }
  },
  {
   "cell_type": "code",
   "execution_count": null,
   "outputs": [],
   "source": [
    "f = np.arange(10)\n",
    "print(f'{\"f =\":10s} {f}')\n",
    "print(f'{\"f[3:] =\":10s} {f[3:]}')\n",
    "print(f'{\"f[:-4] =\":10s} {f[:-4]}')\n",
    "print(f'{\"f[::3] =\":10s} {f[::3]}')"
   ],
   "metadata": {
    "collapsed": false,
    "pycharm": {
     "name": "#%%\n"
    }
   }
  },
  {
   "cell_type": "markdown",
   "source": [
    "For multi-dimensional arrays, slices must be provided for each dimension.\n",
    "A colon `:` with no other arguments specifies to use all indices in that dimension.\n",
    "\n",
    "_Note:_ The exception is that if only one slice is given, it is applied to the first dimension."
   ],
   "metadata": {
    "collapsed": false,
    "pycharm": {
     "name": "#%% md\n"
    }
   }
  },
  {
   "cell_type": "code",
   "execution_count": null,
   "outputs": [],
   "source": [
    "g = np.arange(20).reshape(4, -1)\n",
    "print(f'{\"g =\":16s}\\n{g}\\n')\n",
    "print(f'{\"g[:2, :] =\":16s}\\n{g[:2, :]}\\n')\n",
    "print(f'{\"g[1:-1, ::2] =\":16s}\\n{g[1:-1, ::2]}\\n')\n",
    "\n",
    "\n",
    "print(f'{\"g[::-1] =\":16s}\\n{g[::-1]}\\n')\n",
    "print(f'{\"g[::-1, :] =\":16s}\\n{g[::-1, :]}\\n')\n",
    "print(f'{\"g[:, ::-1] =\":16s}\\n{g[:, ::-1]}\\n')"
   ],
   "metadata": {
    "collapsed": false,
    "pycharm": {
     "name": "#%%\n"
    }
   }
  },
  {
   "cell_type": "markdown",
   "source": [
    "Arrays can also be indexed by passing an array of either booleans (boolean indexing) or integers.\n",
    "We'll see this in the next two sections."
   ],
   "metadata": {
    "collapsed": false,
    "pycharm": {
     "name": "#%% md\n"
    }
   }
  },
  {
   "cell_type": "markdown",
   "source": [
    "__Boolean Indexing__\n",
    "\n",
    "A boolean array of the same size as the array to be indexed can be passed as an index.\n",
    "The return of boolean indexing is a 1D array of elements for which the boolean values are `True`."
   ],
   "metadata": {
    "collapsed": false,
    "pycharm": {
     "name": "#%% md\n"
    }
   }
  },
  {
   "cell_type": "code",
   "execution_count": null,
   "outputs": [],
   "source": [
    "print(f'{\"g =\":16s}\\n{g}\\n')\n",
    "print(f'{\"g < 8 = \":16s}\\n{g < 8}\\n')\n",
    "print(f'{\"g[g < 8] = \":16s}\\n{g[g < 8]}\\n')\n",
    "print(f'{\"g[np.bitwise_not(g < 8)] = \":16s}\\n{g[np.bitwise_not(g < 8)]}\\n')"
   ],
   "metadata": {
    "collapsed": false,
    "pycharm": {
     "name": "#%%\n"
    }
   }
  },
  {
   "cell_type": "markdown",
   "source": [
    "__Sorting Arrays & Integer Indexing__\n",
    "\n",
    "It is common to want to sort the elements of an array. For this purpose, several methods are provided:\n",
    "\n",
    "`np.sort` directly returns a sorted version of an array\n",
    "\n",
    "`np.argsort` returns an array of indices that can be used to sort an array"
   ],
   "metadata": {
    "collapsed": false,
    "pycharm": {
     "name": "#%% md\n"
    }
   }
  },
  {
   "cell_type": "code",
   "execution_count": null,
   "outputs": [],
   "source": [
    "r = np.random.randint(0, 100, 10)\n",
    "print(f'{\"r =\":16s}{r}\\n')\n",
    "\n",
    "print(f'{\"np.sort(r) =\":16s}{np.sort(r)}\\n')\n",
    "\n",
    "print(f'{\"r.sort() returns \":16s}{r.sort()}')\n",
    "print(f'{\"r =\":16s}{r}\\n')"
   ],
   "metadata": {
    "collapsed": false,
    "pycharm": {
     "name": "#%%\n"
    }
   }
  },
  {
   "cell_type": "code",
   "execution_count": null,
   "outputs": [],
   "source": [
    "r = np.random.randint(0, 100, 10)\n",
    "print(f'{\"r =\":18s}{r}\\n')\n",
    "\n",
    "print(f'{\"np.argsort(r) =\":18s}{np.argsort(r)}\\n')\n",
    "\n",
    "print(f'{\"r.argsort() =\":18s}{r.argsort()}\\n')\n",
    "\n",
    "print(f'{\"np.sort(r) =\":18s}{np.sort(r)}\\n')\n",
    "\n",
    "print(f'{\"r[r.argsort()] = \":18s}{r[r.argsort()]}\\n')"
   ],
   "metadata": {
    "collapsed": false,
    "pycharm": {
     "name": "#%%\n"
    }
   }
  },
  {
   "cell_type": "markdown",
   "source": [
    "Using `argsort` to get the indices required to sort an array is useful when you want to sort one set of items based on\n",
    "another.\n",
    "For example, let's assume we had a score for each item in our `fruit` list, and we wanted to order the fruit list from\n",
    "high to low score."
   ],
   "metadata": {
    "collapsed": false,
    "pycharm": {
     "name": "#%% md\n"
    }
   }
  },
  {
   "cell_type": "code",
   "execution_count": null,
   "outputs": [],
   "source": [
    "print(f'fruit = {fruit}')\n",
    "\n",
    "scores = np.random.randint(0, 100, len(fruit))  # randomly generate a score for each fruit\n",
    "is_watermelon = np.array([True if f == 'watermelon' else False for f in fruit])\n",
    "print(f'is_watermelon = {is_watermelon}')\n",
    "scores[is_watermelon] = 100\n",
    "print(f'scores = {scores}')\n",
    "\n",
    "print(f'\\nUnsorted Scores:\\n'\n",
    "      f'{\"Fruit\":14s}{\"Score\"}')\n",
    "for f, s in zip(fruit, scores):\n",
    "    print(f'  {f:12s}{s:4.0f}')\n",
    "\n",
    "isort = scores.argsort()[::-1]\n",
    "print(f'\\nisort = scores.argsort()[::-1] = {isort}')\n",
    "\n",
    "# There are now a couple ways we can work with this\n",
    "\n",
    "# We could iterate over the sorted indices\n",
    "print(f'\\nSorted Scores:\\n'\n",
    "      f'{\"Fruit\":14s}{\"Score\"}')\n",
    "for i in isort:\n",
    "    print(f'  {fruit[i]:12s}{scores[i]:4.0f}')\n",
    "\n",
    "# We could also reasign the arrays to be sorted\n",
    "# sorted_fruit = fruit[isort]  # you cannot use integer indexing on a list...\n",
    "sorted_fruit = np.array(fruit)[isort]  # ...so we first convert it to an array\n",
    "sorted_scores = scores[isort]\n",
    "\n",
    "print(f'\\nSorted Scores:\\n'\n",
    "      f'{\"Fruit\":14s}{\"Score\"}')\n",
    "for f, s in zip(sorted_fruit, sorted_scores):\n",
    "    print(f'  {f:12s}{s:4.0f}')"
   ],
   "metadata": {
    "collapsed": false,
    "pycharm": {
     "name": "#%%\n"
    }
   }
  },
  {
   "cell_type": "markdown",
   "source": [
    "__Math with Arrays__\n",
    "\n",
    "While lists and tuples do not support mathematical operations, arrays do!"
   ],
   "metadata": {
    "collapsed": false,
    "pycharm": {
     "name": "#%% md\n"
    }
   }
  },
  {
   "cell_type": "code",
   "execution_count": null,
   "outputs": [],
   "source": [
    "print(f'{\"x:\":20s}', x, type(x))\n",
    "print(f'{\"y:\":20s}', y, type(y), '\\n')\n",
    "\n",
    "ax, ay = np.array(x), np.array(y)\n",
    "print(f'{\"ax = np.array(x):\":20s}', ax, type(ax))\n",
    "print(f'{\"ay = np.array(y):\":20s}', ay, type(ay), '\\n')\n",
    "\n",
    "'''addition'''\n",
    "\n",
    "# adding lists results in concatenation\n",
    "print(f'{\"x + y:\":20s}', x + y, type(x+y), '\\n')\n",
    "\n",
    "# adding arrays results in element-wise addition\n",
    "az = ax + ay\n",
    "print(f'{\"ax + ay:\":20s}', az, type(az))"
   ],
   "metadata": {
    "collapsed": false,
    "pycharm": {
     "name": "#%%\n"
    }
   }
  },
  {
   "cell_type": "code",
   "execution_count": null,
   "outputs": [],
   "source": [
    "'''subtraction'''\n",
    "\n",
    "# subtraction of lists not supported (throws error)\n",
    "# print(f'{\"x - y:\":20s}', x - y, type(x-y), '\\n')\n",
    "\n",
    "# subtracting arrays results in element-wise subtraction\n",
    "az = ax - ay\n",
    "print(f'{\"ax - ay:\":20s}', az, type(az))"
   ],
   "metadata": {
    "collapsed": false,
    "pycharm": {
     "name": "#%%\n"
    }
   }
  },
  {
   "cell_type": "code",
   "execution_count": null,
   "outputs": [],
   "source": [
    "'''multiplication'''\n",
    "\n",
    "# multiplication of lists not supported (throws error)\n",
    "# print(f'{\"x * y:\":20s}', x * y, type(x*y), '\\n')\n",
    "\n",
    "# multiplication of arrays occurs element-wise\n",
    "az = ax * ay\n",
    "print(f'{\"ax * ay:\":20s}', az, type(az))"
   ],
   "metadata": {
    "collapsed": false,
    "pycharm": {
     "name": "#%%\n"
    }
   }
  },
  {
   "cell_type": "code",
   "execution_count": null,
   "outputs": [],
   "source": [
    "'''division'''\n",
    "\n",
    "# division of lists not supported (throws error)\n",
    "# print(f'{\"x / y:\":20s}', x / y, type(x/y), '\\n')\n",
    "\n",
    "# division of arrays occurs element-wise\n",
    "az = ax / ay\n",
    "print(f'{\"ax / ay:\":20s}', az, type(az))"
   ],
   "metadata": {
    "collapsed": false,
    "pycharm": {
     "name": "#%%\n"
    }
   }
  },
  {
   "cell_type": "markdown",
   "source": [
    "We'll only use element-wise operations, but matrix operations are also supported."
   ],
   "metadata": {
    "collapsed": false,
    "pycharm": {
     "name": "#%% md\n"
    }
   }
  },
  {
   "cell_type": "code",
   "execution_count": null,
   "outputs": [],
   "source": [
    "'''dot product'''\n",
    "\n",
    "az = np.dot(ax, ay)\n",
    "print(f'{\"np.dot(ax, ay):\":20s}', az, type(az))\n",
    "\n",
    "az = ax.dot(ay)\n",
    "print(f'{\"ax.dot(ay):\":20s}', az, type(az))\n",
    "\n",
    "az = ax @ ay\n",
    "print(f'{\"ax @ ay:\":20s}', az, type(az))"
   ],
   "metadata": {
    "collapsed": false,
    "pycharm": {
     "name": "#%%\n"
    }
   }
  },
  {
   "cell_type": "code",
   "execution_count": null,
   "outputs": [],
   "source": [
    "'''dot product'''\n",
    "\n",
    "ax = ax.reshape(-1, 1)\n",
    "ay = ay.reshape(1, -1)\n",
    "\n",
    "print(f'{\"ax = ax.reshape(1, -1):\":20s}\\n', ax, type(ax), '\\n')\n",
    "print(f'{\"ay = ay.reshape(-1, 1):\":20s}\\n', ay, type(ay), '\\n')\n",
    "\n",
    "az = np.matmul(ax, ay)\n",
    "print(f'{\"np.matmul(ax, ay):\":20s}', '\\n', az, '\\n', type(az), '\\n')\n",
    "\n",
    "az = np.dot(ax, ay)\n",
    "print(f'{\"np.dot(ax, ay):\":20s}', '\\n', az, '\\n', type(az), '\\n')\n",
    "\n",
    "az = ax.dot(ay)\n",
    "print(f'{\"ax.dot(ay):\":20s}', '\\n', az, '\\n', type(az), '\\n')\n",
    "\n",
    "az = ax @ ay\n",
    "print(f'{\"ax @ ay:\":20s}', '\\n', az, '\\n', type(az), '\\n')"
   ],
   "metadata": {
    "collapsed": false,
    "pycharm": {
     "name": "#%%\n"
    }
   }
  },
  {
   "cell_type": "code",
   "execution_count": null,
   "outputs": [],
   "source": [
    "'''dot product cont.'''\n",
    "\n",
    "az = np.matmul(ay, ax)\n",
    "print(f'{\"np.matmul(ay, ax):\":20s}\\n', az, type(az))\n",
    "\n",
    "# az = np.dot(ay, ax)\n",
    "# print(f'{\"np.dot(ay, ax):\":20s}\\n', az, type(az))\n",
    "\n",
    "# az = ay.dot(ax)\n",
    "# print(f'{\"ay.dot(ax):\":20s}\\n', az, type(az))\n",
    "\n",
    "# az = ay @ ax\n",
    "# print(f'{\"ay @ ax:\":20s}\\n', az, type(az))"
   ],
   "metadata": {
    "collapsed": false,
    "pycharm": {
     "name": "#%%\n"
    }
   }
  },
  {
   "cell_type": "code",
   "execution_count": null,
   "outputs": [],
   "source": [
    "'''inner products'''\n",
    "\n",
    "# np.inner(ax, ay)  # throws error\n",
    "np.inner(ax.reshape(-1), ay.reshape(-1))\n",
    "# np.inner(ax.reshape(1, -1), ay.reshape(1, -1))\n",
    "# np.inner(ax.reshape(-1, 1), ay.reshape(-1, 1))"
   ],
   "metadata": {
    "collapsed": false,
    "pycharm": {
     "name": "#%%\n"
    }
   }
  },
  {
   "cell_type": "code",
   "execution_count": null,
   "outputs": [],
   "source": [
    "'''outer products'''\n",
    "\n",
    "np.outer(ax, ay)\n",
    "# np.outer(ax.reshape(-1), ay.reshape(-1))\n",
    "# np.outer(ax.reshape(1, -1), ay.reshape(1, -1))\n",
    "# np.outer(ax.reshape(-1, 1), ay.reshape(-1, 1))\n"
   ],
   "metadata": {
    "collapsed": false,
    "pycharm": {
     "name": "#%%\n"
    }
   }
  }
 ],
 "metadata": {
  "kernelspec": {
   "display_name": "me362b",
   "language": "python",
   "name": "me362b"
  },
  "language_info": {
   "codemirror_mode": {
    "name": "ipython",
    "version": 3
   },
   "file_extension": ".py",
   "mimetype": "text/x-python",
   "name": "python",
   "nbconvert_exporter": "python",
   "pygments_lexer": "ipython3",
   "version": "3.7.9"
  }
 },
 "nbformat": 4,
 "nbformat_minor": 1
}